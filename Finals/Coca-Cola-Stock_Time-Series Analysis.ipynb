{
 "cells": [
  {
   "cell_type": "code",
   "execution_count": 133,
   "id": "01cd50f1",
   "metadata": {},
   "outputs": [],
   "source": [
    "import numpy as np # linear algebra\n",
    "import pandas as pd # data processing, CSV file I/O (e.g. pd.read_csv)"
   ]
  },
  {
   "cell_type": "code",
   "execution_count": 134,
   "id": "d6f4f773",
   "metadata": {},
   "outputs": [
    {
     "data": {
      "text/plain": [
       "(15311, 9)"
      ]
     },
     "execution_count": 134,
     "metadata": {},
     "output_type": "execute_result"
    }
   ],
   "source": [
    "df = pd.read_csv(\"Coca-Cola_stock_history.csv\")\n",
    "df.Date = pd.to_datetime(df.Date, dayfirst=True)\n",
    "df.shape"
   ]
  },
  {
   "cell_type": "code",
   "execution_count": 135,
   "id": "97ec353b",
   "metadata": {},
   "outputs": [],
   "source": [
    "import matplotlib.pyplot as plt\n",
    "import seaborn as sns\n",
    "sns.set_style('whitegrid')\n",
    "plt.style.use(\"fivethirtyeight\")\n",
    "%matplotlib inline\n",
    "\n",
    "# For time stamps\n",
    "from datetime import datetime\n",
    "# Set up End and Start times for data grab\n",
    "end = datetime.now()\n",
    "start = datetime(end.year - 1, end.month, end.day)"
   ]
  },
  {
   "cell_type": "code",
   "execution_count": null,
   "id": "4c702846",
   "metadata": {},
   "outputs": [],
   "source": []
  },
  {
   "cell_type": "code",
   "execution_count": 136,
   "id": "e18b094c",
   "metadata": {},
   "outputs": [],
   "source": [
    "from tensorflow import keras\n",
    "from sklearn.preprocessing import MinMaxScaler\n",
    "from sklearn.model_selection import train_test_split\n",
    "from sklearn.metrics import mean_squared_error, r2_score, mean_absolute_error\n",
    "%matplotlib inline\n",
    "\n",
    "from sklearn.preprocessing import MinMaxScaler\n",
    "from sklearn.model_selection import cross_val_score\n",
    "from sklearn.tree import DecisionTreeClassifier\n",
    "from keras.models import Sequential\n",
    "from keras.layers import Dense, LSTM\n",
    "import math\n",
    "\n",
    "from keras.models import Sequential # Create Model\n",
    "from keras.layers import Dense # Neurons\n",
    "from keras.layers import LSTM # Long Short Term Memory\n",
    "from sklearn.preprocessing import MinMaxScaler # Normalize\n",
    "from sklearn.metrics import mean_squared_error # Loss Function\n",
    "from sklearn.model_selection import train_test_split"
   ]
  },
  {
   "cell_type": "code",
   "execution_count": 137,
   "id": "a05ef2ae",
   "metadata": {},
   "outputs": [
    {
     "data": {
      "text/html": [
       "<div>\n",
       "<style scoped>\n",
       "    .dataframe tbody tr th:only-of-type {\n",
       "        vertical-align: middle;\n",
       "    }\n",
       "\n",
       "    .dataframe tbody tr th {\n",
       "        vertical-align: top;\n",
       "    }\n",
       "\n",
       "    .dataframe thead th {\n",
       "        text-align: right;\n",
       "    }\n",
       "</style>\n",
       "<table border=\"1\" class=\"dataframe\">\n",
       "  <thead>\n",
       "    <tr style=\"text-align: right;\">\n",
       "      <th></th>\n",
       "      <th>Open</th>\n",
       "      <th>High</th>\n",
       "      <th>Low</th>\n",
       "      <th>Close</th>\n",
       "      <th>Volume</th>\n",
       "      <th>Dividends</th>\n",
       "      <th>Stock Splits</th>\n",
       "    </tr>\n",
       "    <tr>\n",
       "      <th>Date</th>\n",
       "      <th></th>\n",
       "      <th></th>\n",
       "      <th></th>\n",
       "      <th></th>\n",
       "      <th></th>\n",
       "      <th></th>\n",
       "      <th></th>\n",
       "    </tr>\n",
       "  </thead>\n",
       "  <tbody>\n",
       "    <tr>\n",
       "      <th>02/01/1962</th>\n",
       "      <td>0.050016</td>\n",
       "      <td>0.051378</td>\n",
       "      <td>0.050016</td>\n",
       "      <td>0.050016</td>\n",
       "      <td>806400</td>\n",
       "      <td>0.0</td>\n",
       "      <td>0</td>\n",
       "    </tr>\n",
       "    <tr>\n",
       "      <th>03/01/1962</th>\n",
       "      <td>0.049273</td>\n",
       "      <td>0.049273</td>\n",
       "      <td>0.048159</td>\n",
       "      <td>0.048902</td>\n",
       "      <td>1574400</td>\n",
       "      <td>0.0</td>\n",
       "      <td>0</td>\n",
       "    </tr>\n",
       "    <tr>\n",
       "      <th>04/01/1962</th>\n",
       "      <td>0.049026</td>\n",
       "      <td>0.049645</td>\n",
       "      <td>0.049026</td>\n",
       "      <td>0.049273</td>\n",
       "      <td>844800</td>\n",
       "      <td>0.0</td>\n",
       "      <td>0</td>\n",
       "    </tr>\n",
       "    <tr>\n",
       "      <th>05/01/1962</th>\n",
       "      <td>0.049273</td>\n",
       "      <td>0.049892</td>\n",
       "      <td>0.048035</td>\n",
       "      <td>0.048159</td>\n",
       "      <td>1420800</td>\n",
       "      <td>0.0</td>\n",
       "      <td>0</td>\n",
       "    </tr>\n",
       "    <tr>\n",
       "      <th>08/01/1962</th>\n",
       "      <td>0.047787</td>\n",
       "      <td>0.047787</td>\n",
       "      <td>0.046735</td>\n",
       "      <td>0.047664</td>\n",
       "      <td>2035200</td>\n",
       "      <td>0.0</td>\n",
       "      <td>0</td>\n",
       "    </tr>\n",
       "  </tbody>\n",
       "</table>\n",
       "</div>"
      ],
      "text/plain": [
       "                Open      High       Low     Close   Volume  Dividends  \\\n",
       "Date                                                                     \n",
       "02/01/1962  0.050016  0.051378  0.050016  0.050016   806400        0.0   \n",
       "03/01/1962  0.049273  0.049273  0.048159  0.048902  1574400        0.0   \n",
       "04/01/1962  0.049026  0.049645  0.049026  0.049273   844800        0.0   \n",
       "05/01/1962  0.049273  0.049892  0.048035  0.048159  1420800        0.0   \n",
       "08/01/1962  0.047787  0.047787  0.046735  0.047664  2035200        0.0   \n",
       "\n",
       "            Stock Splits  \n",
       "Date                      \n",
       "02/01/1962             0  \n",
       "03/01/1962             0  \n",
       "04/01/1962             0  \n",
       "05/01/1962             0  \n",
       "08/01/1962             0  "
      ]
     },
     "execution_count": 137,
     "metadata": {},
     "output_type": "execute_result"
    }
   ],
   "source": [
    "df.drop(df.columns[[0]], axis = 1, inplace = True)\n",
    "df.rename(columns={'Converted Date': 'Date'}, inplace=True)\n",
    "df.set_index('Date',inplace=True)\n",
    "df.head()"
   ]
  },
  {
   "cell_type": "code",
   "execution_count": 138,
   "id": "a792f72b",
   "metadata": {},
   "outputs": [],
   "source": [
    "scale = MinMaxScaler()\n",
    "scalled = scale.fit_transform(df)\n",
    "i = 0\n",
    "for col in df.columns:\n",
    "    df[col] = scalled[:,i]\n",
    "    i += 1"
   ]
  },
  {
   "cell_type": "code",
   "execution_count": 182,
   "id": "b1453ff0",
   "metadata": {},
   "outputs": [
    {
     "ename": "AttributeError",
     "evalue": "'numpy.ndarray' object has no attribute 'describe'",
     "output_type": "error",
     "traceback": [
      "\u001b[1;31m---------------------------------------------------------------------------\u001b[0m",
      "\u001b[1;31mAttributeError\u001b[0m                            Traceback (most recent call last)",
      "Cell \u001b[1;32mIn[182], line 1\u001b[0m\n\u001b[1;32m----> 1\u001b[0m df\u001b[38;5;241m.\u001b[39mdescribe()\n",
      "\u001b[1;31mAttributeError\u001b[0m: 'numpy.ndarray' object has no attribute 'describe'"
     ]
    }
   ],
   "source": [
    "df.describe()"
   ]
  },
  {
   "cell_type": "code",
   "execution_count": 140,
   "id": "35728049",
   "metadata": {},
   "outputs": [],
   "source": [
    "x, y = df.drop('Stock Splits', axis=1), df['Stock Splits']"
   ]
  },
  {
   "cell_type": "code",
   "execution_count": 141,
   "id": "610ceb6f",
   "metadata": {},
   "outputs": [
    {
     "data": {
      "text/plain": [
       "12249"
      ]
     },
     "execution_count": 141,
     "metadata": {},
     "output_type": "execute_result"
    }
   ],
   "source": [
    "data = df.filter(['Close'])\n",
    "dataset = data.values #convert the data frame to a numpy array\n",
    "training_data_len = math.ceil(len(dataset)*.8)  # number of rows to train the model on\n",
    "training_data_len"
   ]
  },
  {
   "cell_type": "code",
   "execution_count": 142,
   "id": "72ffdf1a",
   "metadata": {},
   "outputs": [
    {
     "name": "stdout",
     "output_type": "stream",
     "text": [
      "[array([0.00019913, 0.00018205, 0.00018774, 0.00017066, 0.00016307,\n",
      "       0.00017635, 0.00018015, 0.00018774, 0.00018205, 0.00017446,\n",
      "       0.00016117, 0.00013839, 0.00012416, 0.00014599, 0.00015168,\n",
      "       0.00013649, 0.0001289 , 0.00012321, 0.00011561, 0.00011561,\n",
      "       0.00011277, 0.00014029, 0.00014599, 0.00015358, 0.00015358,\n",
      "       0.00014409, 0.00014788, 0.00014978, 0.00015358, 0.00014788,\n",
      "       0.00014788, 0.00013459, 0.0001308 , 0.0001308 , 0.00014219,\n",
      "       0.00013839, 0.00013459, 0.000127  , 0.00013839, 0.00014219,\n",
      "       0.0001289 , 0.0001251 , 0.0001327 , 0.00012321, 0.00013839,\n",
      "       0.0001289 , 0.0001308 , 0.00012321, 0.00013839, 0.00014966,\n",
      "       0.00015062, 0.0001468 , 0.0001468 , 0.00015062, 0.00015826,\n",
      "       0.00016781, 0.00017546, 0.00018883, 0.00017928, 0.00017355])]\n",
      "[0.0001678142719017435]\n",
      "\n"
     ]
    }
   ],
   "source": [
    "#scale the data\n",
    "scaler = MinMaxScaler(feature_range=(0,1))\n",
    "scaled_data = scaler.fit_transform(dataset)\n",
    "scaled_data\n",
    "\n",
    "train_data = scaled_data[0:training_data_len, :]\n",
    "#Split the data into x_train, y_train datasets\n",
    "x_train = []\n",
    "y_train = []\n",
    "for i in range(60,len(train_data)):\n",
    "    x_train.append(train_data[i-60:i, 0])\n",
    "    y_train.append(train_data[i,0])\n",
    "    if i<=60:\n",
    "        print(x_train)\n",
    "        print(y_train)\n",
    "        print()"
   ]
  },
  {
   "cell_type": "code",
   "execution_count": 143,
   "id": "eab73318",
   "metadata": {},
   "outputs": [
    {
     "data": {
      "text/plain": [
       "(12189, 60, 1)"
      ]
     },
     "execution_count": 143,
     "metadata": {},
     "output_type": "execute_result"
    }
   ],
   "source": [
    "#convert the x_train and y_train  to numpy array\n",
    "x_train,y_train = np.array(x_train), np.array(y_train)\n",
    "#reshape the data\n",
    "x_train = np.reshape(x_train,(x_train.shape[0],x_train.shape[1],1))\n",
    "x_train.shape"
   ]
  },
  {
   "cell_type": "code",
   "execution_count": 144,
   "id": "61a5f484",
   "metadata": {},
   "outputs": [],
   "source": [
    "#Build the LSTM model (Long Term Short Memory)\n",
    "model =Sequential()\n",
    "model.add(LSTM(64,return_sequences=True, input_shape=(x_train.shape[1],1)))\n",
    "model.add(LSTM(64, return_sequences= False))\n",
    "model.add(Dense(32))\n",
    "model.add(Dense(1))\n",
    "#Complie the model\n",
    "model.compile(optimizer='adam', loss='mean_squared_error')"
   ]
  },
  {
   "cell_type": "code",
   "execution_count": 145,
   "id": "486d085b",
   "metadata": {},
   "outputs": [
    {
     "name": "stdout",
     "output_type": "stream",
     "text": [
      "Epoch 1/10\n",
      "12189/12189 [==============================] - 183s 15ms/step - loss: 7.5703e-05\n",
      "Epoch 2/10\n",
      "12189/12189 [==============================] - 176s 14ms/step - loss: 2.8538e-05\n",
      "Epoch 3/10\n",
      "12189/12189 [==============================] - 179s 15ms/step - loss: 2.3031e-05\n",
      "Epoch 4/10\n",
      "12189/12189 [==============================] - 175s 14ms/step - loss: 1.9313e-05\n",
      "Epoch 5/10\n",
      "12189/12189 [==============================] - 175s 14ms/step - loss: 1.6812e-05\n",
      "Epoch 6/10\n",
      "12189/12189 [==============================] - 179s 15ms/step - loss: 1.5579e-05\n",
      "Epoch 7/10\n",
      "12189/12189 [==============================] - 175s 14ms/step - loss: 1.4708e-05\n",
      "Epoch 8/10\n",
      "12189/12189 [==============================] - 207s 17ms/step - loss: 1.3207e-05\n",
      "Epoch 9/10\n",
      "12189/12189 [==============================] - 179s 15ms/step - loss: 1.3150e-05\n",
      "Epoch 10/10\n",
      "12189/12189 [==============================] - 184s 15ms/step - loss: 1.1994e-05\n"
     ]
    },
    {
     "data": {
      "text/plain": [
       "<keras.src.callbacks.History at 0x276989b3490>"
      ]
     },
     "execution_count": 145,
     "metadata": {},
     "output_type": "execute_result"
    }
   ],
   "source": [
    "#Train the model\n",
    "model.fit(x_train,y_train, batch_size=1, epochs=10)"
   ]
  },
  {
   "cell_type": "code",
   "execution_count": 146,
   "id": "03ffaf5d",
   "metadata": {},
   "outputs": [],
   "source": [
    "test_data= scaled_data[training_data_len-60:, :]\n",
    "#create the data sets x_test and y_test\n",
    "x_test = []\n",
    "y_test = dataset[training_data_len:,:]\n",
    "for i in range(60,len(test_data)):\n",
    "    x_test.append(test_data[i-60:i,0])"
   ]
  },
  {
   "cell_type": "code",
   "execution_count": 147,
   "id": "7f717bfb",
   "metadata": {},
   "outputs": [
    {
     "data": {
      "text/plain": [
       "(3062, 60, 1)"
      ]
     },
     "execution_count": 147,
     "metadata": {},
     "output_type": "execute_result"
    }
   ],
   "source": [
    "x_test = np.array(x_test)\n",
    "x_test = np.reshape(x_test, (x_test.shape[0], x_test.shape[1],1))\n",
    "x_test.shape"
   ]
  },
  {
   "cell_type": "code",
   "execution_count": 148,
   "id": "47d02b8d",
   "metadata": {},
   "outputs": [
    {
     "name": "stdout",
     "output_type": "stream",
     "text": [
      "96/96 [==============================] - 2s 13ms/step\n"
     ]
    }
   ],
   "source": [
    "#predicting the data\n",
    "predictions = model.predict(x_test)\n",
    "predictions = scaler.inverse_transform(predictions)"
   ]
  },
  {
   "cell_type": "code",
   "execution_count": 149,
   "id": "37ae6ca1",
   "metadata": {},
   "outputs": [
    {
     "data": {
      "image/png": "[encoded data removed]",
      "text/plain": [
       "<Figure size 1600x800 with 1 Axes>"
      ]
     },
     "metadata": {},
     "output_type": "display_data"
    },
    {
     "data": {
      "text/plain": [
       "\"pd.options.mode.chained_assignment = None  # default='warn'\\n#Visualize the data\\nplt.figure(figsize=(16,8))\\nplt.title('Model')\\nplt.xlabel('Date', fontsize=18)\\nplt.ylabel('Close Price' ,fontsize=18)\\nplt.xlim(1962, 2032)\\nplt.plot(train['Close'],linewidth=3.5)\\nplt.plot(valid[['Close','Predictions']],linewidth=3.5)\\nplt.legend(['Train','Valid','Predictions'])\""
      ]
     },
     "execution_count": 149,
     "metadata": {},
     "output_type": "execute_result"
    }
   ],
   "source": [
    "train = data[:training_data_len]\n",
    "valid = data[training_data_len:]\n",
    "valid['Predictions'] = predictions\n",
    "\n",
    "# Modify the index to datetime\n",
    "train.index = pd.to_datetime(train.index, dayfirst = True)\n",
    "valid.index = pd.to_datetime(valid.index, dayfirst = True)\n",
    "\n",
    "# Plot the data\n",
    "plt.figure(figsize=(16, 8))\n",
    "plt.title('Model')\n",
    "plt.xlabel('Date', fontsize=18)\n",
    "plt.ylabel('Close Price', fontsize=18)\n",
    "plt.plot(train['Close'], linewidth=3.5)\n",
    "plt.plot(valid[['Close', 'Predictions']], linewidth=3.5)\n",
    "plt.legend(['Train', 'Valid', 'Predictions'])\n",
    "plt.show()\n",
    "\n",
    "'''pd.options.mode.chained_assignment = None  # default='warn'\n",
    "#Visualize the data\n",
    "plt.figure(figsize=(16,8))\n",
    "plt.title('Model')\n",
    "plt.xlabel('Date', fontsize=18)\n",
    "plt.ylabel('Close Price' ,fontsize=18)\n",
    "plt.xlim(1962, 2032)\n",
    "plt.plot(train['Close'],linewidth=3.5)\n",
    "plt.plot(valid[['Close','Predictions']],linewidth=3.5)\n",
    "plt.legend(['Train','Valid','Predictions'])'''"
   ]
  },
  {
   "cell_type": "code",
   "execution_count": 150,
   "id": "44e27121",
   "metadata": {},
   "outputs": [
    {
     "data": {
      "text/html": [
       "<div>\n",
       "<style scoped>\n",
       "    .dataframe tbody tr th:only-of-type {\n",
       "        vertical-align: middle;\n",
       "    }\n",
       "\n",
       "    .dataframe tbody tr th {\n",
       "        vertical-align: top;\n",
       "    }\n",
       "\n",
       "    .dataframe thead th {\n",
       "        text-align: right;\n",
       "    }\n",
       "</style>\n",
       "<table border=\"1\" class=\"dataframe\">\n",
       "  <thead>\n",
       "    <tr style=\"text-align: right;\">\n",
       "      <th></th>\n",
       "      <th>Close</th>\n",
       "      <th>Predictions</th>\n",
       "    </tr>\n",
       "    <tr>\n",
       "      <th>Date</th>\n",
       "      <th></th>\n",
       "      <th></th>\n",
       "    </tr>\n",
       "  </thead>\n",
       "  <tbody>\n",
       "    <tr>\n",
       "      <th>2010-08-30</th>\n",
       "      <td>0.291170</td>\n",
       "      <td>0.292429</td>\n",
       "    </tr>\n",
       "    <tr>\n",
       "      <th>2010-08-31</th>\n",
       "      <td>0.292903</td>\n",
       "      <td>0.289730</td>\n",
       "    </tr>\n",
       "    <tr>\n",
       "      <th>2010-09-01</th>\n",
       "      <td>0.300413</td>\n",
       "      <td>0.290989</td>\n",
       "    </tr>\n",
       "    <tr>\n",
       "      <th>2010-09-02</th>\n",
       "      <td>0.300780</td>\n",
       "      <td>0.298348</td>\n",
       "    </tr>\n",
       "    <tr>\n",
       "      <th>2010-09-03</th>\n",
       "      <td>0.301726</td>\n",
       "      <td>0.299126</td>\n",
       "    </tr>\n",
       "    <tr>\n",
       "      <th>...</th>\n",
       "      <td>...</td>\n",
       "      <td>...</td>\n",
       "    </tr>\n",
       "    <tr>\n",
       "      <th>2022-10-20</th>\n",
       "      <td>0.843929</td>\n",
       "      <td>0.792047</td>\n",
       "    </tr>\n",
       "    <tr>\n",
       "      <th>2022-10-21</th>\n",
       "      <td>0.857422</td>\n",
       "      <td>0.780030</td>\n",
       "    </tr>\n",
       "    <tr>\n",
       "      <th>2022-10-24</th>\n",
       "      <td>0.882107</td>\n",
       "      <td>0.787988</td>\n",
       "    </tr>\n",
       "    <tr>\n",
       "      <th>2022-10-25</th>\n",
       "      <td>0.903265</td>\n",
       "      <td>0.808788</td>\n",
       "    </tr>\n",
       "    <tr>\n",
       "      <th>2022-10-26</th>\n",
       "      <td>0.910011</td>\n",
       "      <td>0.826708</td>\n",
       "    </tr>\n",
       "  </tbody>\n",
       "</table>\n",
       "<p>3062 rows × 2 columns</p>\n",
       "</div>"
      ],
      "text/plain": [
       "               Close  Predictions\n",
       "Date                             \n",
       "2010-08-30  0.291170     0.292429\n",
       "2010-08-31  0.292903     0.289730\n",
       "2010-09-01  0.300413     0.290989\n",
       "2010-09-02  0.300780     0.298348\n",
       "2010-09-03  0.301726     0.299126\n",
       "...              ...          ...\n",
       "2022-10-20  0.843929     0.792047\n",
       "2022-10-21  0.857422     0.780030\n",
       "2022-10-24  0.882107     0.787988\n",
       "2022-10-25  0.903265     0.808788\n",
       "2022-10-26  0.910011     0.826708\n",
       "\n",
       "[3062 rows x 2 columns]"
      ]
     },
     "execution_count": 150,
     "metadata": {},
     "output_type": "execute_result"
    }
   ],
   "source": [
    "valid"
   ]
  },
  {
   "cell_type": "code",
   "execution_count": 151,
   "id": "e753728c",
   "metadata": {},
   "outputs": [
    {
     "name": "stdout",
     "output_type": "stream",
     "text": [
      "1/1 [==============================] - 0s 21ms/step\n"
     ]
    },
    {
     "data": {
      "text/plain": [
       "array([[1.7167735]], dtype=float32)"
      ]
     },
     "execution_count": 151,
     "metadata": {},
     "output_type": "execute_result"
    }
   ],
   "source": [
    "#get the quote\n",
    "coca_quote = pd.read_csv('Coca-Cola_stock_history.csv')\n",
    "#Create new data frame\n",
    "new_df = coca_quote.filter(['Close'])\n",
    "#get the last 60 days closing price values and convert the dataframe to an array\n",
    "last_60_days = new_df[-60:].values\n",
    "#scaled the data to be values between 0 and 1\n",
    "last_60_days_scaled = scaler.transform(last_60_days)\n",
    "#create an empty list\n",
    "X_test = []\n",
    "#append the past 60 days \n",
    "X_test.append(last_60_days_scaled)\n",
    "#convert the X_test data set to a numpy array\n",
    "X_test = np.array(X_test)\n",
    "#Reshape the data\n",
    "X_test = np.reshape(X_test,(X_test.shape[0], X_test.shape[1],1))\n",
    "#get the predicted scaled price\n",
    "pred_price= model.predict(X_test)\n",
    "#undo the scalling\n",
    "pred_price = scaler.inverse_transform(pred_price)\n",
    "pred_price"
   ]
  },
  {
   "cell_type": "code",
   "execution_count": 152,
   "id": "4cf91883",
   "metadata": {},
   "outputs": [],
   "source": [
    "#importing packages for the prediction of time-series data\n",
    "from statsmodels.tsa.arima_model import ARIMA\n",
    "import statsmodels.api as sm\n",
    "import statsmodels.tsa.api as smt\n",
    "import statsmodels.formula.api as smf\n",
    "import plotly.graph_objects as go\n",
    "import plotly.express as px\n",
    "from plotly.subplots import make_subplots\n",
    "\n",
    "from sklearn.metrics import mean_squared_error\n",
    "\n",
    "%matplotlib inline"
   ]
  },
  {
   "cell_type": "code",
   "execution_count": 153,
   "id": "60530e4b",
   "metadata": {},
   "outputs": [
    {
     "name": "stdout",
     "output_type": "stream",
     "text": [
      "Requirement already satisfied: xgboost in c:\\programdata\\anaconda3\\lib\\site-packages (1.7.6)\n",
      "Requirement already satisfied: numpy in c:\\programdata\\anaconda3\\lib\\site-packages (from xgboost) (1.24.3)\n",
      "Requirement already satisfied: scipy in c:\\programdata\\anaconda3\\lib\\site-packages (from xgboost) (1.10.1)\n"
     ]
    },
    {
     "data": {
      "text/html": [
       "        <script type=\"text/javascript\">\n",
       "        window.PlotlyConfig = {MathJaxConfig: 'local'};\n",
       "        if (window.MathJax && window.MathJax.Hub && window.MathJax.Hub.Config) {window.MathJax.Hub.Config({SVG: {font: \"STIX-Web\"}});}\n",
       "        if (typeof require !== 'undefined') {\n",
       "        require.undef(\"plotly\");\n",
       "        requirejs.config({\n",
       "            paths: {\n",
       "                'plotly': ['https://cdn.plot.ly/plotly-2.12.1.min']\n",
       "            }\n",
       "        });\n",
       "        require(['plotly'], function(Plotly) {\n",
       "            window._Plotly = Plotly;\n",
       "        });\n",
       "        }\n",
       "        </script>\n",
       "        "
      ]
     },
     "metadata": {},
     "output_type": "display_data"
    }
   ],
   "source": [
    "import pandas as pd\n",
    "import numpy as np\n",
    "import math\n",
    "import datetime as dt\n",
    "\n",
    "import matplotlib.pyplot as plt\n",
    "from itertools import cycle\n",
    "import plotly.graph_objects as go\n",
    "import plotly.express as px\n",
    "from plotly.subplots import make_subplots\n",
    "import seaborn as sns\n",
    "\n",
    "!pip install xgboost\n",
    "from xgboost import XGBRegressor\n",
    "from sklearn.metrics import mean_squared_error, mean_absolute_error, explained_variance_score, r2_score \n",
    "from sklearn.metrics import mean_poisson_deviance, mean_gamma_deviance, accuracy_score\n",
    "from sklearn.preprocessing import MinMaxScaler\n",
    "\n",
    "from plotly.offline import plot, iplot, init_notebook_mode\n",
    "init_notebook_mode(connected=True)"
   ]
  },
  {
   "cell_type": "code",
   "execution_count": 154,
   "id": "6d942417",
   "metadata": {},
   "outputs": [
    {
     "data": {
      "text/html": [
       "<div>\n",
       "<style scoped>\n",
       "    .dataframe tbody tr th:only-of-type {\n",
       "        vertical-align: middle;\n",
       "    }\n",
       "\n",
       "    .dataframe tbody tr th {\n",
       "        vertical-align: top;\n",
       "    }\n",
       "\n",
       "    .dataframe thead th {\n",
       "        text-align: right;\n",
       "    }\n",
       "</style>\n",
       "<table border=\"1\" class=\"dataframe\">\n",
       "  <thead>\n",
       "    <tr style=\"text-align: right;\">\n",
       "      <th></th>\n",
       "      <th>Date</th>\n",
       "      <th>Close</th>\n",
       "    </tr>\n",
       "  </thead>\n",
       "  <tbody>\n",
       "    <tr>\n",
       "      <th>0</th>\n",
       "      <td>1962-01-02</td>\n",
       "      <td>0.050016</td>\n",
       "    </tr>\n",
       "    <tr>\n",
       "      <th>1</th>\n",
       "      <td>1962-01-03</td>\n",
       "      <td>0.048902</td>\n",
       "    </tr>\n",
       "    <tr>\n",
       "      <th>2</th>\n",
       "      <td>1962-01-04</td>\n",
       "      <td>0.049273</td>\n",
       "    </tr>\n",
       "  </tbody>\n",
       "</table>\n",
       "</div>"
      ],
      "text/plain": [
       "        Date     Close\n",
       "0 1962-01-02  0.050016\n",
       "1 1962-01-03  0.048902\n",
       "2 1962-01-04  0.049273"
      ]
     },
     "execution_count": 154,
     "metadata": {},
     "output_type": "execute_result"
    }
   ],
   "source": [
    "df = pd.read_csv('Coca-Cola_stock_history.csv', parse_dates=['Converted Date'], dayfirst=True)\n",
    "df1 = df[['Converted Date','Close']]\n",
    "df1.rename(columns={'Converted Date': 'Date'}, inplace=True)\n",
    "df1.head(3)"
   ]
  },
  {
   "cell_type": "code",
   "execution_count": 155,
   "id": "d61e3044",
   "metadata": {},
   "outputs": [
    {
     "name": "stdout",
     "output_type": "stream",
     "text": [
      "<class 'pandas.core.frame.DataFrame'>\n",
      "               Close\n",
      "Date                \n",
      "1962-01-02  0.050016\n",
      "1962-01-03  0.048902\n",
      "1962-01-04  0.049273\n",
      "========================\n",
      "                Close\n",
      "Date                 \n",
      "2022-10-24  57.570000\n",
      "2022-10-25  58.950001\n",
      "2022-10-26  59.389999\n"
     ]
    }
   ],
   "source": [
    "# Setting the Date as Index\n",
    "df_ts = df1.set_index('Date')\n",
    "df_ts.sort_index(inplace=True)\n",
    "print (type(df_ts))\n",
    "print (df_ts.head(3))\n",
    "print (\"========================\")\n",
    "print (df_ts.tail(3))"
   ]
  },
  {
   "cell_type": "code",
   "execution_count": 156,
   "id": "3d3daf54",
   "metadata": {},
   "outputs": [
    {
     "data": {
      "text/plain": [
       "<Axes: xlabel='Date'>"
      ]
     },
     "execution_count": 156,
     "metadata": {},
     "output_type": "execute_result"
    },
    {
     "data": {
      "image/png": "[encoded data removed]",
      "text/plain": [
       "<Figure size 640x480 with 1 Axes>"
      ]
     },
     "metadata": {},
     "output_type": "display_data"
    }
   ],
   "source": [
    "# Basic plot \n",
    "df_ts.plot()"
   ]
  },
  {
   "cell_type": "code",
   "execution_count": 157,
   "id": "921c6f06",
   "metadata": {},
   "outputs": [],
   "source": [
    "# Dickey Fuller Test Function\n",
    "def test_stationarity(timeseries):\n",
    "    # Perform Dickey-Fuller test:\n",
    "    from statsmodels.tsa.stattools import adfuller\n",
    "    print('Results of Dickey-Fuller Test:')\n",
    "    print (\"==============================================\")\n",
    "    \n",
    "    dftest = adfuller(timeseries, autolag='AIC')\n",
    "    \n",
    "    dfoutput = pd.Series(dftest[0:4], index=['Test Statistic', 'p-value', '#lags Used', 'Number of Observations Used'])\n",
    "    \n",
    "    for key, value in dftest[4].items():\n",
    "        dfoutput['Critical Value (%s)'%key] = value\n",
    "    \n",
    "    print(dfoutput)"
   ]
  },
  {
   "cell_type": "code",
   "execution_count": 158,
   "id": "4d7a5745",
   "metadata": {},
   "outputs": [],
   "source": [
    "# Convert the DF to series first\n",
    "ts = df_ts['Close']"
   ]
  },
  {
   "cell_type": "code",
   "execution_count": 159,
   "id": "760efe34",
   "metadata": {},
   "outputs": [
    {
     "data": {
      "image/png": "[encoded data removed]",
      "text/plain": [
       "<Figure size 640x480 with 1 Axes>"
      ]
     },
     "metadata": {},
     "output_type": "display_data"
    }
   ],
   "source": [
    "# Rolling Statistics\n",
    "rolmean = ts.rolling(window=12).mean()\n",
    "rolvar = ts.rolling(window=12).std()\n",
    "\n",
    "plt.plot(ts, label='Original')\n",
    "plt.plot(rolmean, label='Rolling Mean')\n",
    "plt.plot(rolvar, label='Rolling Standard Variance')\n",
    "plt.legend(loc='best')\n",
    "plt.title('Rolling Mean & Standard Deviation')\n",
    "plt.show(block=False)"
   ]
  },
  {
   "cell_type": "code",
   "execution_count": 160,
   "id": "c6b2228d",
   "metadata": {},
   "outputs": [
    {
     "name": "stdout",
     "output_type": "stream",
     "text": [
      "Results of Dickey-Fuller Test:\n",
      "==============================================\n",
      "Test Statistic                     2.318269\n",
      "p-value                            0.998966\n",
      "#lags Used                        43.000000\n",
      "Number of Observations Used    15267.000000\n",
      "Critical Value (1%)               -3.430778\n",
      "Critical Value (5%)               -2.861729\n",
      "Critical Value (10%)              -2.566871\n",
      "dtype: float64\n"
     ]
    }
   ],
   "source": [
    "test_stationarity(ts)"
   ]
  },
  {
   "cell_type": "code",
   "execution_count": 161,
   "id": "f21c88c8",
   "metadata": {},
   "outputs": [
    {
     "name": "stdout",
     "output_type": "stream",
     "text": [
      "<class 'pandas.core.frame.DataFrame'>\n",
      "               Close\n",
      "Date                \n",
      "1962-01-31  0.047101\n",
      "1962-02-28  0.046269\n",
      "1962-03-31  0.046883\n"
     ]
    }
   ],
   "source": [
    "# Lets Resample the data by Month and analyze again\n",
    "df_ts_m = df_ts.resample('M').mean()\n",
    "print (type(df_ts_m))\n",
    "print (df_ts_m.head(3))"
   ]
  },
  {
   "cell_type": "code",
   "execution_count": 162,
   "id": "1684ce14",
   "metadata": {},
   "outputs": [
    {
     "name": "stdout",
     "output_type": "stream",
     "text": [
      "<class 'pandas.core.series.Series'>\n"
     ]
    }
   ],
   "source": [
    "tsm = df_ts_m['Close']\n",
    "print (type(tsm))"
   ]
  },
  {
   "cell_type": "code",
   "execution_count": 163,
   "id": "28e7eb51",
   "metadata": {},
   "outputs": [
    {
     "data": {
      "image/png": "[encoded data removed]",
      "text/plain": [
       "<Figure size 1200x800 with 4 Axes>"
      ]
     },
     "metadata": {},
     "output_type": "display_data"
    }
   ],
   "source": [
    "# Lets do a quick vanila decomposition to see any trend seasonality etc in the ts\n",
    "decomposition = sm.tsa.seasonal_decompose(tsm, model='multiplicative')\n",
    "\n",
    "fig = decomposition.plot()\n",
    "fig.set_figwidth(12)\n",
    "fig.set_figheight(8)\n",
    "fig.suptitle('Decomposition of multiplicative time series')\n",
    "plt.show()"
   ]
  },
  {
   "cell_type": "code",
   "execution_count": 164,
   "id": "87a45a0b",
   "metadata": {},
   "outputs": [
    {
     "name": "stdout",
     "output_type": "stream",
     "text": [
      "Results of Dickey-Fuller Test:\n",
      "==============================================\n",
      "Test Statistic                -1.815932e+01\n",
      "p-value                        2.463771e-30\n",
      "#lags Used                     1.000000e+00\n",
      "Number of Observations Used    7.270000e+02\n",
      "Critical Value (1%)           -3.439377e+00\n",
      "Critical Value (5%)           -2.865524e+00\n",
      "Critical Value (10%)          -2.568891e+00\n",
      "dtype: float64\n"
     ]
    }
   ],
   "source": [
    "# lets try to make the \"tsm\" Stationary\n",
    "\n",
    "tsmlog = np.log10(tsm)\n",
    "tsmlog.dropna(inplace=True)\n",
    "\n",
    "tsmlogdiff = tsmlog.diff(periods=1)\n",
    "tsmlogdiff.dropna(inplace=True)\n",
    "# Stationarity Check\n",
    "test_stationarity(tsmlogdiff)"
   ]
  },
  {
   "cell_type": "code",
   "execution_count": 165,
   "id": "9cbcc325",
   "metadata": {},
   "outputs": [
    {
     "name": "stderr",
     "output_type": "stream",
     "text": [
      "C:\\ProgramData\\anaconda3\\Lib\\site-packages\\statsmodels\\graphics\\tsaplots.py:348: FutureWarning:\n",
      "\n",
      "The default method 'yw' can produce PACF values outside of the [-1,1] interval. After 0.13, the default will change tounadjusted Yule-Walker ('ywm'). You can use this method now by setting method='ywm'.\n",
      "\n"
     ]
    },
    {
     "data": {
      "image/png": "[encoded data removed]",
      "text/plain": [
       "<Figure size 1200x400 with 2 Axes>"
      ]
     },
     "metadata": {},
     "output_type": "display_data"
    }
   ],
   "source": [
    "# Let's plot ACF & PACF graphs to visualize AR & MA components\n",
    "\n",
    "fig, axes = plt.subplots(1, 2)\n",
    "fig.set_figwidth(12)\n",
    "fig.set_figheight(4)\n",
    "smt.graphics.plot_acf(tsmlogdiff, lags=30, ax=axes[0], alpha=0.5)\n",
    "smt.graphics.plot_pacf(tsmlogdiff, lags=30, ax=axes[1], alpha=0.5)\n",
    "plt.tight_layout()"
   ]
  },
  {
   "cell_type": "code",
   "execution_count": 166,
   "id": "22f25531",
   "metadata": {},
   "outputs": [
    {
     "name": "stderr",
     "output_type": "stream",
     "text": [
      "C:\\Users\\Ryan Abe Cortez\\AppData\\Local\\Temp\\ipykernel_15456\\1835172080.py:2: UserWarning:\n",
      "\n",
      "Parsing dates in DD/MM/YYYY format when dayfirst=False (the default) was specified. This may lead to inconsistently parsed dates! Specify a format to ensure consistent parsing.\n",
      "\n"
     ]
    },
    {
     "data": {
      "text/html": [
       "<div>\n",
       "<style scoped>\n",
       "    .dataframe tbody tr th:only-of-type {\n",
       "        vertical-align: middle;\n",
       "    }\n",
       "\n",
       "    .dataframe tbody tr th {\n",
       "        vertical-align: top;\n",
       "    }\n",
       "\n",
       "    .dataframe thead th {\n",
       "        text-align: right;\n",
       "    }\n",
       "</style>\n",
       "<table border=\"1\" class=\"dataframe\">\n",
       "  <thead>\n",
       "    <tr style=\"text-align: right;\">\n",
       "      <th></th>\n",
       "      <th>Open</th>\n",
       "      <th>Close</th>\n",
       "    </tr>\n",
       "    <tr>\n",
       "      <th>Date</th>\n",
       "      <th></th>\n",
       "      <th></th>\n",
       "    </tr>\n",
       "  </thead>\n",
       "  <tbody>\n",
       "    <tr>\n",
       "      <th>January</th>\n",
       "      <td>46.810466</td>\n",
       "      <td>46.714286</td>\n",
       "    </tr>\n",
       "    <tr>\n",
       "      <th>February</th>\n",
       "      <td>47.916931</td>\n",
       "      <td>47.896767</td>\n",
       "    </tr>\n",
       "    <tr>\n",
       "      <th>March</th>\n",
       "      <td>49.164846</td>\n",
       "      <td>49.376644</td>\n",
       "    </tr>\n",
       "    <tr>\n",
       "      <th>April</th>\n",
       "      <td>50.883667</td>\n",
       "      <td>50.828891</td>\n",
       "    </tr>\n",
       "    <tr>\n",
       "      <th>May</th>\n",
       "      <td>51.655691</td>\n",
       "      <td>51.688695</td>\n",
       "    </tr>\n",
       "    <tr>\n",
       "      <th>June</th>\n",
       "      <td>52.766376</td>\n",
       "      <td>52.661758</td>\n",
       "    </tr>\n",
       "    <tr>\n",
       "      <th>July</th>\n",
       "      <td>53.362784</td>\n",
       "      <td>53.424143</td>\n",
       "    </tr>\n",
       "    <tr>\n",
       "      <th>August</th>\n",
       "      <td>53.800601</td>\n",
       "      <td>53.773003</td>\n",
       "    </tr>\n",
       "    <tr>\n",
       "      <th>September</th>\n",
       "      <td>52.954450</td>\n",
       "      <td>52.789584</td>\n",
       "    </tr>\n",
       "    <tr>\n",
       "      <th>October</th>\n",
       "      <td>52.443604</td>\n",
       "      <td>52.525939</td>\n",
       "    </tr>\n",
       "    <tr>\n",
       "      <th>November</th>\n",
       "      <td>53.217807</td>\n",
       "      <td>53.086855</td>\n",
       "    </tr>\n",
       "    <tr>\n",
       "      <th>December</th>\n",
       "      <td>55.226552</td>\n",
       "      <td>55.390689</td>\n",
       "    </tr>\n",
       "  </tbody>\n",
       "</table>\n",
       "</div>"
      ],
      "text/plain": [
       "                Open      Close\n",
       "Date                           \n",
       "January    46.810466  46.714286\n",
       "February   47.916931  47.896767\n",
       "March      49.164846  49.376644\n",
       "April      50.883667  50.828891\n",
       "May        51.655691  51.688695\n",
       "June       52.766376  52.661758\n",
       "July       53.362784  53.424143\n",
       "August     53.800601  53.773003\n",
       "September  52.954450  52.789584\n",
       "October    52.443604  52.525939\n",
       "November   53.217807  53.086855\n",
       "December   55.226552  55.390689"
      ]
     },
     "execution_count": 166,
     "metadata": {},
     "output_type": "execute_result"
    }
   ],
   "source": [
    "# Convert 'Date' column to datetime format\n",
    "df['Date'] = pd.to_datetime(df['Date'], utc=True)\n",
    "\n",
    "# Define start and end dates as datetime objects\n",
    "start_date = pd.to_datetime('2021-01-01', utc=True)\n",
    "end_date = pd.to_datetime('2022-01-01', utc=True)\n",
    "\n",
    "# Filter data for the year 2021 using datetime values\n",
    "y_2021 = df.loc[(df['Date'] >= start_date) & (df['Date'] < end_date)]\n",
    "\n",
    "# Group by month and calculate mean of 'Open' and 'Close' columns\n",
    "monthvise = y_2021.groupby(y_2021['Date'].dt.strftime('%B'))[['Open', 'Close']].mean()\n",
    "\n",
    "# Specify the order of months\n",
    "new_order = ['January', 'February', 'March', 'April', 'May', 'June', 'July', 'August', \n",
    "             'September', 'October', 'November', 'December']\n",
    "\n",
    "# Reorder rows in the DataFrame\n",
    "monthvise = monthvise.reindex(new_order, axis = 0)\n",
    "monthvise"
   ]
  },
  {
   "cell_type": "code",
   "execution_count": 167,
   "id": "53163a6f",
   "metadata": {},
   "outputs": [
    {
     "data": {
      "application/vnd.plotly.v1+json": {
       "config": {
        "plotlyServerURL": "https://plot.ly"
       },
       "data": [
        {
         "marker": {
          "color": "rgb(0, 153, 204)"
         },
         "name": "Stock high Price",
         "type": "bar",
         "x": [
          "January",
          "February",
          "March",
          "April",
          "May",
          "June",
          "July",
          "August",
          "September",
          "October",
          "November",
          "December"
         ],
         "y": [
          52.35075772,
          52.17469294,
          52.43879361,
          52.4639978,
          53.26716696,
          54.0429604,
          55.4507438,
          55.45074562,
          54.94016427,
          55.2480392,
          55.48099116,
          58.05339135
         ]
        },
        {
         "marker": {
          "color": "rgb(255, 128, 0)"
         },
         "name": "Stock low Price",
         "type": "bar",
         "x": [
          "January",
          "February",
          "March",
          "April",
          "May",
          "June",
          "July",
          "August",
          "September",
          "October",
          "November",
          "December"
         ],
         "y": [
          45.6207068,
          46.11380014,
          46.15172353,
          46.13276263,
          46.72068123,
          47.59307891,
          46.95774482,
          46.92929988,
          47.06205544,
          46.96722589,
          47.22325859,
          47.185327
         ]
        }
       ],
       "layout": {
        "barmode": "group",
        "template": {
         "data": {
          "bar": [
           {
            "error_x": {
             "color": "#2a3f5f"
            },
            "error_y": {
             "color": "#2a3f5f"
            },
            "marker": {
             "line": {
              "color": "#E5ECF6",
              "width": 0.5
             },
             "pattern": {
              "fillmode": "overlay",
              "size": 10,
              "solidity": 0.2
             }
            },
            "type": "bar"
           }
          ],
          "barpolar": [
           {
            "marker": {
             "line": {
              "color": "#E5ECF6",
              "width": 0.5
             },
             "pattern": {
              "fillmode": "overlay",
              "size": 10,
              "solidity": 0.2
             }
            },
            "type": "barpolar"
           }
          ],
          "carpet": [
           {
            "aaxis": {
             "endlinecolor": "#2a3f5f",
             "gridcolor": "white",
             "linecolor": "white",
             "minorgridcolor": "white",
             "startlinecolor": "#2a3f5f"
            },
            "baxis": {
             "endlinecolor": "#2a3f5f",
             "gridcolor": "white",
             "linecolor": "white",
             "minorgridcolor": "white",
             "startlinecolor": "#2a3f5f"
            },
            "type": "carpet"
           }
          ],
          "choropleth": [
           {
            "colorbar": {
             "outlinewidth": 0,
             "ticks": ""
            },
            "type": "choropleth"
           }
          ],
          "contour": [
           {
            "colorbar": {
             "outlinewidth": 0,
             "ticks": ""
            },
            "colorscale": [
             [
              0,
              "#0d0887"
             ],
             [
              0.1111111111111111,
              "#46039f"
             ],
             [
              0.2222222222222222,
              "#7201a8"
             ],
             [
              0.3333333333333333,
              "#9c179e"
             ],
             [
              0.4444444444444444,
              "#bd3786"
             ],
             [
              0.5555555555555556,
              "#d8576b"
             ],
             [
              0.6666666666666666,
              "#ed7953"
             ],
             [
              0.7777777777777778,
              "#fb9f3a"
             ],
             [
              0.8888888888888888,
              "#fdca26"
             ],
             [
              1,
              "#f0f921"
             ]
            ],
            "type": "contour"
           }
          ],
          "contourcarpet": [
           {
            "colorbar": {
             "outlinewidth": 0,
             "ticks": ""
            },
            "type": "contourcarpet"
           }
          ],
          "heatmap": [
           {
            "colorbar": {
             "outlinewidth": 0,
             "ticks": ""
            },
            "colorscale": [
             [
              0,
              "#0d0887"
             ],
             [
              0.1111111111111111,
              "#46039f"
             ],
             [
              0.2222222222222222,
              "#7201a8"
             ],
             [
              0.3333333333333333,
              "#9c179e"
             ],
             [
              0.4444444444444444,
              "#bd3786"
             ],
             [
              0.5555555555555556,
              "#d8576b"
             ],
             [
              0.6666666666666666,
              "#ed7953"
             ],
             [
              0.7777777777777778,
              "#fb9f3a"
             ],
             [
              0.8888888888888888,
              "#fdca26"
             ],
             [
              1,
              "#f0f921"
             ]
            ],
            "type": "heatmap"
           }
          ],
          "heatmapgl": [
           {
            "colorbar": {
             "outlinewidth": 0,
             "ticks": ""
            },
            "colorscale": [
             [
              0,
              "#0d0887"
             ],
             [
              0.1111111111111111,
              "#46039f"
             ],
             [
              0.2222222222222222,
              "#7201a8"
             ],
             [
              0.3333333333333333,
              "#9c179e"
             ],
             [
              0.4444444444444444,
              "#bd3786"
             ],
             [
              0.5555555555555556,
              "#d8576b"
             ],
             [
              0.6666666666666666,
              "#ed7953"
             ],
             [
              0.7777777777777778,
              "#fb9f3a"
             ],
             [
              0.8888888888888888,
              "#fdca26"
             ],
             [
              1,
              "#f0f921"
             ]
            ],
            "type": "heatmapgl"
           }
          ],
          "histogram": [
           {
            "marker": {
             "pattern": {
              "fillmode": "overlay",
              "size": 10,
              "solidity": 0.2
             }
            },
            "type": "histogram"
           }
          ],
          "histogram2d": [
           {
            "colorbar": {
             "outlinewidth": 0,
             "ticks": ""
            },
            "colorscale": [
             [
              0,
              "#0d0887"
             ],
             [
              0.1111111111111111,
              "#46039f"
             ],
             [
              0.2222222222222222,
              "#7201a8"
             ],
             [
              0.3333333333333333,
              "#9c179e"
             ],
             [
              0.4444444444444444,
              "#bd3786"
             ],
             [
              0.5555555555555556,
              "#d8576b"
             ],
             [
              0.6666666666666666,
              "#ed7953"
             ],
             [
              0.7777777777777778,
              "#fb9f3a"
             ],
             [
              0.8888888888888888,
              "#fdca26"
             ],
             [
              1,
              "#f0f921"
             ]
            ],
            "type": "histogram2d"
           }
          ],
          "histogram2dcontour": [
           {
            "colorbar": {
             "outlinewidth": 0,
             "ticks": ""
            },
            "colorscale": [
             [
              0,
              "#0d0887"
             ],
             [
              0.1111111111111111,
              "#46039f"
             ],
             [
              0.2222222222222222,
              "#7201a8"
             ],
             [
              0.3333333333333333,
              "#9c179e"
             ],
             [
              0.4444444444444444,
              "#bd3786"
             ],
             [
              0.5555555555555556,
              "#d8576b"
             ],
             [
              0.6666666666666666,
              "#ed7953"
             ],
             [
              0.7777777777777778,
              "#fb9f3a"
             ],
             [
              0.8888888888888888,
              "#fdca26"
             ],
             [
              1,
              "#f0f921"
             ]
            ],
            "type": "histogram2dcontour"
           }
          ],
          "mesh3d": [
           {
            "colorbar": {
             "outlinewidth": 0,
             "ticks": ""
            },
            "type": "mesh3d"
           }
          ],
          "parcoords": [
           {
            "line": {
             "colorbar": {
              "outlinewidth": 0,
              "ticks": ""
             }
            },
            "type": "parcoords"
           }
          ],
          "pie": [
           {
            "automargin": true,
            "type": "pie"
           }
          ],
          "scatter": [
           {
            "fillpattern": {
             "fillmode": "overlay",
             "size": 10,
             "solidity": 0.2
            },
            "type": "scatter"
           }
          ],
          "scatter3d": [
           {
            "line": {
             "colorbar": {
              "outlinewidth": 0,
              "ticks": ""
             }
            },
            "marker": {
             "colorbar": {
              "outlinewidth": 0,
              "ticks": ""
             }
            },
            "type": "scatter3d"
           }
          ],
          "scattercarpet": [
           {
            "marker": {
             "colorbar": {
              "outlinewidth": 0,
              "ticks": ""
             }
            },
            "type": "scattercarpet"
           }
          ],
          "scattergeo": [
           {
            "marker": {
             "colorbar": {
              "outlinewidth": 0,
              "ticks": ""
             }
            },
            "type": "scattergeo"
           }
          ],
          "scattergl": [
           {
            "marker": {
             "colorbar": {
              "outlinewidth": 0,
              "ticks": ""
             }
            },
            "type": "scattergl"
           }
          ],
          "scattermapbox": [
           {
            "marker": {
             "colorbar": {
              "outlinewidth": 0,
              "ticks": ""
             }
            },
            "type": "scattermapbox"
           }
          ],
          "scatterpolar": [
           {
            "marker": {
             "colorbar": {
              "outlinewidth": 0,
              "ticks": ""
             }
            },
            "type": "scatterpolar"
           }
          ],
          "scatterpolargl": [
           {
            "marker": {
             "colorbar": {
              "outlinewidth": 0,
              "ticks": ""
             }
            },
            "type": "scatterpolargl"
           }
          ],
          "scatterternary": [
           {
            "marker": {
             "colorbar": {
              "outlinewidth": 0,
              "ticks": ""
             }
            },
            "type": "scatterternary"
           }
          ],
          "surface": [
           {
            "colorbar": {
             "outlinewidth": 0,
             "ticks": ""
            },
            "colorscale": [
             [
              0,
              "#0d0887"
             ],
             [
              0.1111111111111111,
              "#46039f"
             ],
             [
              0.2222222222222222,
              "#7201a8"
             ],
             [
              0.3333333333333333,
              "#9c179e"
             ],
             [
              0.4444444444444444,
              "#bd3786"
             ],
             [
              0.5555555555555556,
              "#d8576b"
             ],
             [
              0.6666666666666666,
              "#ed7953"
             ],
             [
              0.7777777777777778,
              "#fb9f3a"
             ],
             [
              0.8888888888888888,
              "#fdca26"
             ],
             [
              1,
              "#f0f921"
             ]
            ],
            "type": "surface"
           }
          ],
          "table": [
           {
            "cells": {
             "fill": {
              "color": "#EBF0F8"
             },
             "line": {
              "color": "white"
             }
            },
            "header": {
             "fill": {
              "color": "#C8D4E3"
             },
             "line": {
              "color": "white"
             }
            },
            "type": "table"
           }
          ]
         },
         "layout": {
          "annotationdefaults": {
           "arrowcolor": "#2a3f5f",
           "arrowhead": 0,
           "arrowwidth": 1
          },
          "autotypenumbers": "strict",
          "coloraxis": {
           "colorbar": {
            "outlinewidth": 0,
            "ticks": ""
           }
          },
          "colorscale": {
           "diverging": [
            [
             0,
             "#8e0152"
            ],
            [
             0.1,
             "#c51b7d"
            ],
            [
             0.2,
             "#de77ae"
            ],
            [
             0.3,
             "#f1b6da"
            ],
            [
             0.4,
             "#fde0ef"
            ],
            [
             0.5,
             "#f7f7f7"
            ],
            [
             0.6,
             "#e6f5d0"
            ],
            [
             0.7,
             "#b8e186"
            ],
            [
             0.8,
             "#7fbc41"
            ],
            [
             0.9,
             "#4d9221"
            ],
            [
             1,
             "#276419"
            ]
           ],
           "sequential": [
            [
             0,
             "#0d0887"
            ],
            [
             0.1111111111111111,
             "#46039f"
            ],
            [
             0.2222222222222222,
             "#7201a8"
            ],
            [
             0.3333333333333333,
             "#9c179e"
            ],
            [
             0.4444444444444444,
             "#bd3786"
            ],
            [
             0.5555555555555556,
             "#d8576b"
            ],
            [
             0.6666666666666666,
             "#ed7953"
            ],
            [
             0.7777777777777778,
             "#fb9f3a"
            ],
            [
             0.8888888888888888,
             "#fdca26"
            ],
            [
             1,
             "#f0f921"
            ]
           ],
           "sequentialminus": [
            [
             0,
             "#0d0887"
            ],
            [
             0.1111111111111111,
             "#46039f"
            ],
            [
             0.2222222222222222,
             "#7201a8"
            ],
            [
             0.3333333333333333,
             "#9c179e"
            ],
            [
             0.4444444444444444,
             "#bd3786"
            ],
            [
             0.5555555555555556,
             "#d8576b"
            ],
            [
             0.6666666666666666,
             "#ed7953"
            ],
            [
             0.7777777777777778,
             "#fb9f3a"
            ],
            [
             0.8888888888888888,
             "#fdca26"
            ],
            [
             1,
             "#f0f921"
            ]
           ]
          },
          "colorway": [
           "#636efa",
           "#EF553B",
           "#00cc96",
           "#ab63fa",
           "#FFA15A",
           "#19d3f3",
           "#FF6692",
           "#B6E880",
           "#FF97FF",
           "#FECB52"
          ],
          "font": {
           "color": "#2a3f5f"
          },
          "geo": {
           "bgcolor": "white",
           "lakecolor": "white",
           "landcolor": "#E5ECF6",
           "showlakes": true,
           "showland": true,
           "subunitcolor": "white"
          },
          "hoverlabel": {
           "align": "left"
          },
          "hovermode": "closest",
          "mapbox": {
           "style": "light"
          },
          "paper_bgcolor": "white",
          "plot_bgcolor": "#E5ECF6",
          "polar": {
           "angularaxis": {
            "gridcolor": "white",
            "linecolor": "white",
            "ticks": ""
           },
           "bgcolor": "#E5ECF6",
           "radialaxis": {
            "gridcolor": "white",
            "linecolor": "white",
            "ticks": ""
           }
          },
          "scene": {
           "xaxis": {
            "backgroundcolor": "#E5ECF6",
            "gridcolor": "white",
            "gridwidth": 2,
            "linecolor": "white",
            "showbackground": true,
            "ticks": "",
            "zerolinecolor": "white"
           },
           "yaxis": {
            "backgroundcolor": "#E5ECF6",
            "gridcolor": "white",
            "gridwidth": 2,
            "linecolor": "white",
            "showbackground": true,
            "ticks": "",
            "zerolinecolor": "white"
           },
           "zaxis": {
            "backgroundcolor": "#E5ECF6",
            "gridcolor": "white",
            "gridwidth": 2,
            "linecolor": "white",
            "showbackground": true,
            "ticks": "",
            "zerolinecolor": "white"
           }
          },
          "shapedefaults": {
           "line": {
            "color": "#2a3f5f"
           }
          },
          "ternary": {
           "aaxis": {
            "gridcolor": "white",
            "linecolor": "white",
            "ticks": ""
           },
           "baxis": {
            "gridcolor": "white",
            "linecolor": "white",
            "ticks": ""
           },
           "bgcolor": "#E5ECF6",
           "caxis": {
            "gridcolor": "white",
            "linecolor": "white",
            "ticks": ""
           }
          },
          "title": {
           "x": 0.05
          },
          "xaxis": {
           "automargin": true,
           "gridcolor": "white",
           "linecolor": "white",
           "ticks": "",
           "title": {
            "standoff": 15
           },
           "zerolinecolor": "white",
           "zerolinewidth": 2
          },
          "yaxis": {
           "automargin": true,
           "gridcolor": "white",
           "linecolor": "white",
           "ticks": "",
           "title": {
            "standoff": 15
           },
           "zerolinecolor": "white",
           "zerolinewidth": 2
          }
         }
        },
        "title": {
         "text": " Monthwise High and Low stock price"
        }
       }
      },
      "text/html": [
       "<div>                            <div id=\"a52017a3-8090-4b8d-870c-5912ef1e78fe\" class=\"plotly-graph-div\" style=\"height:525px; width:100%;\"></div>            <script type=\"text/javascript\">                require([\"plotly\"], function(Plotly) {                    window.PLOTLYENV=window.PLOTLYENV || {};                                    if (document.getElementById(\"a52017a3-8090-4b8d-870c-5912ef1e78fe\")) {                    Plotly.newPlot(                        \"a52017a3-8090-4b8d-870c-5912ef1e78fe\",                        [{\"marker\":{\"color\":\"rgb(0, 153, 204)\"},\"name\":\"Stock high Price\",\"x\":[\"January\",\"February\",\"March\",\"April\",\"May\",\"June\",\"July\",\"August\",\"September\",\"October\",\"November\",\"December\"],\"y\":[52.35075772,52.17469294,52.43879361,52.4639978,53.26716696,54.0429604,55.4507438,55.45074562,54.94016427,55.2480392,55.48099116,58.05339135],\"type\":\"bar\"},{\"marker\":{\"color\":\"rgb(255, 128, 0)\"},\"name\":\"Stock low Price\",\"x\":[\"January\",\"February\",\"March\",\"April\",\"May\",\"June\",\"July\",\"August\",\"September\",\"October\",\"November\",\"December\"],\"y\":[45.6207068,46.11380014,46.15172353,46.13276263,46.72068123,47.59307891,46.95774482,46.92929988,47.06205544,46.96722589,47.22325859,47.185327],\"type\":\"bar\"}],                        {\"template\":{\"data\":{\"histogram2dcontour\":[{\"type\":\"histogram2dcontour\",\"colorbar\":{\"outlinewidth\":0,\"ticks\":\"\"},\"colorscale\":[[0.0,\"#0d0887\"],[0.1111111111111111,\"#46039f\"],[0.2222222222222222,\"#7201a8\"],[0.3333333333333333,\"#9c179e\"],[0.4444444444444444,\"#bd3786\"],[0.5555555555555556,\"#d8576b\"],[0.6666666666666666,\"#ed7953\"],[0.7777777777777778,\"#fb9f3a\"],[0.8888888888888888,\"#fdca26\"],[1.0,\"#f0f921\"]]}],\"choropleth\":[{\"type\":\"choropleth\",\"colorbar\":{\"outlinewidth\":0,\"ticks\":\"\"}}],\"histogram2d\":[{\"type\":\"histogram2d\",\"colorbar\":{\"outlinewidth\":0,\"ticks\":\"\"},\"colorscale\":[[0.0,\"#0d0887\"],[0.1111111111111111,\"#46039f\"],[0.2222222222222222,\"#7201a8\"],[0.3333333333333333,\"#9c179e\"],[0.4444444444444444,\"#bd3786\"],[0.5555555555555556,\"#d8576b\"],[0.6666666666666666,\"#ed7953\"],[0.7777777777777778,\"#fb9f3a\"],[0.8888888888888888,\"#fdca26\"],[1.0,\"#f0f921\"]]}],\"heatmap\":[{\"type\":\"heatmap\",\"colorbar\":{\"outlinewidth\":0,\"ticks\":\"\"},\"colorscale\":[[0.0,\"#0d0887\"],[0.1111111111111111,\"#46039f\"],[0.2222222222222222,\"#7201a8\"],[0.3333333333333333,\"#9c179e\"],[0.4444444444444444,\"#bd3786\"],[0.5555555555555556,\"#d8576b\"],[0.6666666666666666,\"#ed7953\"],[0.7777777777777778,\"#fb9f3a\"],[0.8888888888888888,\"#fdca26\"],[1.0,\"#f0f921\"]]}],\"heatmapgl\":[{\"type\":\"heatmapgl\",\"colorbar\":{\"outlinewidth\":0,\"ticks\":\"\"},\"colorscale\":[[0.0,\"#0d0887\"],[0.1111111111111111,\"#46039f\"],[0.2222222222222222,\"#7201a8\"],[0.3333333333333333,\"#9c179e\"],[0.4444444444444444,\"#bd3786\"],[0.5555555555555556,\"#d8576b\"],[0.6666666666666666,\"#ed7953\"],[0.7777777777777778,\"#fb9f3a\"],[0.8888888888888888,\"#fdca26\"],[1.0,\"#f0f921\"]]}],\"contourcarpet\":[{\"type\":\"contourcarpet\",\"colorbar\":{\"outlinewidth\":0,\"ticks\":\"\"}}],\"contour\":[{\"type\":\"contour\",\"colorbar\":{\"outlinewidth\":0,\"ticks\":\"\"},\"colorscale\":[[0.0,\"#0d0887\"],[0.1111111111111111,\"#46039f\"],[0.2222222222222222,\"#7201a8\"],[0.3333333333333333,\"#9c179e\"],[0.4444444444444444,\"#bd3786\"],[0.5555555555555556,\"#d8576b\"],[0.6666666666666666,\"#ed7953\"],[0.7777777777777778,\"#fb9f3a\"],[0.8888888888888888,\"#fdca26\"],[1.0,\"#f0f921\"]]}],\"surface\":[{\"type\":\"surface\",\"colorbar\":{\"outlinewidth\":0,\"ticks\":\"\"},\"colorscale\":[[0.0,\"#0d0887\"],[0.1111111111111111,\"#46039f\"],[0.2222222222222222,\"#7201a8\"],[0.3333333333333333,\"#9c179e\"],[0.4444444444444444,\"#bd3786\"],[0.5555555555555556,\"#d8576b\"],[0.6666666666666666,\"#ed7953\"],[0.7777777777777778,\"#fb9f3a\"],[0.8888888888888888,\"#fdca26\"],[1.0,\"#f0f921\"]]}],\"mesh3d\":[{\"type\":\"mesh3d\",\"colorbar\":{\"outlinewidth\":0,\"ticks\":\"\"}}],\"scatter\":[{\"fillpattern\":{\"fillmode\":\"overlay\",\"size\":10,\"solidity\":0.2},\"type\":\"scatter\"}],\"parcoords\":[{\"type\":\"parcoords\",\"line\":{\"colorbar\":{\"outlinewidth\":0,\"ticks\":\"\"}}}],\"scatterpolargl\":[{\"type\":\"scatterpolargl\",\"marker\":{\"colorbar\":{\"outlinewidth\":0,\"ticks\":\"\"}}}],\"bar\":[{\"error_x\":{\"color\":\"#2a3f5f\"},\"error_y\":{\"color\":\"#2a3f5f\"},\"marker\":{\"line\":{\"color\":\"#E5ECF6\",\"width\":0.5},\"pattern\":{\"fillmode\":\"overlay\",\"size\":10,\"solidity\":0.2}},\"type\":\"bar\"}],\"scattergeo\":[{\"type\":\"scattergeo\",\"marker\":{\"colorbar\":{\"outlinewidth\":0,\"ticks\":\"\"}}}],\"scatterpolar\":[{\"type\":\"scatterpolar\",\"marker\":{\"colorbar\":{\"outlinewidth\":0,\"ticks\":\"\"}}}],\"histogram\":[{\"marker\":{\"pattern\":{\"fillmode\":\"overlay\",\"size\":10,\"solidity\":0.2}},\"type\":\"histogram\"}],\"scattergl\":[{\"type\":\"scattergl\",\"marker\":{\"colorbar\":{\"outlinewidth\":0,\"ticks\":\"\"}}}],\"scatter3d\":[{\"type\":\"scatter3d\",\"line\":{\"colorbar\":{\"outlinewidth\":0,\"ticks\":\"\"}},\"marker\":{\"colorbar\":{\"outlinewidth\":0,\"ticks\":\"\"}}}],\"scattermapbox\":[{\"type\":\"scattermapbox\",\"marker\":{\"colorbar\":{\"outlinewidth\":0,\"ticks\":\"\"}}}],\"scatterternary\":[{\"type\":\"scatterternary\",\"marker\":{\"colorbar\":{\"outlinewidth\":0,\"ticks\":\"\"}}}],\"scattercarpet\":[{\"type\":\"scattercarpet\",\"marker\":{\"colorbar\":{\"outlinewidth\":0,\"ticks\":\"\"}}}],\"carpet\":[{\"aaxis\":{\"endlinecolor\":\"#2a3f5f\",\"gridcolor\":\"white\",\"linecolor\":\"white\",\"minorgridcolor\":\"white\",\"startlinecolor\":\"#2a3f5f\"},\"baxis\":{\"endlinecolor\":\"#2a3f5f\",\"gridcolor\":\"white\",\"linecolor\":\"white\",\"minorgridcolor\":\"white\",\"startlinecolor\":\"#2a3f5f\"},\"type\":\"carpet\"}],\"table\":[{\"cells\":{\"fill\":{\"color\":\"#EBF0F8\"},\"line\":{\"color\":\"white\"}},\"header\":{\"fill\":{\"color\":\"#C8D4E3\"},\"line\":{\"color\":\"white\"}},\"type\":\"table\"}],\"barpolar\":[{\"marker\":{\"line\":{\"color\":\"#E5ECF6\",\"width\":0.5},\"pattern\":{\"fillmode\":\"overlay\",\"size\":10,\"solidity\":0.2}},\"type\":\"barpolar\"}],\"pie\":[{\"automargin\":true,\"type\":\"pie\"}]},\"layout\":{\"autotypenumbers\":\"strict\",\"colorway\":[\"#636efa\",\"#EF553B\",\"#00cc96\",\"#ab63fa\",\"#FFA15A\",\"#19d3f3\",\"#FF6692\",\"#B6E880\",\"#FF97FF\",\"#FECB52\"],\"font\":{\"color\":\"#2a3f5f\"},\"hovermode\":\"closest\",\"hoverlabel\":{\"align\":\"left\"},\"paper_bgcolor\":\"white\",\"plot_bgcolor\":\"#E5ECF6\",\"polar\":{\"bgcolor\":\"#E5ECF6\",\"angularaxis\":{\"gridcolor\":\"white\",\"linecolor\":\"white\",\"ticks\":\"\"},\"radialaxis\":{\"gridcolor\":\"white\",\"linecolor\":\"white\",\"ticks\":\"\"}},\"ternary\":{\"bgcolor\":\"#E5ECF6\",\"aaxis\":{\"gridcolor\":\"white\",\"linecolor\":\"white\",\"ticks\":\"\"},\"baxis\":{\"gridcolor\":\"white\",\"linecolor\":\"white\",\"ticks\":\"\"},\"caxis\":{\"gridcolor\":\"white\",\"linecolor\":\"white\",\"ticks\":\"\"}},\"coloraxis\":{\"colorbar\":{\"outlinewidth\":0,\"ticks\":\"\"}},\"colorscale\":{\"sequential\":[[0.0,\"#0d0887\"],[0.1111111111111111,\"#46039f\"],[0.2222222222222222,\"#7201a8\"],[0.3333333333333333,\"#9c179e\"],[0.4444444444444444,\"#bd3786\"],[0.5555555555555556,\"#d8576b\"],[0.6666666666666666,\"#ed7953\"],[0.7777777777777778,\"#fb9f3a\"],[0.8888888888888888,\"#fdca26\"],[1.0,\"#f0f921\"]],\"sequentialminus\":[[0.0,\"#0d0887\"],[0.1111111111111111,\"#46039f\"],[0.2222222222222222,\"#7201a8\"],[0.3333333333333333,\"#9c179e\"],[0.4444444444444444,\"#bd3786\"],[0.5555555555555556,\"#d8576b\"],[0.6666666666666666,\"#ed7953\"],[0.7777777777777778,\"#fb9f3a\"],[0.8888888888888888,\"#fdca26\"],[1.0,\"#f0f921\"]],\"diverging\":[[0,\"#8e0152\"],[0.1,\"#c51b7d\"],[0.2,\"#de77ae\"],[0.3,\"#f1b6da\"],[0.4,\"#fde0ef\"],[0.5,\"#f7f7f7\"],[0.6,\"#e6f5d0\"],[0.7,\"#b8e186\"],[0.8,\"#7fbc41\"],[0.9,\"#4d9221\"],[1,\"#276419\"]]},\"xaxis\":{\"gridcolor\":\"white\",\"linecolor\":\"white\",\"ticks\":\"\",\"title\":{\"standoff\":15},\"zerolinecolor\":\"white\",\"automargin\":true,\"zerolinewidth\":2},\"yaxis\":{\"gridcolor\":\"white\",\"linecolor\":\"white\",\"ticks\":\"\",\"title\":{\"standoff\":15},\"zerolinecolor\":\"white\",\"automargin\":true,\"zerolinewidth\":2},\"scene\":{\"xaxis\":{\"backgroundcolor\":\"#E5ECF6\",\"gridcolor\":\"white\",\"linecolor\":\"white\",\"showbackground\":true,\"ticks\":\"\",\"zerolinecolor\":\"white\",\"gridwidth\":2},\"yaxis\":{\"backgroundcolor\":\"#E5ECF6\",\"gridcolor\":\"white\",\"linecolor\":\"white\",\"showbackground\":true,\"ticks\":\"\",\"zerolinecolor\":\"white\",\"gridwidth\":2},\"zaxis\":{\"backgroundcolor\":\"#E5ECF6\",\"gridcolor\":\"white\",\"linecolor\":\"white\",\"showbackground\":true,\"ticks\":\"\",\"zerolinecolor\":\"white\",\"gridwidth\":2}},\"shapedefaults\":{\"line\":{\"color\":\"#2a3f5f\"}},\"annotationdefaults\":{\"arrowcolor\":\"#2a3f5f\",\"arrowhead\":0,\"arrowwidth\":1},\"geo\":{\"bgcolor\":\"white\",\"landcolor\":\"#E5ECF6\",\"subunitcolor\":\"white\",\"showland\":true,\"showlakes\":true,\"lakecolor\":\"white\"},\"title\":{\"x\":0.05},\"mapbox\":{\"style\":\"light\"}}},\"barmode\":\"group\",\"title\":{\"text\":\" Monthwise High and Low stock price\"}},                        {\"responsive\": true}                    ).then(function(){\n",
       "                            \n",
       "var gd = document.getElementById('a52017a3-8090-4b8d-870c-5912ef1e78fe');\n",
       "var x = new MutationObserver(function (mutations, observer) {{\n",
       "        var display = window.getComputedStyle(gd).display;\n",
       "        if (!display || display === 'none') {{\n",
       "            console.log([gd, 'removed!']);\n",
       "            Plotly.purge(gd);\n",
       "            observer.disconnect();\n",
       "        }}\n",
       "}});\n",
       "\n",
       "// Listen for the removal of the full notebook cells\n",
       "var notebookContainer = gd.closest('#notebook-container');\n",
       "if (notebookContainer) {{\n",
       "    x.observe(notebookContainer, {childList: true});\n",
       "}}\n",
       "\n",
       "// Listen for the clearing of the current output cell\n",
       "var outputEl = gd.closest('.output');\n",
       "if (outputEl) {{\n",
       "    x.observe(outputEl, {childList: true});\n",
       "}}\n",
       "\n",
       "                        })                };                });            </script>        </div>"
      ]
     },
     "metadata": {},
     "output_type": "display_data"
    }
   ],
   "source": [
    "y_2021.groupby(y_2021['Date'].dt.strftime('%B'))['Low'].min()\n",
    "monthvise_high = y_2021.groupby(df['Date'].dt.strftime('%B'))['High'].max()\n",
    "monthvise_high = monthvise_high.reindex(new_order, axis=0)\n",
    "\n",
    "monthvise_low = y_2021.groupby(y_2021['Date'].dt.strftime('%B'))['Low'].min()\n",
    "monthvise_low = monthvise_low.reindex(new_order, axis=0)\n",
    "\n",
    "fig = go.Figure()\n",
    "fig.add_trace(go.Bar(\n",
    "    x=monthvise_high.index,\n",
    "    y=monthvise_high,\n",
    "    name='Stock high Price',\n",
    "    marker_color='rgb(0, 153, 204)'\n",
    "))\n",
    "fig.add_trace(go.Bar(\n",
    "    x=monthvise_low.index,\n",
    "    y=monthvise_low,\n",
    "    name='Stock low Price',\n",
    "    marker_color='rgb(255, 128, 0)'\n",
    "))\n",
    "\n",
    "fig.update_layout(barmode='group', \n",
    "                  title=' Monthwise High and Low stock price')\n",
    "fig.show()"
   ]
  },
  {
   "cell_type": "code",
   "execution_count": 168,
   "id": "e1968d04",
   "metadata": {},
   "outputs": [
    {
     "data": {
      "application/vnd.plotly.v1+json": {
       "config": {
        "plotlyServerURL": "https://plot.ly"
       },
       "data": [
        {
         "hovertemplate": "variable=Open<br>Date=%{x}<br>Stock value=%{y}<extra></extra>",
         "legendgroup": "Open",
         "line": {
          "color": "#636efa",
          "dash": "solid"
         },
         "marker": {
          "symbol": "circle"
         },
         "mode": "lines",
         "name": "Stock Open Price",
         "showlegend": true,
         "type": "scattergl",
         "x": [
          "2021-01-02T00:00:00+00:00",
          "2021-01-03T00:00:00+00:00",
          "2021-01-12T00:00:00+00:00",
          "2021-01-13T00:00:00+00:00",
          "2021-01-14T00:00:00+00:00",
          "2021-01-15T00:00:00+00:00",
          "2021-01-19T00:00:00+00:00",
          "2021-01-20T00:00:00+00:00",
          "2021-01-21T00:00:00+00:00",
          "2021-01-22T00:00:00+00:00",
          "2021-01-25T00:00:00+00:00",
          "2021-01-26T00:00:00+00:00",
          "2021-01-27T00:00:00+00:00",
          "2021-01-28T00:00:00+00:00",
          "2021-01-29T00:00:00+00:00",
          "2021-02-02T00:00:00+00:00",
          "2021-02-03T00:00:00+00:00",
          "2021-02-12T00:00:00+00:00",
          "2021-02-16T00:00:00+00:00",
          "2021-02-17T00:00:00+00:00",
          "2021-02-18T00:00:00+00:00",
          "2021-02-19T00:00:00+00:00",
          "2021-02-22T00:00:00+00:00",
          "2021-02-23T00:00:00+00:00",
          "2021-02-24T00:00:00+00:00",
          "2021-02-25T00:00:00+00:00",
          "2021-02-26T00:00:00+00:00",
          "2021-03-02T00:00:00+00:00",
          "2021-03-03T00:00:00+00:00",
          "2021-03-12T00:00:00+00:00",
          "2021-03-15T04:00:00+00:00",
          "2021-03-16T04:00:00+00:00",
          "2021-03-17T04:00:00+00:00",
          "2021-03-18T04:00:00+00:00",
          "2021-03-19T04:00:00+00:00",
          "2021-03-22T04:00:00+00:00",
          "2021-03-23T04:00:00+00:00",
          "2021-03-24T04:00:00+00:00",
          "2021-03-25T04:00:00+00:00",
          "2021-03-26T04:00:00+00:00",
          "2021-03-29T04:00:00+00:00",
          "2021-03-30T04:00:00+00:00",
          "2021-03-31T04:00:00+00:00",
          "2021-04-01T00:00:00+00:00",
          "2021-04-01T04:00:00+00:00",
          "2021-04-02T00:00:00+00:00",
          "2021-04-03T00:00:00+00:00",
          "2021-04-05T04:00:00+00:00",
          "2021-04-06T04:00:00+00:00",
          "2021-04-07T04:00:00+00:00",
          "2021-04-08T04:00:00+00:00",
          "2021-04-09T04:00:00+00:00",
          "2021-04-12T04:00:00+00:00",
          "2021-04-13T04:00:00+00:00",
          "2021-04-14T04:00:00+00:00",
          "2021-04-15T04:00:00+00:00",
          "2021-04-16T04:00:00+00:00",
          "2021-04-19T04:00:00+00:00",
          "2021-04-20T04:00:00+00:00",
          "2021-04-21T04:00:00+00:00",
          "2021-04-22T04:00:00+00:00",
          "2021-04-23T04:00:00+00:00",
          "2021-04-26T04:00:00+00:00",
          "2021-04-27T04:00:00+00:00",
          "2021-04-28T04:00:00+00:00",
          "2021-04-29T04:00:00+00:00",
          "2021-04-30T04:00:00+00:00",
          "2021-05-01T00:00:00+00:00",
          "2021-05-02T00:00:00+00:00",
          "2021-05-03T00:00:00+00:00",
          "2021-05-03T04:00:00+00:00",
          "2021-05-04T04:00:00+00:00",
          "2021-05-05T04:00:00+00:00",
          "2021-05-06T04:00:00+00:00",
          "2021-05-07T04:00:00+00:00",
          "2021-05-10T04:00:00+00:00",
          "2021-05-11T04:00:00+00:00",
          "2021-05-12T04:00:00+00:00",
          "2021-05-13T04:00:00+00:00",
          "2021-05-14T04:00:00+00:00",
          "2021-05-17T04:00:00+00:00",
          "2021-05-18T04:00:00+00:00",
          "2021-05-19T04:00:00+00:00",
          "2021-05-20T04:00:00+00:00",
          "2021-05-21T04:00:00+00:00",
          "2021-05-24T04:00:00+00:00",
          "2021-05-25T04:00:00+00:00",
          "2021-05-26T04:00:00+00:00",
          "2021-05-27T04:00:00+00:00",
          "2021-05-28T04:00:00+00:00",
          "2021-06-01T00:00:00+00:00",
          "2021-06-01T04:00:00+00:00",
          "2021-06-02T04:00:00+00:00",
          "2021-06-03T04:00:00+00:00",
          "2021-06-04T04:00:00+00:00",
          "2021-06-07T04:00:00+00:00",
          "2021-06-08T04:00:00+00:00",
          "2021-06-09T04:00:00+00:00",
          "2021-06-10T04:00:00+00:00",
          "2021-06-11T04:00:00+00:00",
          "2021-06-12T00:00:00+00:00",
          "2021-06-14T04:00:00+00:00",
          "2021-06-15T04:00:00+00:00",
          "2021-06-16T04:00:00+00:00",
          "2021-06-17T04:00:00+00:00",
          "2021-06-18T04:00:00+00:00",
          "2021-06-21T04:00:00+00:00",
          "2021-06-22T04:00:00+00:00",
          "2021-06-23T04:00:00+00:00",
          "2021-06-24T04:00:00+00:00",
          "2021-06-25T04:00:00+00:00",
          "2021-06-28T04:00:00+00:00",
          "2021-06-29T04:00:00+00:00",
          "2021-06-30T04:00:00+00:00",
          "2021-07-01T00:00:00+00:00",
          "2021-07-01T04:00:00+00:00",
          "2021-07-02T04:00:00+00:00",
          "2021-07-06T04:00:00+00:00",
          "2021-07-07T04:00:00+00:00",
          "2021-07-08T04:00:00+00:00",
          "2021-07-09T04:00:00+00:00",
          "2021-07-12T00:00:00+00:00",
          "2021-07-12T04:00:00+00:00",
          "2021-07-13T04:00:00+00:00",
          "2021-07-14T04:00:00+00:00",
          "2021-07-15T04:00:00+00:00",
          "2021-07-16T04:00:00+00:00",
          "2021-07-19T04:00:00+00:00",
          "2021-07-20T04:00:00+00:00",
          "2021-07-21T04:00:00+00:00",
          "2021-07-22T04:00:00+00:00",
          "2021-07-23T04:00:00+00:00",
          "2021-07-26T04:00:00+00:00",
          "2021-07-27T04:00:00+00:00",
          "2021-07-28T04:00:00+00:00",
          "2021-07-29T04:00:00+00:00",
          "2021-07-30T04:00:00+00:00",
          "2021-08-01T00:00:00+00:00",
          "2021-08-02T00:00:00+00:00",
          "2021-08-02T04:00:00+00:00",
          "2021-08-03T00:00:00+00:00",
          "2021-08-03T04:00:00+00:00",
          "2021-08-04T04:00:00+00:00",
          "2021-08-05T04:00:00+00:00",
          "2021-08-06T04:00:00+00:00",
          "2021-08-09T04:00:00+00:00",
          "2021-08-10T04:00:00+00:00",
          "2021-08-11T00:00:00+00:00",
          "2021-08-11T04:00:00+00:00",
          "2021-08-12T00:00:00+00:00",
          "2021-08-12T04:00:00+00:00",
          "2021-08-13T04:00:00+00:00",
          "2021-08-16T04:00:00+00:00",
          "2021-08-17T04:00:00+00:00",
          "2021-08-18T04:00:00+00:00",
          "2021-08-19T04:00:00+00:00",
          "2021-08-20T04:00:00+00:00",
          "2021-08-23T04:00:00+00:00",
          "2021-08-24T04:00:00+00:00",
          "2021-08-25T04:00:00+00:00",
          "2021-08-26T04:00:00+00:00",
          "2021-08-27T04:00:00+00:00",
          "2021-08-30T04:00:00+00:00",
          "2021-08-31T04:00:00+00:00",
          "2021-09-01T04:00:00+00:00",
          "2021-09-02T00:00:00+00:00",
          "2021-09-02T04:00:00+00:00",
          "2021-09-03T00:00:00+00:00",
          "2021-09-03T04:00:00+00:00",
          "2021-09-07T04:00:00+00:00",
          "2021-09-08T04:00:00+00:00",
          "2021-09-09T04:00:00+00:00",
          "2021-09-10T04:00:00+00:00",
          "2021-09-11T00:00:00+00:00",
          "2021-09-12T00:00:00+00:00",
          "2021-09-13T04:00:00+00:00",
          "2021-09-14T04:00:00+00:00",
          "2021-09-15T04:00:00+00:00",
          "2021-09-16T04:00:00+00:00",
          "2021-09-17T04:00:00+00:00",
          "2021-09-20T04:00:00+00:00",
          "2021-09-21T04:00:00+00:00",
          "2021-09-22T04:00:00+00:00",
          "2021-09-23T04:00:00+00:00",
          "2021-09-24T04:00:00+00:00",
          "2021-09-27T04:00:00+00:00",
          "2021-09-28T04:00:00+00:00",
          "2021-09-29T04:00:00+00:00",
          "2021-09-30T04:00:00+00:00",
          "2021-10-01T04:00:00+00:00",
          "2021-10-02T00:00:00+00:00",
          "2021-10-03T00:00:00+00:00",
          "2021-10-04T04:00:00+00:00",
          "2021-10-05T04:00:00+00:00",
          "2021-10-06T04:00:00+00:00",
          "2021-10-07T04:00:00+00:00",
          "2021-10-08T04:00:00+00:00",
          "2021-10-11T00:00:00+00:00",
          "2021-10-11T04:00:00+00:00",
          "2021-10-12T00:00:00+00:00",
          "2021-10-12T04:00:00+00:00",
          "2021-10-13T04:00:00+00:00",
          "2021-10-14T04:00:00+00:00",
          "2021-10-15T04:00:00+00:00",
          "2021-10-18T04:00:00+00:00",
          "2021-10-19T04:00:00+00:00",
          "2021-10-20T04:00:00+00:00",
          "2021-10-21T04:00:00+00:00",
          "2021-10-22T04:00:00+00:00",
          "2021-10-25T04:00:00+00:00",
          "2021-10-26T04:00:00+00:00",
          "2021-10-27T04:00:00+00:00",
          "2021-10-28T04:00:00+00:00",
          "2021-10-29T04:00:00+00:00",
          "2021-11-01T00:00:00+00:00",
          "2021-11-01T04:00:00+00:00",
          "2021-11-02T00:00:00+00:00",
          "2021-11-02T04:00:00+00:00",
          "2021-11-03T00:00:00+00:00",
          "2021-11-03T04:00:00+00:00",
          "2021-11-04T04:00:00+00:00",
          "2021-11-05T04:00:00+00:00",
          "2021-11-11T00:00:00+00:00",
          "2021-11-15T00:00:00+00:00",
          "2021-11-16T00:00:00+00:00",
          "2021-11-17T00:00:00+00:00",
          "2021-11-18T00:00:00+00:00",
          "2021-11-19T00:00:00+00:00",
          "2021-11-22T00:00:00+00:00",
          "2021-11-23T00:00:00+00:00",
          "2021-11-24T00:00:00+00:00",
          "2021-11-26T00:00:00+00:00",
          "2021-11-29T00:00:00+00:00",
          "2021-11-30T00:00:00+00:00",
          "2021-12-01T00:00:00+00:00",
          "2021-12-02T00:00:00+00:00",
          "2021-12-03T00:00:00+00:00",
          "2021-12-11T00:00:00+00:00",
          "2021-12-13T00:00:00+00:00",
          "2021-12-14T00:00:00+00:00",
          "2021-12-15T00:00:00+00:00",
          "2021-12-16T00:00:00+00:00",
          "2021-12-17T00:00:00+00:00",
          "2021-12-20T00:00:00+00:00",
          "2021-12-21T00:00:00+00:00",
          "2021-12-22T00:00:00+00:00",
          "2021-12-23T00:00:00+00:00",
          "2021-12-27T00:00:00+00:00",
          "2021-12-28T00:00:00+00:00",
          "2021-12-29T00:00:00+00:00",
          "2021-12-30T00:00:00+00:00",
          "2021-12-31T00:00:00+00:00"
         ],
         "xaxis": "x",
         "y": [
          45.77242426,
          46.8818832,
          51.82255412,
          47.39394565,
          47.56463112,
          46.61637369,
          46.21810638,
          46.02845734,
          46.25603817,
          46.2844756,
          45.91466131,
          46.37930779,
          46.36034403,
          46.17068634,
          46.49310269,
          46.2750023,
          47.26119066,
          51.45085792,
          48.00082659,
          47.41291164,
          47.56463213,
          48.16203542,
          47.27067107,
          48.36116661,
          47.78273167,
          47.85859229,
          47.60255729,
          46.41723827,
          47.14739825,
          52.1649119,
          48.28561868,
          48.95493279,
          49.00273541,
          48.82106605,
          48.24738002,
          48.11351564,
          48.75413849,
          48.92624356,
          49.4330075,
          49.85371132,
          50.41784325,
          51.39311278,
          50.70468399,
          51.46196978,
          50.63775001,
          46.42672035,
          47.7068724,
          50.05450295,
          50.71424557,
          50.94371796,
          50.83854397,
          50.83854665,
          50.99153083,
          50.71424763,
          50.65687753,
          50.80030045,
          51.38354987,
          51.63214874,
          51.47916888,
          51.86162968,
          52.08153964,
          52.01460888,
          52.08154383,
          51.21144829,
          51.61302584,
          51.19232255,
          51.87118685,
          49.62235799,
          46.93878018,
          47.46032045,
          51.89031178,
          52.17715547,
          51.76600929,
          51.74688655,
          52.05285123,
          52.47355968,
          52.61698426,
          51.97635905,
          51.6034628,
          52.49268671,
          52.43531814,
          52.00505169,
          51.74688999,
          51.74689196,
          52.39707161,
          52.23452793,
          52.41619557,
          52.5691785,
          52.78909516,
          52.92295205,
          49.28098101,
          52.91338843,
          53.06637955,
          52.76040872,
          53.44883814,
          53.84086001,
          53.78349368,
          53.30541767,
          53.45839691,
          53.53489338,
          53.1234978,
          53.64926967,
          53.73597239,
          53.40843312,
          52.66664786,
          52.5125064,
          52.23313847,
          52.34874099,
          52.56067763,
          52.27167056,
          52.25240506,
          52.26203936,
          52.14643609,
          51.82852522,
          47.49825169,
          52.34874216,
          52.02120248,
          52.01157121,
          51.75145975,
          52.03083328,
          52.26204023,
          53.81798602,
          52.32947151,
          52.93638773,
          53.00382447,
          54.17911605,
          54.39105093,
          54.02498567,
          53.68780378,
          55.22917247,
          54.54518547,
          54.51629087,
          54.80529808,
          55.01724202,
          54.90163601,
          54.97870206,
          55.05577179,
          47.44135678,
          47.37497877,
          55.10393923,
          48.80685356,
          54.91126439,
          54.67042927,
          54.37178947,
          54.52592184,
          54.71859399,
          54.7571287,
          55.08303429,
          54.80529411,
          53.91580492,
          54.65115616,
          54.72823162,
          55.10394172,
          55.35440786,
          55.09430618,
          54.00571023,
          54.75712878,
          54.59335554,
          54.56445744,
          54.00571077,
          53.899744,
          53.6203726,
          53.64927295,
          54.10204671,
          54.31398346,
          47.27066979,
          54.68969345,
          49.04391526,
          54.39105095,
          54.52592201,
          53.57220432,
          54.12131133,
          53.95754462,
          54.75302516,
          53.55388251,
          53.69743731,
          54.27741227,
          54.04446427,
          54.0832936,
          53.40385395,
          52.52058028,
          52.79235818,
          52.90882855,
          52.66617195,
          52.41381446,
          52.26821507,
          51.88967461,
          51.09375785,
          51.60818821,
          51.22964879,
          47.80169409,
          48.53185109,
          51.50142284,
          51.46260079,
          51.21994456,
          52.40410987,
          52.41381078,
          54.87920393,
          52.61764529,
          54.04296422,
          52.8214759,
          52.57881561,
          52.79235857,
          53.03501118,
          52.75353215,
          52.45263681,
          52.5885242,
          52.99618896,
          52.79235467,
          52.78265367,
          52.72440736,
          54.32594648,
          54.11240411,
          54.22888217,
          48.00082481,
          54.73360806,
          47.23274319,
          54.81126373,
          48.749955,
          54.35506462,
          54.46183422,
          55.17039108,
          55.16068643,
          54.86949546,
          54.95685176,
          54.39388644,
          54.19005931,
          53.81151569,
          53.48149905,
          54.0250513,
          54.07358154,
          52.98648008,
          52.46234553,
          52.42900827,
          47.45084176,
          47.95341736,
          48.3716782,
          55.08303444,
          55.73516868,
          56.14599529,
          56.66441542,
          56.71331832,
          57.212179,
          55.95036007,
          56.35140351,
          56.44922141,
          57.24152719,
          56.73288183,
          57.12414917,
          57.66212845,
          57.76972357,
          57.46650092
         ],
         "yaxis": "y"
        },
        {
         "hovertemplate": "variable=Close<br>Date=%{x}<br>Stock value=%{y}<extra></extra>",
         "legendgroup": "Close",
         "line": {
          "color": "#EF553B",
          "dash": "solid"
         },
         "marker": {
          "symbol": "circle"
         },
         "mode": "lines",
         "name": "Stock Close Price",
         "showlegend": true,
         "type": "scattergl",
         "x": [
          "2021-01-02T00:00:00+00:00",
          "2021-01-03T00:00:00+00:00",
          "2021-01-12T00:00:00+00:00",
          "2021-01-13T00:00:00+00:00",
          "2021-01-14T00:00:00+00:00",
          "2021-01-15T00:00:00+00:00",
          "2021-01-19T00:00:00+00:00",
          "2021-01-20T00:00:00+00:00",
          "2021-01-21T00:00:00+00:00",
          "2021-01-22T00:00:00+00:00",
          "2021-01-25T00:00:00+00:00",
          "2021-01-26T00:00:00+00:00",
          "2021-01-27T00:00:00+00:00",
          "2021-01-28T00:00:00+00:00",
          "2021-01-29T00:00:00+00:00",
          "2021-02-02T00:00:00+00:00",
          "2021-02-03T00:00:00+00:00",
          "2021-02-12T00:00:00+00:00",
          "2021-02-16T00:00:00+00:00",
          "2021-02-17T00:00:00+00:00",
          "2021-02-18T00:00:00+00:00",
          "2021-02-19T00:00:00+00:00",
          "2021-02-22T00:00:00+00:00",
          "2021-02-23T00:00:00+00:00",
          "2021-02-24T00:00:00+00:00",
          "2021-02-25T00:00:00+00:00",
          "2021-02-26T00:00:00+00:00",
          "2021-03-02T00:00:00+00:00",
          "2021-03-03T00:00:00+00:00",
          "2021-03-12T00:00:00+00:00",
          "2021-03-15T04:00:00+00:00",
          "2021-03-16T04:00:00+00:00",
          "2021-03-17T04:00:00+00:00",
          "2021-03-18T04:00:00+00:00",
          "2021-03-19T04:00:00+00:00",
          "2021-03-22T04:00:00+00:00",
          "2021-03-23T04:00:00+00:00",
          "2021-03-24T04:00:00+00:00",
          "2021-03-25T04:00:00+00:00",
          "2021-03-26T04:00:00+00:00",
          "2021-03-29T04:00:00+00:00",
          "2021-03-30T04:00:00+00:00",
          "2021-03-31T04:00:00+00:00",
          "2021-04-01T00:00:00+00:00",
          "2021-04-01T04:00:00+00:00",
          "2021-04-02T00:00:00+00:00",
          "2021-04-03T00:00:00+00:00",
          "2021-04-05T04:00:00+00:00",
          "2021-04-06T04:00:00+00:00",
          "2021-04-07T04:00:00+00:00",
          "2021-04-08T04:00:00+00:00",
          "2021-04-09T04:00:00+00:00",
          "2021-04-12T04:00:00+00:00",
          "2021-04-13T04:00:00+00:00",
          "2021-04-14T04:00:00+00:00",
          "2021-04-15T04:00:00+00:00",
          "2021-04-16T04:00:00+00:00",
          "2021-04-19T04:00:00+00:00",
          "2021-04-20T04:00:00+00:00",
          "2021-04-21T04:00:00+00:00",
          "2021-04-22T04:00:00+00:00",
          "2021-04-23T04:00:00+00:00",
          "2021-04-26T04:00:00+00:00",
          "2021-04-27T04:00:00+00:00",
          "2021-04-28T04:00:00+00:00",
          "2021-04-29T04:00:00+00:00",
          "2021-04-30T04:00:00+00:00",
          "2021-05-01T00:00:00+00:00",
          "2021-05-02T00:00:00+00:00",
          "2021-05-03T00:00:00+00:00",
          "2021-05-03T04:00:00+00:00",
          "2021-05-04T04:00:00+00:00",
          "2021-05-05T04:00:00+00:00",
          "2021-05-06T04:00:00+00:00",
          "2021-05-07T04:00:00+00:00",
          "2021-05-10T04:00:00+00:00",
          "2021-05-11T04:00:00+00:00",
          "2021-05-12T04:00:00+00:00",
          "2021-05-13T04:00:00+00:00",
          "2021-05-14T04:00:00+00:00",
          "2021-05-17T04:00:00+00:00",
          "2021-05-18T04:00:00+00:00",
          "2021-05-19T04:00:00+00:00",
          "2021-05-20T04:00:00+00:00",
          "2021-05-21T04:00:00+00:00",
          "2021-05-24T04:00:00+00:00",
          "2021-05-25T04:00:00+00:00",
          "2021-05-26T04:00:00+00:00",
          "2021-05-27T04:00:00+00:00",
          "2021-05-28T04:00:00+00:00",
          "2021-06-01T00:00:00+00:00",
          "2021-06-01T04:00:00+00:00",
          "2021-06-02T04:00:00+00:00",
          "2021-06-03T04:00:00+00:00",
          "2021-06-04T04:00:00+00:00",
          "2021-06-07T04:00:00+00:00",
          "2021-06-08T04:00:00+00:00",
          "2021-06-09T04:00:00+00:00",
          "2021-06-10T04:00:00+00:00",
          "2021-06-11T04:00:00+00:00",
          "2021-06-12T00:00:00+00:00",
          "2021-06-14T04:00:00+00:00",
          "2021-06-15T04:00:00+00:00",
          "2021-06-16T04:00:00+00:00",
          "2021-06-17T04:00:00+00:00",
          "2021-06-18T04:00:00+00:00",
          "2021-06-21T04:00:00+00:00",
          "2021-06-22T04:00:00+00:00",
          "2021-06-23T04:00:00+00:00",
          "2021-06-24T04:00:00+00:00",
          "2021-06-25T04:00:00+00:00",
          "2021-06-28T04:00:00+00:00",
          "2021-06-29T04:00:00+00:00",
          "2021-06-30T04:00:00+00:00",
          "2021-07-01T00:00:00+00:00",
          "2021-07-01T04:00:00+00:00",
          "2021-07-02T04:00:00+00:00",
          "2021-07-06T04:00:00+00:00",
          "2021-07-07T04:00:00+00:00",
          "2021-07-08T04:00:00+00:00",
          "2021-07-09T04:00:00+00:00",
          "2021-07-12T00:00:00+00:00",
          "2021-07-12T04:00:00+00:00",
          "2021-07-13T04:00:00+00:00",
          "2021-07-14T04:00:00+00:00",
          "2021-07-15T04:00:00+00:00",
          "2021-07-16T04:00:00+00:00",
          "2021-07-19T04:00:00+00:00",
          "2021-07-20T04:00:00+00:00",
          "2021-07-21T04:00:00+00:00",
          "2021-07-22T04:00:00+00:00",
          "2021-07-23T04:00:00+00:00",
          "2021-07-26T04:00:00+00:00",
          "2021-07-27T04:00:00+00:00",
          "2021-07-28T04:00:00+00:00",
          "2021-07-29T04:00:00+00:00",
          "2021-07-30T04:00:00+00:00",
          "2021-08-01T00:00:00+00:00",
          "2021-08-02T00:00:00+00:00",
          "2021-08-02T04:00:00+00:00",
          "2021-08-03T00:00:00+00:00",
          "2021-08-03T04:00:00+00:00",
          "2021-08-04T04:00:00+00:00",
          "2021-08-05T04:00:00+00:00",
          "2021-08-06T04:00:00+00:00",
          "2021-08-09T04:00:00+00:00",
          "2021-08-10T04:00:00+00:00",
          "2021-08-11T00:00:00+00:00",
          "2021-08-11T04:00:00+00:00",
          "2021-08-12T00:00:00+00:00",
          "2021-08-12T04:00:00+00:00",
          "2021-08-13T04:00:00+00:00",
          "2021-08-16T04:00:00+00:00",
          "2021-08-17T04:00:00+00:00",
          "2021-08-18T04:00:00+00:00",
          "2021-08-19T04:00:00+00:00",
          "2021-08-20T04:00:00+00:00",
          "2021-08-23T04:00:00+00:00",
          "2021-08-24T04:00:00+00:00",
          "2021-08-25T04:00:00+00:00",
          "2021-08-26T04:00:00+00:00",
          "2021-08-27T04:00:00+00:00",
          "2021-08-30T04:00:00+00:00",
          "2021-08-31T04:00:00+00:00",
          "2021-09-01T04:00:00+00:00",
          "2021-09-02T00:00:00+00:00",
          "2021-09-02T04:00:00+00:00",
          "2021-09-03T00:00:00+00:00",
          "2021-09-03T04:00:00+00:00",
          "2021-09-07T04:00:00+00:00",
          "2021-09-08T04:00:00+00:00",
          "2021-09-09T04:00:00+00:00",
          "2021-09-10T04:00:00+00:00",
          "2021-09-11T00:00:00+00:00",
          "2021-09-12T00:00:00+00:00",
          "2021-09-13T04:00:00+00:00",
          "2021-09-14T04:00:00+00:00",
          "2021-09-15T04:00:00+00:00",
          "2021-09-16T04:00:00+00:00",
          "2021-09-17T04:00:00+00:00",
          "2021-09-20T04:00:00+00:00",
          "2021-09-21T04:00:00+00:00",
          "2021-09-22T04:00:00+00:00",
          "2021-09-23T04:00:00+00:00",
          "2021-09-24T04:00:00+00:00",
          "2021-09-27T04:00:00+00:00",
          "2021-09-28T04:00:00+00:00",
          "2021-09-29T04:00:00+00:00",
          "2021-09-30T04:00:00+00:00",
          "2021-10-01T04:00:00+00:00",
          "2021-10-02T00:00:00+00:00",
          "2021-10-03T00:00:00+00:00",
          "2021-10-04T04:00:00+00:00",
          "2021-10-05T04:00:00+00:00",
          "2021-10-06T04:00:00+00:00",
          "2021-10-07T04:00:00+00:00",
          "2021-10-08T04:00:00+00:00",
          "2021-10-11T00:00:00+00:00",
          "2021-10-11T04:00:00+00:00",
          "2021-10-12T00:00:00+00:00",
          "2021-10-12T04:00:00+00:00",
          "2021-10-13T04:00:00+00:00",
          "2021-10-14T04:00:00+00:00",
          "2021-10-15T04:00:00+00:00",
          "2021-10-18T04:00:00+00:00",
          "2021-10-19T04:00:00+00:00",
          "2021-10-20T04:00:00+00:00",
          "2021-10-21T04:00:00+00:00",
          "2021-10-22T04:00:00+00:00",
          "2021-10-25T04:00:00+00:00",
          "2021-10-26T04:00:00+00:00",
          "2021-10-27T04:00:00+00:00",
          "2021-10-28T04:00:00+00:00",
          "2021-10-29T04:00:00+00:00",
          "2021-11-01T00:00:00+00:00",
          "2021-11-01T04:00:00+00:00",
          "2021-11-02T00:00:00+00:00",
          "2021-11-02T04:00:00+00:00",
          "2021-11-03T00:00:00+00:00",
          "2021-11-03T04:00:00+00:00",
          "2021-11-04T04:00:00+00:00",
          "2021-11-05T04:00:00+00:00",
          "2021-11-11T00:00:00+00:00",
          "2021-11-15T00:00:00+00:00",
          "2021-11-16T00:00:00+00:00",
          "2021-11-17T00:00:00+00:00",
          "2021-11-18T00:00:00+00:00",
          "2021-11-19T00:00:00+00:00",
          "2021-11-22T00:00:00+00:00",
          "2021-11-23T00:00:00+00:00",
          "2021-11-24T00:00:00+00:00",
          "2021-11-26T00:00:00+00:00",
          "2021-11-29T00:00:00+00:00",
          "2021-11-30T00:00:00+00:00",
          "2021-12-01T00:00:00+00:00",
          "2021-12-02T00:00:00+00:00",
          "2021-12-03T00:00:00+00:00",
          "2021-12-11T00:00:00+00:00",
          "2021-12-13T00:00:00+00:00",
          "2021-12-14T00:00:00+00:00",
          "2021-12-15T00:00:00+00:00",
          "2021-12-16T00:00:00+00:00",
          "2021-12-17T00:00:00+00:00",
          "2021-12-20T00:00:00+00:00",
          "2021-12-21T00:00:00+00:00",
          "2021-12-22T00:00:00+00:00",
          "2021-12-23T00:00:00+00:00",
          "2021-12-27T00:00:00+00:00",
          "2021-12-28T00:00:00+00:00",
          "2021-12-29T00:00:00+00:00",
          "2021-12-30T00:00:00+00:00",
          "2021-12-31T00:00:00+00:00"
         ],
         "xaxis": "x",
         "y": [
          45.97155762,
          47.31808472,
          51.15740967,
          47.56463242,
          46.6827507,
          46.18017578,
          46.00000381,
          46.16121292,
          46.41724396,
          45.98103333,
          46.25603485,
          46.73964691,
          46.01897049,
          46.60688782,
          45.658638,
          46.42672348,
          47.50773621,
          51.91059113,
          47.66893768,
          47.53618622,
          48.14307022,
          47.51721954,
          48.01031494,
          47.92496872,
          48.08617401,
          47.57411194,
          46.45516586,
          46.24655151,
          47.39394379,
          52.37032318,
          48.79237747,
          48.97405624,
          48.99317551,
          48.35255051,
          48.58203506,
          48.76369858,
          49.13659668,
          49.26089859,
          49.73897552,
          50.71424866,
          51.48873138,
          50.81942368,
          50.39871597,
          50.03009796,
          50.20748138,
          46.47413254,
          47.35601425,
          50.49433517,
          50.85766602,
          50.94371796,
          50.79073715,
          50.8481102,
          51.01065063,
          50.76205444,
          50.75249481,
          50.99153137,
          51.3261795,
          51.63214874,
          51.79469681,
          52.21540451,
          52.05285263,
          52.08153915,
          51.30706024,
          51.23057175,
          51.24012756,
          51.88074875,
          51.61302567,
          49.4801178,
          47.08102036,
          48.16203308,
          52.0911026,
          51.76601028,
          51.63214874,
          52.14847183,
          52.11978149,
          52.50224304,
          51.93811798,
          51.67039108,
          52.11978149,
          52.33013916,
          52.24408722,
          51.95724487,
          51.79469681,
          52.25365448,
          52.22496414,
          52.39707184,
          52.38751221,
          52.61698532,
          53.05681992,
          52.86558533,
          47.90600586,
          52.85601807,
          53.06637955,
          53.20023727,
          53.7739296,
          53.58269882,
          53.20980453,
          53.04725647,
          53.45839691,
          53.69743729,
          53.71038818,
          53.51440048,
          53.37953186,
          52.66664886,
          52.93638992,
          51.7996254,
          52.36800766,
          52.56068039,
          52.13679886,
          52.39690781,
          52.32947159,
          52.2716713,
          51.88632965,
          52.12716675,
          47.37497711,
          51.98266602,
          52.19460678,
          51.9056015,
          52.32947159,
          52.1464386,
          52.46434402,
          54.00383377,
          52.48360825,
          53.00382233,
          54.19838333,
          54.37178421,
          54.33325195,
          53.68780899,
          53.78414154,
          54.47775269,
          54.40068436,
          54.92089844,
          54.96907043,
          55.16174316,
          54.66079712,
          54.95943451,
          54.94016647,
          48.43703079,
          47.33704758,
          54.79566574,
          48.96805573,
          54.83419418,
          54.04424667,
          54.42959213,
          54.56445694,
          54.57409286,
          54.7185936,
          54.67537308,
          54.65115738,
          53.79842758,
          54.75712585,
          55.1328392,
          55.37368011,
          55.18100357,
          54.42959213,
          54.77639389,
          54.56445694,
          54.37178421,
          53.95754242,
          54.01534271,
          53.50476837,
          53.61074066,
          54.12131882,
          54.24655151,
          54.61262131,
          47.12843323,
          54.68969345,
          48.22841263,
          54.65115738,
          53.63000107,
          54.35251999,
          53.81303787,
          53.57220459,
          54.83067703,
          53.66147995,
          54.01534271,
          54.0541687,
          54.23859024,
          53.72415924,
          52.84088898,
          52.47204971,
          52.46234512,
          52.53999329,
          52.45263672,
          52.30704498,
          52.03526688,
          51.09376144,
          51.40435791,
          50.9287529,
          51.46260071,
          47.03360367,
          48.77839661,
          51.43347931,
          51.52083969,
          52.13233185,
          52.29734039,
          52.53028488,
          55.05391693,
          52.63705826,
          55.05046082,
          52.63705826,
          52.64676285,
          53.00589752,
          52.87971115,
          52.35557556,
          52.55940628,
          53.0253067,
          52.75353241,
          52.85059357,
          52.63705826,
          52.87000275,
          53.88916397,
          54.39388657,
          54.71419525,
          47.60255814,
          54.52006912,
          47.6973877,
          54.45212936,
          48.2473793,
          54.63654709,
          54.93743896,
          55.17039108,
          55.07332993,
          54.95685196,
          54.56860352,
          54.26770401,
          53.78239441,
          53.51062393,
          53.84063339,
          54.23859024,
          53.8018074,
          52.15174103,
          52.97677994,
          51.30413437,
          47.51721954,
          48.06720734,
          48.15176392,
          54.94714737,
          56.49812698,
          56.53725433,
          56.79157639,
          57.36868286,
          56.46878052,
          56.28293228,
          56.50790787,
          56.90895462,
          56.94808197,
          57.36868286,
          57.59366226,
          57.66212845,
          57.49583817,
          57.9164505
         ],
         "yaxis": "y"
        },
        {
         "hovertemplate": "variable=High<br>Date=%{x}<br>Stock value=%{y}<extra></extra>",
         "legendgroup": "High",
         "line": {
          "color": "#00cc96",
          "dash": "solid"
         },
         "marker": {
          "symbol": "circle"
         },
         "mode": "lines",
         "name": "Stock High Price",
         "showlegend": true,
         "type": "scattergl",
         "x": [
          "2021-01-02T00:00:00+00:00",
          "2021-01-03T00:00:00+00:00",
          "2021-01-12T00:00:00+00:00",
          "2021-01-13T00:00:00+00:00",
          "2021-01-14T00:00:00+00:00",
          "2021-01-15T00:00:00+00:00",
          "2021-01-19T00:00:00+00:00",
          "2021-01-20T00:00:00+00:00",
          "2021-01-21T00:00:00+00:00",
          "2021-01-22T00:00:00+00:00",
          "2021-01-25T00:00:00+00:00",
          "2021-01-26T00:00:00+00:00",
          "2021-01-27T00:00:00+00:00",
          "2021-01-28T00:00:00+00:00",
          "2021-01-29T00:00:00+00:00",
          "2021-02-02T00:00:00+00:00",
          "2021-02-03T00:00:00+00:00",
          "2021-02-12T00:00:00+00:00",
          "2021-02-16T00:00:00+00:00",
          "2021-02-17T00:00:00+00:00",
          "2021-02-18T00:00:00+00:00",
          "2021-02-19T00:00:00+00:00",
          "2021-02-22T00:00:00+00:00",
          "2021-02-23T00:00:00+00:00",
          "2021-02-24T00:00:00+00:00",
          "2021-02-25T00:00:00+00:00",
          "2021-02-26T00:00:00+00:00",
          "2021-03-02T00:00:00+00:00",
          "2021-03-03T00:00:00+00:00",
          "2021-03-12T00:00:00+00:00",
          "2021-03-15T04:00:00+00:00",
          "2021-03-16T04:00:00+00:00",
          "2021-03-17T04:00:00+00:00",
          "2021-03-18T04:00:00+00:00",
          "2021-03-19T04:00:00+00:00",
          "2021-03-22T04:00:00+00:00",
          "2021-03-23T04:00:00+00:00",
          "2021-03-24T04:00:00+00:00",
          "2021-03-25T04:00:00+00:00",
          "2021-03-26T04:00:00+00:00",
          "2021-03-29T04:00:00+00:00",
          "2021-03-30T04:00:00+00:00",
          "2021-03-31T04:00:00+00:00",
          "2021-04-01T00:00:00+00:00",
          "2021-04-01T04:00:00+00:00",
          "2021-04-02T00:00:00+00:00",
          "2021-04-03T00:00:00+00:00",
          "2021-04-05T04:00:00+00:00",
          "2021-04-06T04:00:00+00:00",
          "2021-04-07T04:00:00+00:00",
          "2021-04-08T04:00:00+00:00",
          "2021-04-09T04:00:00+00:00",
          "2021-04-12T04:00:00+00:00",
          "2021-04-13T04:00:00+00:00",
          "2021-04-14T04:00:00+00:00",
          "2021-04-15T04:00:00+00:00",
          "2021-04-16T04:00:00+00:00",
          "2021-04-19T04:00:00+00:00",
          "2021-04-20T04:00:00+00:00",
          "2021-04-21T04:00:00+00:00",
          "2021-04-22T04:00:00+00:00",
          "2021-04-23T04:00:00+00:00",
          "2021-04-26T04:00:00+00:00",
          "2021-04-27T04:00:00+00:00",
          "2021-04-28T04:00:00+00:00",
          "2021-04-29T04:00:00+00:00",
          "2021-04-30T04:00:00+00:00",
          "2021-05-01T00:00:00+00:00",
          "2021-05-02T00:00:00+00:00",
          "2021-05-03T00:00:00+00:00",
          "2021-05-03T04:00:00+00:00",
          "2021-05-04T04:00:00+00:00",
          "2021-05-05T04:00:00+00:00",
          "2021-05-06T04:00:00+00:00",
          "2021-05-07T04:00:00+00:00",
          "2021-05-10T04:00:00+00:00",
          "2021-05-11T04:00:00+00:00",
          "2021-05-12T04:00:00+00:00",
          "2021-05-13T04:00:00+00:00",
          "2021-05-14T04:00:00+00:00",
          "2021-05-17T04:00:00+00:00",
          "2021-05-18T04:00:00+00:00",
          "2021-05-19T04:00:00+00:00",
          "2021-05-20T04:00:00+00:00",
          "2021-05-21T04:00:00+00:00",
          "2021-05-24T04:00:00+00:00",
          "2021-05-25T04:00:00+00:00",
          "2021-05-26T04:00:00+00:00",
          "2021-05-27T04:00:00+00:00",
          "2021-05-28T04:00:00+00:00",
          "2021-06-01T00:00:00+00:00",
          "2021-06-01T04:00:00+00:00",
          "2021-06-02T04:00:00+00:00",
          "2021-06-03T04:00:00+00:00",
          "2021-06-04T04:00:00+00:00",
          "2021-06-07T04:00:00+00:00",
          "2021-06-08T04:00:00+00:00",
          "2021-06-09T04:00:00+00:00",
          "2021-06-10T04:00:00+00:00",
          "2021-06-11T04:00:00+00:00",
          "2021-06-12T00:00:00+00:00",
          "2021-06-14T04:00:00+00:00",
          "2021-06-15T04:00:00+00:00",
          "2021-06-16T04:00:00+00:00",
          "2021-06-17T04:00:00+00:00",
          "2021-06-18T04:00:00+00:00",
          "2021-06-21T04:00:00+00:00",
          "2021-06-22T04:00:00+00:00",
          "2021-06-23T04:00:00+00:00",
          "2021-06-24T04:00:00+00:00",
          "2021-06-25T04:00:00+00:00",
          "2021-06-28T04:00:00+00:00",
          "2021-06-29T04:00:00+00:00",
          "2021-06-30T04:00:00+00:00",
          "2021-07-01T00:00:00+00:00",
          "2021-07-01T04:00:00+00:00",
          "2021-07-02T04:00:00+00:00",
          "2021-07-06T04:00:00+00:00",
          "2021-07-07T04:00:00+00:00",
          "2021-07-08T04:00:00+00:00",
          "2021-07-09T04:00:00+00:00",
          "2021-07-12T00:00:00+00:00",
          "2021-07-12T04:00:00+00:00",
          "2021-07-13T04:00:00+00:00",
          "2021-07-14T04:00:00+00:00",
          "2021-07-15T04:00:00+00:00",
          "2021-07-16T04:00:00+00:00",
          "2021-07-19T04:00:00+00:00",
          "2021-07-20T04:00:00+00:00",
          "2021-07-21T04:00:00+00:00",
          "2021-07-22T04:00:00+00:00",
          "2021-07-23T04:00:00+00:00",
          "2021-07-26T04:00:00+00:00",
          "2021-07-27T04:00:00+00:00",
          "2021-07-28T04:00:00+00:00",
          "2021-07-29T04:00:00+00:00",
          "2021-07-30T04:00:00+00:00",
          "2021-08-01T00:00:00+00:00",
          "2021-08-02T00:00:00+00:00",
          "2021-08-02T04:00:00+00:00",
          "2021-08-03T00:00:00+00:00",
          "2021-08-03T04:00:00+00:00",
          "2021-08-04T04:00:00+00:00",
          "2021-08-05T04:00:00+00:00",
          "2021-08-06T04:00:00+00:00",
          "2021-08-09T04:00:00+00:00",
          "2021-08-10T04:00:00+00:00",
          "2021-08-11T00:00:00+00:00",
          "2021-08-11T04:00:00+00:00",
          "2021-08-12T00:00:00+00:00",
          "2021-08-12T04:00:00+00:00",
          "2021-08-13T04:00:00+00:00",
          "2021-08-16T04:00:00+00:00",
          "2021-08-17T04:00:00+00:00",
          "2021-08-18T04:00:00+00:00",
          "2021-08-19T04:00:00+00:00",
          "2021-08-20T04:00:00+00:00",
          "2021-08-23T04:00:00+00:00",
          "2021-08-24T04:00:00+00:00",
          "2021-08-25T04:00:00+00:00",
          "2021-08-26T04:00:00+00:00",
          "2021-08-27T04:00:00+00:00",
          "2021-08-30T04:00:00+00:00",
          "2021-08-31T04:00:00+00:00",
          "2021-09-01T04:00:00+00:00",
          "2021-09-02T00:00:00+00:00",
          "2021-09-02T04:00:00+00:00",
          "2021-09-03T00:00:00+00:00",
          "2021-09-03T04:00:00+00:00",
          "2021-09-07T04:00:00+00:00",
          "2021-09-08T04:00:00+00:00",
          "2021-09-09T04:00:00+00:00",
          "2021-09-10T04:00:00+00:00",
          "2021-09-11T00:00:00+00:00",
          "2021-09-12T00:00:00+00:00",
          "2021-09-13T04:00:00+00:00",
          "2021-09-14T04:00:00+00:00",
          "2021-09-15T04:00:00+00:00",
          "2021-09-16T04:00:00+00:00",
          "2021-09-17T04:00:00+00:00",
          "2021-09-20T04:00:00+00:00",
          "2021-09-21T04:00:00+00:00",
          "2021-09-22T04:00:00+00:00",
          "2021-09-23T04:00:00+00:00",
          "2021-09-24T04:00:00+00:00",
          "2021-09-27T04:00:00+00:00",
          "2021-09-28T04:00:00+00:00",
          "2021-09-29T04:00:00+00:00",
          "2021-09-30T04:00:00+00:00",
          "2021-10-01T04:00:00+00:00",
          "2021-10-02T00:00:00+00:00",
          "2021-10-03T00:00:00+00:00",
          "2021-10-04T04:00:00+00:00",
          "2021-10-05T04:00:00+00:00",
          "2021-10-06T04:00:00+00:00",
          "2021-10-07T04:00:00+00:00",
          "2021-10-08T04:00:00+00:00",
          "2021-10-11T00:00:00+00:00",
          "2021-10-11T04:00:00+00:00",
          "2021-10-12T00:00:00+00:00",
          "2021-10-12T04:00:00+00:00",
          "2021-10-13T04:00:00+00:00",
          "2021-10-14T04:00:00+00:00",
          "2021-10-15T04:00:00+00:00",
          "2021-10-18T04:00:00+00:00",
          "2021-10-19T04:00:00+00:00",
          "2021-10-20T04:00:00+00:00",
          "2021-10-21T04:00:00+00:00",
          "2021-10-22T04:00:00+00:00",
          "2021-10-25T04:00:00+00:00",
          "2021-10-26T04:00:00+00:00",
          "2021-10-27T04:00:00+00:00",
          "2021-10-28T04:00:00+00:00",
          "2021-10-29T04:00:00+00:00",
          "2021-11-01T00:00:00+00:00",
          "2021-11-01T04:00:00+00:00",
          "2021-11-02T00:00:00+00:00",
          "2021-11-02T04:00:00+00:00",
          "2021-11-03T00:00:00+00:00",
          "2021-11-03T04:00:00+00:00",
          "2021-11-04T04:00:00+00:00",
          "2021-11-05T04:00:00+00:00",
          "2021-11-11T00:00:00+00:00",
          "2021-11-15T00:00:00+00:00",
          "2021-11-16T00:00:00+00:00",
          "2021-11-17T00:00:00+00:00",
          "2021-11-18T00:00:00+00:00",
          "2021-11-19T00:00:00+00:00",
          "2021-11-22T00:00:00+00:00",
          "2021-11-23T00:00:00+00:00",
          "2021-11-24T00:00:00+00:00",
          "2021-11-26T00:00:00+00:00",
          "2021-11-29T00:00:00+00:00",
          "2021-11-30T00:00:00+00:00",
          "2021-12-01T00:00:00+00:00",
          "2021-12-02T00:00:00+00:00",
          "2021-12-03T00:00:00+00:00",
          "2021-12-11T00:00:00+00:00",
          "2021-12-13T00:00:00+00:00",
          "2021-12-14T00:00:00+00:00",
          "2021-12-15T00:00:00+00:00",
          "2021-12-16T00:00:00+00:00",
          "2021-12-17T00:00:00+00:00",
          "2021-12-20T00:00:00+00:00",
          "2021-12-21T00:00:00+00:00",
          "2021-12-22T00:00:00+00:00",
          "2021-12-23T00:00:00+00:00",
          "2021-12-27T00:00:00+00:00",
          "2021-12-28T00:00:00+00:00",
          "2021-12-29T00:00:00+00:00",
          "2021-12-30T00:00:00+00:00",
          "2021-12-31T00:00:00+00:00"
         ],
         "xaxis": "x",
         "y": [
          46.17069097,
          47.83014139,
          52.35075772,
          47.75428478,
          47.58359671,
          46.63533929,
          46.50258312,
          46.2939685,
          46.54999954,
          46.40774654,
          46.31293165,
          46.84395589,
          46.76809536,
          46.93877671,
          46.57844608,
          46.79654362,
          47.94393774,
          52.17469294,
          48.09565457,
          47.87755976,
          48.218929,
          48.19996661,
          48.2473795,
          48.84477668,
          48.26634539,
          48.12410343,
          47.61203828,
          46.54999384,
          47.94393527,
          52.43879361,
          48.8784312,
          49.26090082,
          49.35651024,
          48.94536304,
          48.84019628,
          48.8401924,
          49.38519797,
          49.61467343,
          49.77722244,
          50.78117893,
          51.57478512,
          51.43135969,
          50.83854454,
          51.80334329,
          50.81942101,
          46.53102933,
          48.44651265,
          50.88635694,
          51.29749821,
          51.15407232,
          51.03933844,
          50.94372384,
          51.20188155,
          50.95328536,
          50.85766835,
          51.30705929,
          51.44091659,
          51.97636365,
          52.19628212,
          52.33970516,
          52.4639978,
          52.19627624,
          52.1197871,
          51.34530884,
          51.67995611,
          51.97636603,
          51.8903103,
          49.89735014,
          47.20429131,
          48.31375424,
          52.39707061,
          52.22496229,
          51.86162656,
          52.2154021,
          52.36838276,
          53.06637219,
          52.72216145,
          52.16758995,
          52.37794266,
          52.68391398,
          52.6074256,
          52.16759926,
          51.80426036,
          52.39707494,
          52.70303962,
          52.52137248,
          52.41619557,
          52.63610878,
          53.1333101,
          53.26716696,
          49.32839319,
          53.20979651,
          53.12374992,
          53.29585456,
          54.00340378,
          53.86954337,
          53.78349368,
          53.46796159,
          53.65918773,
          53.7452441,
          54.0429604,
          53.66853722,
          53.74560801,
          53.42770067,
          53.12906177,
          52.6184761,
          52.43544225,
          52.84005071,
          52.59920906,
          52.4258073,
          52.47397639,
          52.377641,
          52.34873987,
          52.19460134,
          47.65945384,
          52.48361136,
          52.45471323,
          52.1079053,
          52.38727424,
          52.18497003,
          52.52214668,
          54.20924503,
          52.59920988,
          53.2735607,
          54.28508548,
          54.40068737,
          54.60299032,
          54.28508845,
          54.26581931,
          55.4507438,
          54.66079077,
          55.2291756,
          55.02686942,
          55.43148525,
          55.0654047,
          55.15210636,
          55.15210587,
          48.48444298,
          47.57411213,
          55.14247433,
          49.77407741,
          54.91126439,
          54.86310112,
          54.51629428,
          54.6607947,
          54.7956642,
          55.07503412,
          55.21892135,
          55.08466809,
          54.14077972,
          54.89199503,
          55.2002738,
          55.38331573,
          55.45074562,
          55.13284129,
          54.89199552,
          54.94016501,
          54.67042574,
          54.56445744,
          54.11167679,
          53.92864349,
          53.74560986,
          54.14058637,
          54.44885529,
          54.718591,
          47.43187556,
          54.94016427,
          49.19563643,
          54.68969248,
          54.61262416,
          54.41032265,
          54.35251459,
          54.07314993,
          54.85979463,
          53.92558174,
          54.33325179,
          54.33565117,
          54.35506434,
          54.34536313,
          53.56885863,
          52.80206274,
          53.20972774,
          52.95736282,
          53.01559795,
          52.64676637,
          52.656467,
          51.88967461,
          51.59848387,
          51.76349194,
          51.63731372,
          47.96289986,
          48.95856797,
          51.9576146,
          51.89938331,
          52.19057075,
          52.68558865,
          52.79235438,
          55.2480392,
          52.7923583,
          55.08958784,
          53.2194362,
          52.83118048,
          53.2000235,
          53.26796308,
          52.79235809,
          52.60793685,
          53.15148543,
          53.0641325,
          52.92824173,
          52.87001017,
          52.97677221,
          54.43271594,
          54.4618301,
          54.81126009,
          48.22840835,
          54.7433164,
          47.97238345,
          54.84038133,
          48.7689206,
          54.67537302,
          54.96656027,
          55.48099116,
          55.209217,
          55.01509086,
          55.26745183,
          54.40359107,
          54.28712045,
          53.86004996,
          54.37447703,
          54.46183381,
          54.19976397,
          53.14178012,
          53.12237165,
          52.4583554,
          47.76376509,
          48.21892851,
          48.45773194,
          55.31598635,
          56.66441497,
          56.89916997,
          56.97742415,
          57.59365763,
          57.63278141,
          56.51768694,
          56.70353924,
          56.91873451,
          57.32956113,
          57.40780615,
          57.65234907,
          57.80884918,
          57.93600781,
          58.05339135
         ],
         "yaxis": "y"
        },
        {
         "hovertemplate": "variable=Low<br>Date=%{x}<br>Stock value=%{y}<extra></extra>",
         "legendgroup": "Low",
         "line": {
          "color": "#ab63fa",
          "dash": "solid"
         },
         "marker": {
          "symbol": "circle"
         },
         "mode": "lines",
         "name": "Stock Low Price",
         "showlegend": true,
         "type": "scattergl",
         "x": [
          "2021-01-02T00:00:00+00:00",
          "2021-01-03T00:00:00+00:00",
          "2021-01-12T00:00:00+00:00",
          "2021-01-13T00:00:00+00:00",
          "2021-01-14T00:00:00+00:00",
          "2021-01-15T00:00:00+00:00",
          "2021-01-19T00:00:00+00:00",
          "2021-01-20T00:00:00+00:00",
          "2021-01-21T00:00:00+00:00",
          "2021-01-22T00:00:00+00:00",
          "2021-01-25T00:00:00+00:00",
          "2021-01-26T00:00:00+00:00",
          "2021-01-27T00:00:00+00:00",
          "2021-01-28T00:00:00+00:00",
          "2021-01-29T00:00:00+00:00",
          "2021-02-02T00:00:00+00:00",
          "2021-02-03T00:00:00+00:00",
          "2021-02-12T00:00:00+00:00",
          "2021-02-16T00:00:00+00:00",
          "2021-02-17T00:00:00+00:00",
          "2021-02-18T00:00:00+00:00",
          "2021-02-19T00:00:00+00:00",
          "2021-02-22T00:00:00+00:00",
          "2021-02-23T00:00:00+00:00",
          "2021-02-24T00:00:00+00:00",
          "2021-02-25T00:00:00+00:00",
          "2021-02-26T00:00:00+00:00",
          "2021-03-02T00:00:00+00:00",
          "2021-03-03T00:00:00+00:00",
          "2021-03-12T00:00:00+00:00",
          "2021-03-15T04:00:00+00:00",
          "2021-03-16T04:00:00+00:00",
          "2021-03-17T04:00:00+00:00",
          "2021-03-18T04:00:00+00:00",
          "2021-03-19T04:00:00+00:00",
          "2021-03-22T04:00:00+00:00",
          "2021-03-23T04:00:00+00:00",
          "2021-03-24T04:00:00+00:00",
          "2021-03-25T04:00:00+00:00",
          "2021-03-26T04:00:00+00:00",
          "2021-03-29T04:00:00+00:00",
          "2021-03-30T04:00:00+00:00",
          "2021-03-31T04:00:00+00:00",
          "2021-04-01T00:00:00+00:00",
          "2021-04-01T04:00:00+00:00",
          "2021-04-02T00:00:00+00:00",
          "2021-04-03T00:00:00+00:00",
          "2021-04-05T04:00:00+00:00",
          "2021-04-06T04:00:00+00:00",
          "2021-04-07T04:00:00+00:00",
          "2021-04-08T04:00:00+00:00",
          "2021-04-09T04:00:00+00:00",
          "2021-04-12T04:00:00+00:00",
          "2021-04-13T04:00:00+00:00",
          "2021-04-14T04:00:00+00:00",
          "2021-04-15T04:00:00+00:00",
          "2021-04-16T04:00:00+00:00",
          "2021-04-19T04:00:00+00:00",
          "2021-04-20T04:00:00+00:00",
          "2021-04-21T04:00:00+00:00",
          "2021-04-22T04:00:00+00:00",
          "2021-04-23T04:00:00+00:00",
          "2021-04-26T04:00:00+00:00",
          "2021-04-27T04:00:00+00:00",
          "2021-04-28T04:00:00+00:00",
          "2021-04-29T04:00:00+00:00",
          "2021-04-30T04:00:00+00:00",
          "2021-05-01T00:00:00+00:00",
          "2021-05-02T00:00:00+00:00",
          "2021-05-03T00:00:00+00:00",
          "2021-05-03T04:00:00+00:00",
          "2021-05-04T04:00:00+00:00",
          "2021-05-05T04:00:00+00:00",
          "2021-05-06T04:00:00+00:00",
          "2021-05-07T04:00:00+00:00",
          "2021-05-10T04:00:00+00:00",
          "2021-05-11T04:00:00+00:00",
          "2021-05-12T04:00:00+00:00",
          "2021-05-13T04:00:00+00:00",
          "2021-05-14T04:00:00+00:00",
          "2021-05-17T04:00:00+00:00",
          "2021-05-18T04:00:00+00:00",
          "2021-05-19T04:00:00+00:00",
          "2021-05-20T04:00:00+00:00",
          "2021-05-21T04:00:00+00:00",
          "2021-05-24T04:00:00+00:00",
          "2021-05-25T04:00:00+00:00",
          "2021-05-26T04:00:00+00:00",
          "2021-05-27T04:00:00+00:00",
          "2021-05-28T04:00:00+00:00",
          "2021-06-01T00:00:00+00:00",
          "2021-06-01T04:00:00+00:00",
          "2021-06-02T04:00:00+00:00",
          "2021-06-03T04:00:00+00:00",
          "2021-06-04T04:00:00+00:00",
          "2021-06-07T04:00:00+00:00",
          "2021-06-08T04:00:00+00:00",
          "2021-06-09T04:00:00+00:00",
          "2021-06-10T04:00:00+00:00",
          "2021-06-11T04:00:00+00:00",
          "2021-06-12T00:00:00+00:00",
          "2021-06-14T04:00:00+00:00",
          "2021-06-15T04:00:00+00:00",
          "2021-06-16T04:00:00+00:00",
          "2021-06-17T04:00:00+00:00",
          "2021-06-18T04:00:00+00:00",
          "2021-06-21T04:00:00+00:00",
          "2021-06-22T04:00:00+00:00",
          "2021-06-23T04:00:00+00:00",
          "2021-06-24T04:00:00+00:00",
          "2021-06-25T04:00:00+00:00",
          "2021-06-28T04:00:00+00:00",
          "2021-06-29T04:00:00+00:00",
          "2021-06-30T04:00:00+00:00",
          "2021-07-01T00:00:00+00:00",
          "2021-07-01T04:00:00+00:00",
          "2021-07-02T04:00:00+00:00",
          "2021-07-06T04:00:00+00:00",
          "2021-07-07T04:00:00+00:00",
          "2021-07-08T04:00:00+00:00",
          "2021-07-09T04:00:00+00:00",
          "2021-07-12T00:00:00+00:00",
          "2021-07-12T04:00:00+00:00",
          "2021-07-13T04:00:00+00:00",
          "2021-07-14T04:00:00+00:00",
          "2021-07-15T04:00:00+00:00",
          "2021-07-16T04:00:00+00:00",
          "2021-07-19T04:00:00+00:00",
          "2021-07-20T04:00:00+00:00",
          "2021-07-21T04:00:00+00:00",
          "2021-07-22T04:00:00+00:00",
          "2021-07-23T04:00:00+00:00",
          "2021-07-26T04:00:00+00:00",
          "2021-07-27T04:00:00+00:00",
          "2021-07-28T04:00:00+00:00",
          "2021-07-29T04:00:00+00:00",
          "2021-07-30T04:00:00+00:00",
          "2021-08-01T00:00:00+00:00",
          "2021-08-02T00:00:00+00:00",
          "2021-08-02T04:00:00+00:00",
          "2021-08-03T00:00:00+00:00",
          "2021-08-03T04:00:00+00:00",
          "2021-08-04T04:00:00+00:00",
          "2021-08-05T04:00:00+00:00",
          "2021-08-06T04:00:00+00:00",
          "2021-08-09T04:00:00+00:00",
          "2021-08-10T04:00:00+00:00",
          "2021-08-11T00:00:00+00:00",
          "2021-08-11T04:00:00+00:00",
          "2021-08-12T00:00:00+00:00",
          "2021-08-12T04:00:00+00:00",
          "2021-08-13T04:00:00+00:00",
          "2021-08-16T04:00:00+00:00",
          "2021-08-17T04:00:00+00:00",
          "2021-08-18T04:00:00+00:00",
          "2021-08-19T04:00:00+00:00",
          "2021-08-20T04:00:00+00:00",
          "2021-08-23T04:00:00+00:00",
          "2021-08-24T04:00:00+00:00",
          "2021-08-25T04:00:00+00:00",
          "2021-08-26T04:00:00+00:00",
          "2021-08-27T04:00:00+00:00",
          "2021-08-30T04:00:00+00:00",
          "2021-08-31T04:00:00+00:00",
          "2021-09-01T04:00:00+00:00",
          "2021-09-02T00:00:00+00:00",
          "2021-09-02T04:00:00+00:00",
          "2021-09-03T00:00:00+00:00",
          "2021-09-03T04:00:00+00:00",
          "2021-09-07T04:00:00+00:00",
          "2021-09-08T04:00:00+00:00",
          "2021-09-09T04:00:00+00:00",
          "2021-09-10T04:00:00+00:00",
          "2021-09-11T00:00:00+00:00",
          "2021-09-12T00:00:00+00:00",
          "2021-09-13T04:00:00+00:00",
          "2021-09-14T04:00:00+00:00",
          "2021-09-15T04:00:00+00:00",
          "2021-09-16T04:00:00+00:00",
          "2021-09-17T04:00:00+00:00",
          "2021-09-20T04:00:00+00:00",
          "2021-09-21T04:00:00+00:00",
          "2021-09-22T04:00:00+00:00",
          "2021-09-23T04:00:00+00:00",
          "2021-09-24T04:00:00+00:00",
          "2021-09-27T04:00:00+00:00",
          "2021-09-28T04:00:00+00:00",
          "2021-09-29T04:00:00+00:00",
          "2021-09-30T04:00:00+00:00",
          "2021-10-01T04:00:00+00:00",
          "2021-10-02T00:00:00+00:00",
          "2021-10-03T00:00:00+00:00",
          "2021-10-04T04:00:00+00:00",
          "2021-10-05T04:00:00+00:00",
          "2021-10-06T04:00:00+00:00",
          "2021-10-07T04:00:00+00:00",
          "2021-10-08T04:00:00+00:00",
          "2021-10-11T00:00:00+00:00",
          "2021-10-11T04:00:00+00:00",
          "2021-10-12T00:00:00+00:00",
          "2021-10-12T04:00:00+00:00",
          "2021-10-13T04:00:00+00:00",
          "2021-10-14T04:00:00+00:00",
          "2021-10-15T04:00:00+00:00",
          "2021-10-18T04:00:00+00:00",
          "2021-10-19T04:00:00+00:00",
          "2021-10-20T04:00:00+00:00",
          "2021-10-21T04:00:00+00:00",
          "2021-10-22T04:00:00+00:00",
          "2021-10-25T04:00:00+00:00",
          "2021-10-26T04:00:00+00:00",
          "2021-10-27T04:00:00+00:00",
          "2021-10-28T04:00:00+00:00",
          "2021-10-29T04:00:00+00:00",
          "2021-11-01T00:00:00+00:00",
          "2021-11-01T04:00:00+00:00",
          "2021-11-02T00:00:00+00:00",
          "2021-11-02T04:00:00+00:00",
          "2021-11-03T00:00:00+00:00",
          "2021-11-03T04:00:00+00:00",
          "2021-11-04T04:00:00+00:00",
          "2021-11-05T04:00:00+00:00",
          "2021-11-11T00:00:00+00:00",
          "2021-11-15T00:00:00+00:00",
          "2021-11-16T00:00:00+00:00",
          "2021-11-17T00:00:00+00:00",
          "2021-11-18T00:00:00+00:00",
          "2021-11-19T00:00:00+00:00",
          "2021-11-22T00:00:00+00:00",
          "2021-11-23T00:00:00+00:00",
          "2021-11-24T00:00:00+00:00",
          "2021-11-26T00:00:00+00:00",
          "2021-11-29T00:00:00+00:00",
          "2021-11-30T00:00:00+00:00",
          "2021-12-01T00:00:00+00:00",
          "2021-12-02T00:00:00+00:00",
          "2021-12-03T00:00:00+00:00",
          "2021-12-11T00:00:00+00:00",
          "2021-12-13T00:00:00+00:00",
          "2021-12-14T00:00:00+00:00",
          "2021-12-15T00:00:00+00:00",
          "2021-12-16T00:00:00+00:00",
          "2021-12-17T00:00:00+00:00",
          "2021-12-20T00:00:00+00:00",
          "2021-12-21T00:00:00+00:00",
          "2021-12-22T00:00:00+00:00",
          "2021-12-23T00:00:00+00:00",
          "2021-12-27T00:00:00+00:00",
          "2021-12-28T00:00:00+00:00",
          "2021-12-29T00:00:00+00:00",
          "2021-12-30T00:00:00+00:00",
          "2021-12-31T00:00:00+00:00"
         ],
         "xaxis": "x",
         "y": [
          45.68708088,
          46.84395563,
          51.13784616,
          47.36549906,
          46.67326971,
          46.01897,
          45.74397728,
          45.81035837,
          45.9525958,
          45.98103333,
          45.74397816,
          46.09483105,
          45.73449375,
          46.09482757,
          45.6207068,
          46.11380014,
          47.12843508,
          51.36282398,
          47.56462871,
          47.30860265,
          47.44135755,
          47.38446397,
          47.0999843,
          47.81117513,
          47.53618612,
          47.39394418,
          46.43620027,
          46.15172353,
          47.13791364,
          51.82255605,
          48.25693532,
          48.80194877,
          48.90712178,
          48.27606033,
          47.97009534,
          48.11351564,
          48.60115448,
          48.90712375,
          48.92624499,
          49.49037293,
          50.3987198,
          50.6090693,
          50.19792515,
          49.33786995,
          50.15967457,
          46.13276263,
          47.05257191,
          49.99713622,
          50.58038502,
          50.79073396,
          50.6473167,
          50.49433535,
          50.7716129,
          50.49433334,
          50.34134961,
          50.7907369,
          51.03933497,
          50.96284238,
          51.45048552,
          51.86162968,
          51.93811555,
          51.79469097,
          51.23057006,
          50.98197045,
          51.09670347,
          51.08714536,
          51.33574103,
          49.33787761,
          46.72068123,
          47.31808389,
          51.78513459,
          51.57477937,
          51.35486411,
          51.67995628,
          51.78513015,
          52.42575287,
          51.67995679,
          51.5174071,
          51.46960227,
          52.29189225,
          52.11022667,
          51.72776703,
          51.25925459,
          51.74689196,
          51.84250595,
          52.10066738,
          51.96680345,
          52.19628022,
          52.37794994,
          52.7795316,
          47.59307891,
          52.68391062,
          52.83690171,
          52.6839149,
          53.3340974,
          53.36278455,
          53.11418725,
          53.04725647,
          53.31497282,
          53.21936181,
          52.95720983,
          53.17722751,
          53.16759246,
          52.63774937,
          52.64738398,
          51.75145836,
          52.02119908,
          52.27167078,
          52.12716692,
          52.02119973,
          52.03083005,
          52.02120047,
          51.75146046,
          51.78035818,
          46.95774482,
          51.88633193,
          52.02120248,
          51.58769238,
          51.75145975,
          51.77073051,
          52.19460564,
          53.65169804,
          52.28130447,
          52.74371589,
          52.94602181,
          53.86120696,
          54.1983791,
          53.13869657,
          53.4855,
          54.36215105,
          53.99607315,
          54.38142168,
          54.48739265,
          54.83420209,
          54.55482742,
          54.77639827,
          54.8149329,
          47.26118903,
          46.92929988,
          54.63189338,
          48.5128922,
          54.67042551,
          53.95754452,
          54.22728834,
          54.3717851,
          54.36215347,
          54.58372441,
          54.48124711,
          54.63188983,
          53.17241011,
          54.65115616,
          54.68969652,
          54.94016935,
          54.92089714,
          54.35252192,
          53.89974054,
          54.50665796,
          54.31398523,
          53.8515764,
          53.68780169,
          53.47586521,
          53.41806881,
          53.6011059,
          53.94790997,
          54.2176457,
          47.06205544,
          54.34288487,
          48.19048143,
          54.18874718,
          53.47586433,
          53.57220432,
          53.75523522,
          53.48550244,
          54.44242506,
          53.39737816,
          53.69743731,
          53.91828163,
          53.7920994,
          53.20972853,
          52.77294544,
          52.15174131,
          52.35557565,
          52.47204975,
          52.41381079,
          52.27792738,
          51.99644094,
          50.88993084,
          51.01610969,
          50.88992697,
          51.02581818,
          46.96722589,
          48.09565322,
          50.86080975,
          51.37524428,
          50.96757968,
          52.22939686,
          52.31674965,
          54.63654739,
          52.42351931,
          53.86689634,
          52.62735363,
          52.20998035,
          52.7147104,
          52.69529352,
          52.27792739,
          52.19056732,
          52.52058067,
          52.61764533,
          52.4817546,
          52.43322765,
          52.63705086,
          53.64650743,
          53.98622169,
          54.14152567,
          47.36549361,
          54.25800332,
          47.22325859,
          54.32595062,
          48.18100152,
          54.14152568,
          54.38418235,
          54.92773454,
          54.90832155,
          54.61713429,
          54.53948221,
          54.01534286,
          53.52032491,
          53.28738035,
          53.46208979,
          53.86975127,
          53.41355547,
          52.00614933,
          52.34587142,
          51.29435075,
          47.185327,
          47.7827306,
          47.99877991,
          54.88890847,
          55.71560517,
          56.14599529,
          56.39053372,
          56.63506801,
          56.43943712,
          55.75472869,
          56.27314947,
          56.23403024,
          56.67419653,
          56.73288183,
          57.02633161,
          57.37846314,
          57.47627466,
          57.41759401
         ],
         "yaxis": "y"
        }
       ],
       "layout": {
        "font": {
         "color": "black",
         "size": 15
        },
        "legend": {
         "title": {
          "text": "Stock Parameters"
         },
         "tracegroupgap": 0
        },
        "margin": {
         "t": 60
        },
        "template": {
         "data": {
          "bar": [
           {
            "error_x": {
             "color": "#2a3f5f"
            },
            "error_y": {
             "color": "#2a3f5f"
            },
            "marker": {
             "line": {
              "color": "#E5ECF6",
              "width": 0.5
             },
             "pattern": {
              "fillmode": "overlay",
              "size": 10,
              "solidity": 0.2
             }
            },
            "type": "bar"
           }
          ],
          "barpolar": [
           {
            "marker": {
             "line": {
              "color": "#E5ECF6",
              "width": 0.5
             },
             "pattern": {
              "fillmode": "overlay",
              "size": 10,
              "solidity": 0.2
             }
            },
            "type": "barpolar"
           }
          ],
          "carpet": [
           {
            "aaxis": {
             "endlinecolor": "#2a3f5f",
             "gridcolor": "white",
             "linecolor": "white",
             "minorgridcolor": "white",
             "startlinecolor": "#2a3f5f"
            },
            "baxis": {
             "endlinecolor": "#2a3f5f",
             "gridcolor": "white",
             "linecolor": "white",
             "minorgridcolor": "white",
             "startlinecolor": "#2a3f5f"
            },
            "type": "carpet"
           }
          ],
          "choropleth": [
           {
            "colorbar": {
             "outlinewidth": 0,
             "ticks": ""
            },
            "type": "choropleth"
           }
          ],
          "contour": [
           {
            "colorbar": {
             "outlinewidth": 0,
             "ticks": ""
            },
            "colorscale": [
             [
              0,
              "#0d0887"
             ],
             [
              0.1111111111111111,
              "#46039f"
             ],
             [
              0.2222222222222222,
              "#7201a8"
             ],
             [
              0.3333333333333333,
              "#9c179e"
             ],
             [
              0.4444444444444444,
              "#bd3786"
             ],
             [
              0.5555555555555556,
              "#d8576b"
             ],
             [
              0.6666666666666666,
              "#ed7953"
             ],
             [
              0.7777777777777778,
              "#fb9f3a"
             ],
             [
              0.8888888888888888,
              "#fdca26"
             ],
             [
              1,
              "#f0f921"
             ]
            ],
            "type": "contour"
           }
          ],
          "contourcarpet": [
           {
            "colorbar": {
             "outlinewidth": 0,
             "ticks": ""
            },
            "type": "contourcarpet"
           }
          ],
          "heatmap": [
           {
            "colorbar": {
             "outlinewidth": 0,
             "ticks": ""
            },
            "colorscale": [
             [
              0,
              "#0d0887"
             ],
             [
              0.1111111111111111,
              "#46039f"
             ],
             [
              0.2222222222222222,
              "#7201a8"
             ],
             [
              0.3333333333333333,
              "#9c179e"
             ],
             [
              0.4444444444444444,
              "#bd3786"
             ],
             [
              0.5555555555555556,
              "#d8576b"
             ],
             [
              0.6666666666666666,
              "#ed7953"
             ],
             [
              0.7777777777777778,
              "#fb9f3a"
             ],
             [
              0.8888888888888888,
              "#fdca26"
             ],
             [
              1,
              "#f0f921"
             ]
            ],
            "type": "heatmap"
           }
          ],
          "heatmapgl": [
           {
            "colorbar": {
             "outlinewidth": 0,
             "ticks": ""
            },
            "colorscale": [
             [
              0,
              "#0d0887"
             ],
             [
              0.1111111111111111,
              "#46039f"
             ],
             [
              0.2222222222222222,
              "#7201a8"
             ],
             [
              0.3333333333333333,
              "#9c179e"
             ],
             [
              0.4444444444444444,
              "#bd3786"
             ],
             [
              0.5555555555555556,
              "#d8576b"
             ],
             [
              0.6666666666666666,
              "#ed7953"
             ],
             [
              0.7777777777777778,
              "#fb9f3a"
             ],
             [
              0.8888888888888888,
              "#fdca26"
             ],
             [
              1,
              "#f0f921"
             ]
            ],
            "type": "heatmapgl"
           }
          ],
          "histogram": [
           {
            "marker": {
             "pattern": {
              "fillmode": "overlay",
              "size": 10,
              "solidity": 0.2
             }
            },
            "type": "histogram"
           }
          ],
          "histogram2d": [
           {
            "colorbar": {
             "outlinewidth": 0,
             "ticks": ""
            },
            "colorscale": [
             [
              0,
              "#0d0887"
             ],
             [
              0.1111111111111111,
              "#46039f"
             ],
             [
              0.2222222222222222,
              "#7201a8"
             ],
             [
              0.3333333333333333,
              "#9c179e"
             ],
             [
              0.4444444444444444,
              "#bd3786"
             ],
             [
              0.5555555555555556,
              "#d8576b"
             ],
             [
              0.6666666666666666,
              "#ed7953"
             ],
             [
              0.7777777777777778,
              "#fb9f3a"
             ],
             [
              0.8888888888888888,
              "#fdca26"
             ],
             [
              1,
              "#f0f921"
             ]
            ],
            "type": "histogram2d"
           }
          ],
          "histogram2dcontour": [
           {
            "colorbar": {
             "outlinewidth": 0,
             "ticks": ""
            },
            "colorscale": [
             [
              0,
              "#0d0887"
             ],
             [
              0.1111111111111111,
              "#46039f"
             ],
             [
              0.2222222222222222,
              "#7201a8"
             ],
             [
              0.3333333333333333,
              "#9c179e"
             ],
             [
              0.4444444444444444,
              "#bd3786"
             ],
             [
              0.5555555555555556,
              "#d8576b"
             ],
             [
              0.6666666666666666,
              "#ed7953"
             ],
             [
              0.7777777777777778,
              "#fb9f3a"
             ],
             [
              0.8888888888888888,
              "#fdca26"
             ],
             [
              1,
              "#f0f921"
             ]
            ],
            "type": "histogram2dcontour"
           }
          ],
          "mesh3d": [
           {
            "colorbar": {
             "outlinewidth": 0,
             "ticks": ""
            },
            "type": "mesh3d"
           }
          ],
          "parcoords": [
           {
            "line": {
             "colorbar": {
              "outlinewidth": 0,
              "ticks": ""
             }
            },
            "type": "parcoords"
           }
          ],
          "pie": [
           {
            "automargin": true,
            "type": "pie"
           }
          ],
          "scatter": [
           {
            "fillpattern": {
             "fillmode": "overlay",
             "size": 10,
             "solidity": 0.2
            },
            "type": "scatter"
           }
          ],
          "scatter3d": [
           {
            "line": {
             "colorbar": {
              "outlinewidth": 0,
              "ticks": ""
             }
            },
            "marker": {
             "colorbar": {
              "outlinewidth": 0,
              "ticks": ""
             }
            },
            "type": "scatter3d"
           }
          ],
          "scattercarpet": [
           {
            "marker": {
             "colorbar": {
              "outlinewidth": 0,
              "ticks": ""
             }
            },
            "type": "scattercarpet"
           }
          ],
          "scattergeo": [
           {
            "marker": {
             "colorbar": {
              "outlinewidth": 0,
              "ticks": ""
             }
            },
            "type": "scattergeo"
           }
          ],
          "scattergl": [
           {
            "marker": {
             "colorbar": {
              "outlinewidth": 0,
              "ticks": ""
             }
            },
            "type": "scattergl"
           }
          ],
          "scattermapbox": [
           {
            "marker": {
             "colorbar": {
              "outlinewidth": 0,
              "ticks": ""
             }
            },
            "type": "scattermapbox"
           }
          ],
          "scatterpolar": [
           {
            "marker": {
             "colorbar": {
              "outlinewidth": 0,
              "ticks": ""
             }
            },
            "type": "scatterpolar"
           }
          ],
          "scatterpolargl": [
           {
            "marker": {
             "colorbar": {
              "outlinewidth": 0,
              "ticks": ""
             }
            },
            "type": "scatterpolargl"
           }
          ],
          "scatterternary": [
           {
            "marker": {
             "colorbar": {
              "outlinewidth": 0,
              "ticks": ""
             }
            },
            "type": "scatterternary"
           }
          ],
          "surface": [
           {
            "colorbar": {
             "outlinewidth": 0,
             "ticks": ""
            },
            "colorscale": [
             [
              0,
              "#0d0887"
             ],
             [
              0.1111111111111111,
              "#46039f"
             ],
             [
              0.2222222222222222,
              "#7201a8"
             ],
             [
              0.3333333333333333,
              "#9c179e"
             ],
             [
              0.4444444444444444,
              "#bd3786"
             ],
             [
              0.5555555555555556,
              "#d8576b"
             ],
             [
              0.6666666666666666,
              "#ed7953"
             ],
             [
              0.7777777777777778,
              "#fb9f3a"
             ],
             [
              0.8888888888888888,
              "#fdca26"
             ],
             [
              1,
              "#f0f921"
             ]
            ],
            "type": "surface"
           }
          ],
          "table": [
           {
            "cells": {
             "fill": {
              "color": "#EBF0F8"
             },
             "line": {
              "color": "white"
             }
            },
            "header": {
             "fill": {
              "color": "#C8D4E3"
             },
             "line": {
              "color": "white"
             }
            },
            "type": "table"
           }
          ]
         },
         "layout": {
          "annotationdefaults": {
           "arrowcolor": "#2a3f5f",
           "arrowhead": 0,
           "arrowwidth": 1
          },
          "autotypenumbers": "strict",
          "coloraxis": {
           "colorbar": {
            "outlinewidth": 0,
            "ticks": ""
           }
          },
          "colorscale": {
           "diverging": [
            [
             0,
             "#8e0152"
            ],
            [
             0.1,
             "#c51b7d"
            ],
            [
             0.2,
             "#de77ae"
            ],
            [
             0.3,
             "#f1b6da"
            ],
            [
             0.4,
             "#fde0ef"
            ],
            [
             0.5,
             "#f7f7f7"
            ],
            [
             0.6,
             "#e6f5d0"
            ],
            [
             0.7,
             "#b8e186"
            ],
            [
             0.8,
             "#7fbc41"
            ],
            [
             0.9,
             "#4d9221"
            ],
            [
             1,
             "#276419"
            ]
           ],
           "sequential": [
            [
             0,
             "#0d0887"
            ],
            [
             0.1111111111111111,
             "#46039f"
            ],
            [
             0.2222222222222222,
             "#7201a8"
            ],
            [
             0.3333333333333333,
             "#9c179e"
            ],
            [
             0.4444444444444444,
             "#bd3786"
            ],
            [
             0.5555555555555556,
             "#d8576b"
            ],
            [
             0.6666666666666666,
             "#ed7953"
            ],
            [
             0.7777777777777778,
             "#fb9f3a"
            ],
            [
             0.8888888888888888,
             "#fdca26"
            ],
            [
             1,
             "#f0f921"
            ]
           ],
           "sequentialminus": [
            [
             0,
             "#0d0887"
            ],
            [
             0.1111111111111111,
             "#46039f"
            ],
            [
             0.2222222222222222,
             "#7201a8"
            ],
            [
             0.3333333333333333,
             "#9c179e"
            ],
            [
             0.4444444444444444,
             "#bd3786"
            ],
            [
             0.5555555555555556,
             "#d8576b"
            ],
            [
             0.6666666666666666,
             "#ed7953"
            ],
            [
             0.7777777777777778,
             "#fb9f3a"
            ],
            [
             0.8888888888888888,
             "#fdca26"
            ],
            [
             1,
             "#f0f921"
            ]
           ]
          },
          "colorway": [
           "#636efa",
           "#EF553B",
           "#00cc96",
           "#ab63fa",
           "#FFA15A",
           "#19d3f3",
           "#FF6692",
           "#B6E880",
           "#FF97FF",
           "#FECB52"
          ],
          "font": {
           "color": "#2a3f5f"
          },
          "geo": {
           "bgcolor": "white",
           "lakecolor": "white",
           "landcolor": "#E5ECF6",
           "showlakes": true,
           "showland": true,
           "subunitcolor": "white"
          },
          "hoverlabel": {
           "align": "left"
          },
          "hovermode": "closest",
          "mapbox": {
           "style": "light"
          },
          "paper_bgcolor": "white",
          "plot_bgcolor": "#E5ECF6",
          "polar": {
           "angularaxis": {
            "gridcolor": "white",
            "linecolor": "white",
            "ticks": ""
           },
           "bgcolor": "#E5ECF6",
           "radialaxis": {
            "gridcolor": "white",
            "linecolor": "white",
            "ticks": ""
           }
          },
          "scene": {
           "xaxis": {
            "backgroundcolor": "#E5ECF6",
            "gridcolor": "white",
            "gridwidth": 2,
            "linecolor": "white",
            "showbackground": true,
            "ticks": "",
            "zerolinecolor": "white"
           },
           "yaxis": {
            "backgroundcolor": "#E5ECF6",
            "gridcolor": "white",
            "gridwidth": 2,
            "linecolor": "white",
            "showbackground": true,
            "ticks": "",
            "zerolinecolor": "white"
           },
           "zaxis": {
            "backgroundcolor": "#E5ECF6",
            "gridcolor": "white",
            "gridwidth": 2,
            "linecolor": "white",
            "showbackground": true,
            "ticks": "",
            "zerolinecolor": "white"
           }
          },
          "shapedefaults": {
           "line": {
            "color": "#2a3f5f"
           }
          },
          "ternary": {
           "aaxis": {
            "gridcolor": "white",
            "linecolor": "white",
            "ticks": ""
           },
           "baxis": {
            "gridcolor": "white",
            "linecolor": "white",
            "ticks": ""
           },
           "bgcolor": "#E5ECF6",
           "caxis": {
            "gridcolor": "white",
            "linecolor": "white",
            "ticks": ""
           }
          },
          "title": {
           "x": 0.05
          },
          "xaxis": {
           "automargin": true,
           "gridcolor": "white",
           "linecolor": "white",
           "ticks": "",
           "title": {
            "standoff": 15
           },
           "zerolinecolor": "white",
           "zerolinewidth": 2
          },
          "yaxis": {
           "automargin": true,
           "gridcolor": "white",
           "linecolor": "white",
           "ticks": "",
           "title": {
            "standoff": 15
           },
           "zerolinecolor": "white",
           "zerolinewidth": 2
          }
         }
        },
        "title": {
         "text": "Stock analysis chart"
        },
        "xaxis": {
         "anchor": "y",
         "domain": [
          0,
          1
         ],
         "showgrid": false,
         "title": {
          "text": "Date"
         }
        },
        "yaxis": {
         "anchor": "x",
         "domain": [
          0,
          1
         ],
         "showgrid": false,
         "title": {
          "text": "Stock value"
         }
        }
       }
      },
      "text/html": [
       "<div>                            <div id=\"1fa9e65c-f28b-43f8-8dd1-9d6b2b01a6c2\" class=\"plotly-graph-div\" style=\"height:525px; width:100%;\"></div>            <script type=\"text/javascript\">                require([\"plotly\"], function(Plotly) {                    window.PLOTLYENV=window.PLOTLYENV || {};                                    if (document.getElementById(\"1fa9e65c-f28b-43f8-8dd1-9d6b2b01a6c2\")) {                    Plotly.newPlot(                        \"1fa9e65c-f28b-43f8-8dd1-9d6b2b01a6c2\",                        [{\"hovertemplate\":\"variable=Open<br>Date=%{x}<br>Stock value=%{y}<extra></extra>\",\"legendgroup\":\"Open\",\"line\":{\"color\":\"#636efa\",\"dash\":\"solid\"},\"marker\":{\"symbol\":\"circle\"},\"mode\":\"lines\",\"name\":\"Stock Open Price\",\"showlegend\":true,\"x\":[\"2021-01-02T00:00:00+00:00\",\"2021-01-03T00:00:00+00:00\",\"2021-01-12T00:00:00+00:00\",\"2021-01-13T00:00:00+00:00\",\"2021-01-14T00:00:00+00:00\",\"2021-01-15T00:00:00+00:00\",\"2021-01-19T00:00:00+00:00\",\"2021-01-20T00:00:00+00:00\",\"2021-01-21T00:00:00+00:00\",\"2021-01-22T00:00:00+00:00\",\"2021-01-25T00:00:00+00:00\",\"2021-01-26T00:00:00+00:00\",\"2021-01-27T00:00:00+00:00\",\"2021-01-28T00:00:00+00:00\",\"2021-01-29T00:00:00+00:00\",\"2021-02-02T00:00:00+00:00\",\"2021-02-03T00:00:00+00:00\",\"2021-02-12T00:00:00+00:00\",\"2021-02-16T00:00:00+00:00\",\"2021-02-17T00:00:00+00:00\",\"2021-02-18T00:00:00+00:00\",\"2021-02-19T00:00:00+00:00\",\"2021-02-22T00:00:00+00:00\",\"2021-02-23T00:00:00+00:00\",\"2021-02-24T00:00:00+00:00\",\"2021-02-25T00:00:00+00:00\",\"2021-02-26T00:00:00+00:00\",\"2021-03-02T00:00:00+00:00\",\"2021-03-03T00:00:00+00:00\",\"2021-03-12T00:00:00+00:00\",\"2021-03-15T04:00:00+00:00\",\"2021-03-16T04:00:00+00:00\",\"2021-03-17T04:00:00+00:00\",\"2021-03-18T04:00:00+00:00\",\"2021-03-19T04:00:00+00:00\",\"2021-03-22T04:00:00+00:00\",\"2021-03-23T04:00:00+00:00\",\"2021-03-24T04:00:00+00:00\",\"2021-03-25T04:00:00+00:00\",\"2021-03-26T04:00:00+00:00\",\"2021-03-29T04:00:00+00:00\",\"2021-03-30T04:00:00+00:00\",\"2021-03-31T04:00:00+00:00\",\"2021-04-01T00:00:00+00:00\",\"2021-04-01T04:00:00+00:00\",\"2021-04-02T00:00:00+00:00\",\"2021-04-03T00:00:00+00:00\",\"2021-04-05T04:00:00+00:00\",\"2021-04-06T04:00:00+00:00\",\"2021-04-07T04:00:00+00:00\",\"2021-04-08T04:00:00+00:00\",\"2021-04-09T04:00:00+00:00\",\"2021-04-12T04:00:00+00:00\",\"2021-04-13T04:00:00+00:00\",\"2021-04-14T04:00:00+00:00\",\"2021-04-15T04:00:00+00:00\",\"2021-04-16T04:00:00+00:00\",\"2021-04-19T04:00:00+00:00\",\"2021-04-20T04:00:00+00:00\",\"2021-04-21T04:00:00+00:00\",\"2021-04-22T04:00:00+00:00\",\"2021-04-23T04:00:00+00:00\",\"2021-04-26T04:00:00+00:00\",\"2021-04-27T04:00:00+00:00\",\"2021-04-28T04:00:00+00:00\",\"2021-04-29T04:00:00+00:00\",\"2021-04-30T04:00:00+00:00\",\"2021-05-01T00:00:00+00:00\",\"2021-05-02T00:00:00+00:00\",\"2021-05-03T00:00:00+00:00\",\"2021-05-03T04:00:00+00:00\",\"2021-05-04T04:00:00+00:00\",\"2021-05-05T04:00:00+00:00\",\"2021-05-06T04:00:00+00:00\",\"2021-05-07T04:00:00+00:00\",\"2021-05-10T04:00:00+00:00\",\"2021-05-11T04:00:00+00:00\",\"2021-05-12T04:00:00+00:00\",\"2021-05-13T04:00:00+00:00\",\"2021-05-14T04:00:00+00:00\",\"2021-05-17T04:00:00+00:00\",\"2021-05-18T04:00:00+00:00\",\"2021-05-19T04:00:00+00:00\",\"2021-05-20T04:00:00+00:00\",\"2021-05-21T04:00:00+00:00\",\"2021-05-24T04:00:00+00:00\",\"2021-05-25T04:00:00+00:00\",\"2021-05-26T04:00:00+00:00\",\"2021-05-27T04:00:00+00:00\",\"2021-05-28T04:00:00+00:00\",\"2021-06-01T00:00:00+00:00\",\"2021-06-01T04:00:00+00:00\",\"2021-06-02T04:00:00+00:00\",\"2021-06-03T04:00:00+00:00\",\"2021-06-04T04:00:00+00:00\",\"2021-06-07T04:00:00+00:00\",\"2021-06-08T04:00:00+00:00\",\"2021-06-09T04:00:00+00:00\",\"2021-06-10T04:00:00+00:00\",\"2021-06-11T04:00:00+00:00\",\"2021-06-12T00:00:00+00:00\",\"2021-06-14T04:00:00+00:00\",\"2021-06-15T04:00:00+00:00\",\"2021-06-16T04:00:00+00:00\",\"2021-06-17T04:00:00+00:00\",\"2021-06-18T04:00:00+00:00\",\"2021-06-21T04:00:00+00:00\",\"2021-06-22T04:00:00+00:00\",\"2021-06-23T04:00:00+00:00\",\"2021-06-24T04:00:00+00:00\",\"2021-06-25T04:00:00+00:00\",\"2021-06-28T04:00:00+00:00\",\"2021-06-29T04:00:00+00:00\",\"2021-06-30T04:00:00+00:00\",\"2021-07-01T00:00:00+00:00\",\"2021-07-01T04:00:00+00:00\",\"2021-07-02T04:00:00+00:00\",\"2021-07-06T04:00:00+00:00\",\"2021-07-07T04:00:00+00:00\",\"2021-07-08T04:00:00+00:00\",\"2021-07-09T04:00:00+00:00\",\"2021-07-12T00:00:00+00:00\",\"2021-07-12T04:00:00+00:00\",\"2021-07-13T04:00:00+00:00\",\"2021-07-14T04:00:00+00:00\",\"2021-07-15T04:00:00+00:00\",\"2021-07-16T04:00:00+00:00\",\"2021-07-19T04:00:00+00:00\",\"2021-07-20T04:00:00+00:00\",\"2021-07-21T04:00:00+00:00\",\"2021-07-22T04:00:00+00:00\",\"2021-07-23T04:00:00+00:00\",\"2021-07-26T04:00:00+00:00\",\"2021-07-27T04:00:00+00:00\",\"2021-07-28T04:00:00+00:00\",\"2021-07-29T04:00:00+00:00\",\"2021-07-30T04:00:00+00:00\",\"2021-08-01T00:00:00+00:00\",\"2021-08-02T00:00:00+00:00\",\"2021-08-02T04:00:00+00:00\",\"2021-08-03T00:00:00+00:00\",\"2021-08-03T04:00:00+00:00\",\"2021-08-04T04:00:00+00:00\",\"2021-08-05T04:00:00+00:00\",\"2021-08-06T04:00:00+00:00\",\"2021-08-09T04:00:00+00:00\",\"2021-08-10T04:00:00+00:00\",\"2021-08-11T00:00:00+00:00\",\"2021-08-11T04:00:00+00:00\",\"2021-08-12T00:00:00+00:00\",\"2021-08-12T04:00:00+00:00\",\"2021-08-13T04:00:00+00:00\",\"2021-08-16T04:00:00+00:00\",\"2021-08-17T04:00:00+00:00\",\"2021-08-18T04:00:00+00:00\",\"2021-08-19T04:00:00+00:00\",\"2021-08-20T04:00:00+00:00\",\"2021-08-23T04:00:00+00:00\",\"2021-08-24T04:00:00+00:00\",\"2021-08-25T04:00:00+00:00\",\"2021-08-26T04:00:00+00:00\",\"2021-08-27T04:00:00+00:00\",\"2021-08-30T04:00:00+00:00\",\"2021-08-31T04:00:00+00:00\",\"2021-09-01T04:00:00+00:00\",\"2021-09-02T00:00:00+00:00\",\"2021-09-02T04:00:00+00:00\",\"2021-09-03T00:00:00+00:00\",\"2021-09-03T04:00:00+00:00\",\"2021-09-07T04:00:00+00:00\",\"2021-09-08T04:00:00+00:00\",\"2021-09-09T04:00:00+00:00\",\"2021-09-10T04:00:00+00:00\",\"2021-09-11T00:00:00+00:00\",\"2021-09-12T00:00:00+00:00\",\"2021-09-13T04:00:00+00:00\",\"2021-09-14T04:00:00+00:00\",\"2021-09-15T04:00:00+00:00\",\"2021-09-16T04:00:00+00:00\",\"2021-09-17T04:00:00+00:00\",\"2021-09-20T04:00:00+00:00\",\"2021-09-21T04:00:00+00:00\",\"2021-09-22T04:00:00+00:00\",\"2021-09-23T04:00:00+00:00\",\"2021-09-24T04:00:00+00:00\",\"2021-09-27T04:00:00+00:00\",\"2021-09-28T04:00:00+00:00\",\"2021-09-29T04:00:00+00:00\",\"2021-09-30T04:00:00+00:00\",\"2021-10-01T04:00:00+00:00\",\"2021-10-02T00:00:00+00:00\",\"2021-10-03T00:00:00+00:00\",\"2021-10-04T04:00:00+00:00\",\"2021-10-05T04:00:00+00:00\",\"2021-10-06T04:00:00+00:00\",\"2021-10-07T04:00:00+00:00\",\"2021-10-08T04:00:00+00:00\",\"2021-10-11T00:00:00+00:00\",\"2021-10-11T04:00:00+00:00\",\"2021-10-12T00:00:00+00:00\",\"2021-10-12T04:00:00+00:00\",\"2021-10-13T04:00:00+00:00\",\"2021-10-14T04:00:00+00:00\",\"2021-10-15T04:00:00+00:00\",\"2021-10-18T04:00:00+00:00\",\"2021-10-19T04:00:00+00:00\",\"2021-10-20T04:00:00+00:00\",\"2021-10-21T04:00:00+00:00\",\"2021-10-22T04:00:00+00:00\",\"2021-10-25T04:00:00+00:00\",\"2021-10-26T04:00:00+00:00\",\"2021-10-27T04:00:00+00:00\",\"2021-10-28T04:00:00+00:00\",\"2021-10-29T04:00:00+00:00\",\"2021-11-01T00:00:00+00:00\",\"2021-11-01T04:00:00+00:00\",\"2021-11-02T00:00:00+00:00\",\"2021-11-02T04:00:00+00:00\",\"2021-11-03T00:00:00+00:00\",\"2021-11-03T04:00:00+00:00\",\"2021-11-04T04:00:00+00:00\",\"2021-11-05T04:00:00+00:00\",\"2021-11-11T00:00:00+00:00\",\"2021-11-15T00:00:00+00:00\",\"2021-11-16T00:00:00+00:00\",\"2021-11-17T00:00:00+00:00\",\"2021-11-18T00:00:00+00:00\",\"2021-11-19T00:00:00+00:00\",\"2021-11-22T00:00:00+00:00\",\"2021-11-23T00:00:00+00:00\",\"2021-11-24T00:00:00+00:00\",\"2021-11-26T00:00:00+00:00\",\"2021-11-29T00:00:00+00:00\",\"2021-11-30T00:00:00+00:00\",\"2021-12-01T00:00:00+00:00\",\"2021-12-02T00:00:00+00:00\",\"2021-12-03T00:00:00+00:00\",\"2021-12-11T00:00:00+00:00\",\"2021-12-13T00:00:00+00:00\",\"2021-12-14T00:00:00+00:00\",\"2021-12-15T00:00:00+00:00\",\"2021-12-16T00:00:00+00:00\",\"2021-12-17T00:00:00+00:00\",\"2021-12-20T00:00:00+00:00\",\"2021-12-21T00:00:00+00:00\",\"2021-12-22T00:00:00+00:00\",\"2021-12-23T00:00:00+00:00\",\"2021-12-27T00:00:00+00:00\",\"2021-12-28T00:00:00+00:00\",\"2021-12-29T00:00:00+00:00\",\"2021-12-30T00:00:00+00:00\",\"2021-12-31T00:00:00+00:00\"],\"xaxis\":\"x\",\"y\":[45.77242426,46.8818832,51.82255412,47.39394565,47.56463112,46.61637369,46.21810638,46.02845734,46.25603817,46.2844756,45.91466131,46.37930779,46.36034403,46.17068634,46.49310269,46.2750023,47.26119066,51.45085792,48.00082659,47.41291164,47.56463213,48.16203542,47.27067107,48.36116661,47.78273167,47.85859229,47.60255729,46.41723827,47.14739825,52.1649119,48.28561868,48.95493279,49.00273541,48.82106605,48.24738002,48.11351564,48.75413849,48.92624356,49.4330075,49.85371132,50.41784325,51.39311278,50.70468399,51.46196978,50.63775001,46.42672035,47.7068724,50.05450295,50.71424557,50.94371796,50.83854397,50.83854665,50.99153083,50.71424763,50.65687753,50.80030045,51.38354987,51.63214874,51.47916888,51.86162968,52.08153964,52.01460888,52.08154383,51.21144829,51.61302584,51.19232255,51.87118685,49.62235799,46.93878018,47.46032045,51.89031178,52.17715547,51.76600929,51.74688655,52.05285123,52.47355968,52.61698426,51.97635905,51.6034628,52.49268671,52.43531814,52.00505169,51.74688999,51.74689196,52.39707161,52.23452793,52.41619557,52.5691785,52.78909516,52.92295205,49.28098101,52.91338843,53.06637955,52.76040872,53.44883814,53.84086001,53.78349368,53.30541767,53.45839691,53.53489338,53.1234978,53.64926967,53.73597239,53.40843312,52.66664786,52.5125064,52.23313847,52.34874099,52.56067763,52.27167056,52.25240506,52.26203936,52.14643609,51.82852522,47.49825169,52.34874216,52.02120248,52.01157121,51.75145975,52.03083328,52.26204023,53.81798602,52.32947151,52.93638773,53.00382447,54.17911605,54.39105093,54.02498567,53.68780378,55.22917247,54.54518547,54.51629087,54.80529808,55.01724202,54.90163601,54.97870206,55.05577179,47.44135678,47.37497877,55.10393923,48.80685356,54.91126439,54.67042927,54.37178947,54.52592184,54.71859399,54.7571287,55.08303429,54.80529411,53.91580492,54.65115616,54.72823162,55.10394172,55.35440786,55.09430618,54.00571023,54.75712878,54.59335554,54.56445744,54.00571077,53.899744,53.6203726,53.64927295,54.10204671,54.31398346,47.27066979,54.68969345,49.04391526,54.39105095,54.52592201,53.57220432,54.12131133,53.95754462,54.75302516,53.55388251,53.69743731,54.27741227,54.04446427,54.0832936,53.40385395,52.52058028,52.79235818,52.90882855,52.66617195,52.41381446,52.26821507,51.88967461,51.09375785,51.60818821,51.22964879,47.80169409,48.53185109,51.50142284,51.46260079,51.21994456,52.40410987,52.41381078,54.87920393,52.61764529,54.04296422,52.8214759,52.57881561,52.79235857,53.03501118,52.75353215,52.45263681,52.5885242,52.99618896,52.79235467,52.78265367,52.72440736,54.32594648,54.11240411,54.22888217,48.00082481,54.73360806,47.23274319,54.81126373,48.749955,54.35506462,54.46183422,55.17039108,55.16068643,54.86949546,54.95685176,54.39388644,54.19005931,53.81151569,53.48149905,54.0250513,54.07358154,52.98648008,52.46234553,52.42900827,47.45084176,47.95341736,48.3716782,55.08303444,55.73516868,56.14599529,56.66441542,56.71331832,57.212179,55.95036007,56.35140351,56.44922141,57.24152719,56.73288183,57.12414917,57.66212845,57.76972357,57.46650092],\"yaxis\":\"y\",\"type\":\"scattergl\"},{\"hovertemplate\":\"variable=Close<br>Date=%{x}<br>Stock value=%{y}<extra></extra>\",\"legendgroup\":\"Close\",\"line\":{\"color\":\"#EF553B\",\"dash\":\"solid\"},\"marker\":{\"symbol\":\"circle\"},\"mode\":\"lines\",\"name\":\"Stock Close Price\",\"showlegend\":true,\"x\":[\"2021-01-02T00:00:00+00:00\",\"2021-01-03T00:00:00+00:00\",\"2021-01-12T00:00:00+00:00\",\"2021-01-13T00:00:00+00:00\",\"2021-01-14T00:00:00+00:00\",\"2021-01-15T00:00:00+00:00\",\"2021-01-19T00:00:00+00:00\",\"2021-01-20T00:00:00+00:00\",\"2021-01-21T00:00:00+00:00\",\"2021-01-22T00:00:00+00:00\",\"2021-01-25T00:00:00+00:00\",\"2021-01-26T00:00:00+00:00\",\"2021-01-27T00:00:00+00:00\",\"2021-01-28T00:00:00+00:00\",\"2021-01-29T00:00:00+00:00\",\"2021-02-02T00:00:00+00:00\",\"2021-02-03T00:00:00+00:00\",\"2021-02-12T00:00:00+00:00\",\"2021-02-16T00:00:00+00:00\",\"2021-02-17T00:00:00+00:00\",\"2021-02-18T00:00:00+00:00\",\"2021-02-19T00:00:00+00:00\",\"2021-02-22T00:00:00+00:00\",\"2021-02-23T00:00:00+00:00\",\"2021-02-24T00:00:00+00:00\",\"2021-02-25T00:00:00+00:00\",\"2021-02-26T00:00:00+00:00\",\"2021-03-02T00:00:00+00:00\",\"2021-03-03T00:00:00+00:00\",\"2021-03-12T00:00:00+00:00\",\"2021-03-15T04:00:00+00:00\",\"2021-03-16T04:00:00+00:00\",\"2021-03-17T04:00:00+00:00\",\"2021-03-18T04:00:00+00:00\",\"2021-03-19T04:00:00+00:00\",\"2021-03-22T04:00:00+00:00\",\"2021-03-23T04:00:00+00:00\",\"2021-03-24T04:00:00+00:00\",\"2021-03-25T04:00:00+00:00\",\"2021-03-26T04:00:00+00:00\",\"2021-03-29T04:00:00+00:00\",\"2021-03-30T04:00:00+00:00\",\"2021-03-31T04:00:00+00:00\",\"2021-04-01T00:00:00+00:00\",\"2021-04-01T04:00:00+00:00\",\"2021-04-02T00:00:00+00:00\",\"2021-04-03T00:00:00+00:00\",\"2021-04-05T04:00:00+00:00\",\"2021-04-06T04:00:00+00:00\",\"2021-04-07T04:00:00+00:00\",\"2021-04-08T04:00:00+00:00\",\"2021-04-09T04:00:00+00:00\",\"2021-04-12T04:00:00+00:00\",\"2021-04-13T04:00:00+00:00\",\"2021-04-14T04:00:00+00:00\",\"2021-04-15T04:00:00+00:00\",\"2021-04-16T04:00:00+00:00\",\"2021-04-19T04:00:00+00:00\",\"2021-04-20T04:00:00+00:00\",\"2021-04-21T04:00:00+00:00\",\"2021-04-22T04:00:00+00:00\",\"2021-04-23T04:00:00+00:00\",\"2021-04-26T04:00:00+00:00\",\"2021-04-27T04:00:00+00:00\",\"2021-04-28T04:00:00+00:00\",\"2021-04-29T04:00:00+00:00\",\"2021-04-30T04:00:00+00:00\",\"2021-05-01T00:00:00+00:00\",\"2021-05-02T00:00:00+00:00\",\"2021-05-03T00:00:00+00:00\",\"2021-05-03T04:00:00+00:00\",\"2021-05-04T04:00:00+00:00\",\"2021-05-05T04:00:00+00:00\",\"2021-05-06T04:00:00+00:00\",\"2021-05-07T04:00:00+00:00\",\"2021-05-10T04:00:00+00:00\",\"2021-05-11T04:00:00+00:00\",\"2021-05-12T04:00:00+00:00\",\"2021-05-13T04:00:00+00:00\",\"2021-05-14T04:00:00+00:00\",\"2021-05-17T04:00:00+00:00\",\"2021-05-18T04:00:00+00:00\",\"2021-05-19T04:00:00+00:00\",\"2021-05-20T04:00:00+00:00\",\"2021-05-21T04:00:00+00:00\",\"2021-05-24T04:00:00+00:00\",\"2021-05-25T04:00:00+00:00\",\"2021-05-26T04:00:00+00:00\",\"2021-05-27T04:00:00+00:00\",\"2021-05-28T04:00:00+00:00\",\"2021-06-01T00:00:00+00:00\",\"2021-06-01T04:00:00+00:00\",\"2021-06-02T04:00:00+00:00\",\"2021-06-03T04:00:00+00:00\",\"2021-06-04T04:00:00+00:00\",\"2021-06-07T04:00:00+00:00\",\"2021-06-08T04:00:00+00:00\",\"2021-06-09T04:00:00+00:00\",\"2021-06-10T04:00:00+00:00\",\"2021-06-11T04:00:00+00:00\",\"2021-06-12T00:00:00+00:00\",\"2021-06-14T04:00:00+00:00\",\"2021-06-15T04:00:00+00:00\",\"2021-06-16T04:00:00+00:00\",\"2021-06-17T04:00:00+00:00\",\"2021-06-18T04:00:00+00:00\",\"2021-06-21T04:00:00+00:00\",\"2021-06-22T04:00:00+00:00\",\"2021-06-23T04:00:00+00:00\",\"2021-06-24T04:00:00+00:00\",\"2021-06-25T04:00:00+00:00\",\"2021-06-28T04:00:00+00:00\",\"2021-06-29T04:00:00+00:00\",\"2021-06-30T04:00:00+00:00\",\"2021-07-01T00:00:00+00:00\",\"2021-07-01T04:00:00+00:00\",\"2021-07-02T04:00:00+00:00\",\"2021-07-06T04:00:00+00:00\",\"2021-07-07T04:00:00+00:00\",\"2021-07-08T04:00:00+00:00\",\"2021-07-09T04:00:00+00:00\",\"2021-07-12T00:00:00+00:00\",\"2021-07-12T04:00:00+00:00\",\"2021-07-13T04:00:00+00:00\",\"2021-07-14T04:00:00+00:00\",\"2021-07-15T04:00:00+00:00\",\"2021-07-16T04:00:00+00:00\",\"2021-07-19T04:00:00+00:00\",\"2021-07-20T04:00:00+00:00\",\"2021-07-21T04:00:00+00:00\",\"2021-07-22T04:00:00+00:00\",\"2021-07-23T04:00:00+00:00\",\"2021-07-26T04:00:00+00:00\",\"2021-07-27T04:00:00+00:00\",\"2021-07-28T04:00:00+00:00\",\"2021-07-29T04:00:00+00:00\",\"2021-07-30T04:00:00+00:00\",\"2021-08-01T00:00:00+00:00\",\"2021-08-02T00:00:00+00:00\",\"2021-08-02T04:00:00+00:00\",\"2021-08-03T00:00:00+00:00\",\"2021-08-03T04:00:00+00:00\",\"2021-08-04T04:00:00+00:00\",\"2021-08-05T04:00:00+00:00\",\"2021-08-06T04:00:00+00:00\",\"2021-08-09T04:00:00+00:00\",\"2021-08-10T04:00:00+00:00\",\"2021-08-11T00:00:00+00:00\",\"2021-08-11T04:00:00+00:00\",\"2021-08-12T00:00:00+00:00\",\"2021-08-12T04:00:00+00:00\",\"2021-08-13T04:00:00+00:00\",\"2021-08-16T04:00:00+00:00\",\"2021-08-17T04:00:00+00:00\",\"2021-08-18T04:00:00+00:00\",\"2021-08-19T04:00:00+00:00\",\"2021-08-20T04:00:00+00:00\",\"2021-08-23T04:00:00+00:00\",\"2021-08-24T04:00:00+00:00\",\"2021-08-25T04:00:00+00:00\",\"2021-08-26T04:00:00+00:00\",\"2021-08-27T04:00:00+00:00\",\"2021-08-30T04:00:00+00:00\",\"2021-08-31T04:00:00+00:00\",\"2021-09-01T04:00:00+00:00\",\"2021-09-02T00:00:00+00:00\",\"2021-09-02T04:00:00+00:00\",\"2021-09-03T00:00:00+00:00\",\"2021-09-03T04:00:00+00:00\",\"2021-09-07T04:00:00+00:00\",\"2021-09-08T04:00:00+00:00\",\"2021-09-09T04:00:00+00:00\",\"2021-09-10T04:00:00+00:00\",\"2021-09-11T00:00:00+00:00\",\"2021-09-12T00:00:00+00:00\",\"2021-09-13T04:00:00+00:00\",\"2021-09-14T04:00:00+00:00\",\"2021-09-15T04:00:00+00:00\",\"2021-09-16T04:00:00+00:00\",\"2021-09-17T04:00:00+00:00\",\"2021-09-20T04:00:00+00:00\",\"2021-09-21T04:00:00+00:00\",\"2021-09-22T04:00:00+00:00\",\"2021-09-23T04:00:00+00:00\",\"2021-09-24T04:00:00+00:00\",\"2021-09-27T04:00:00+00:00\",\"2021-09-28T04:00:00+00:00\",\"2021-09-29T04:00:00+00:00\",\"2021-09-30T04:00:00+00:00\",\"2021-10-01T04:00:00+00:00\",\"2021-10-02T00:00:00+00:00\",\"2021-10-03T00:00:00+00:00\",\"2021-10-04T04:00:00+00:00\",\"2021-10-05T04:00:00+00:00\",\"2021-10-06T04:00:00+00:00\",\"2021-10-07T04:00:00+00:00\",\"2021-10-08T04:00:00+00:00\",\"2021-10-11T00:00:00+00:00\",\"2021-10-11T04:00:00+00:00\",\"2021-10-12T00:00:00+00:00\",\"2021-10-12T04:00:00+00:00\",\"2021-10-13T04:00:00+00:00\",\"2021-10-14T04:00:00+00:00\",\"2021-10-15T04:00:00+00:00\",\"2021-10-18T04:00:00+00:00\",\"2021-10-19T04:00:00+00:00\",\"2021-10-20T04:00:00+00:00\",\"2021-10-21T04:00:00+00:00\",\"2021-10-22T04:00:00+00:00\",\"2021-10-25T04:00:00+00:00\",\"2021-10-26T04:00:00+00:00\",\"2021-10-27T04:00:00+00:00\",\"2021-10-28T04:00:00+00:00\",\"2021-10-29T04:00:00+00:00\",\"2021-11-01T00:00:00+00:00\",\"2021-11-01T04:00:00+00:00\",\"2021-11-02T00:00:00+00:00\",\"2021-11-02T04:00:00+00:00\",\"2021-11-03T00:00:00+00:00\",\"2021-11-03T04:00:00+00:00\",\"2021-11-04T04:00:00+00:00\",\"2021-11-05T04:00:00+00:00\",\"2021-11-11T00:00:00+00:00\",\"2021-11-15T00:00:00+00:00\",\"2021-11-16T00:00:00+00:00\",\"2021-11-17T00:00:00+00:00\",\"2021-11-18T00:00:00+00:00\",\"2021-11-19T00:00:00+00:00\",\"2021-11-22T00:00:00+00:00\",\"2021-11-23T00:00:00+00:00\",\"2021-11-24T00:00:00+00:00\",\"2021-11-26T00:00:00+00:00\",\"2021-11-29T00:00:00+00:00\",\"2021-11-30T00:00:00+00:00\",\"2021-12-01T00:00:00+00:00\",\"2021-12-02T00:00:00+00:00\",\"2021-12-03T00:00:00+00:00\",\"2021-12-11T00:00:00+00:00\",\"2021-12-13T00:00:00+00:00\",\"2021-12-14T00:00:00+00:00\",\"2021-12-15T00:00:00+00:00\",\"2021-12-16T00:00:00+00:00\",\"2021-12-17T00:00:00+00:00\",\"2021-12-20T00:00:00+00:00\",\"2021-12-21T00:00:00+00:00\",\"2021-12-22T00:00:00+00:00\",\"2021-12-23T00:00:00+00:00\",\"2021-12-27T00:00:00+00:00\",\"2021-12-28T00:00:00+00:00\",\"2021-12-29T00:00:00+00:00\",\"2021-12-30T00:00:00+00:00\",\"2021-12-31T00:00:00+00:00\"],\"xaxis\":\"x\",\"y\":[45.97155762,47.31808472,51.15740967,47.56463242,46.6827507,46.18017578,46.00000381,46.16121292,46.41724396,45.98103333,46.25603485,46.73964691,46.01897049,46.60688782,45.658638,46.42672348,47.50773621,51.91059113,47.66893768,47.53618622,48.14307022,47.51721954,48.01031494,47.92496872,48.08617401,47.57411194,46.45516586,46.24655151,47.39394379,52.37032318,48.79237747,48.97405624,48.99317551,48.35255051,48.58203506,48.76369858,49.13659668,49.26089859,49.73897552,50.71424866,51.48873138,50.81942368,50.39871597,50.03009796,50.20748138,46.47413254,47.35601425,50.49433517,50.85766602,50.94371796,50.79073715,50.8481102,51.01065063,50.76205444,50.75249481,50.99153137,51.3261795,51.63214874,51.79469681,52.21540451,52.05285263,52.08153915,51.30706024,51.23057175,51.24012756,51.88074875,51.61302567,49.4801178,47.08102036,48.16203308,52.0911026,51.76601028,51.63214874,52.14847183,52.11978149,52.50224304,51.93811798,51.67039108,52.11978149,52.33013916,52.24408722,51.95724487,51.79469681,52.25365448,52.22496414,52.39707184,52.38751221,52.61698532,53.05681992,52.86558533,47.90600586,52.85601807,53.06637955,53.20023727,53.7739296,53.58269882,53.20980453,53.04725647,53.45839691,53.69743729,53.71038818,53.51440048,53.37953186,52.66664886,52.93638992,51.7996254,52.36800766,52.56068039,52.13679886,52.39690781,52.32947159,52.2716713,51.88632965,52.12716675,47.37497711,51.98266602,52.19460678,51.9056015,52.32947159,52.1464386,52.46434402,54.00383377,52.48360825,53.00382233,54.19838333,54.37178421,54.33325195,53.68780899,53.78414154,54.47775269,54.40068436,54.92089844,54.96907043,55.16174316,54.66079712,54.95943451,54.94016647,48.43703079,47.33704758,54.79566574,48.96805573,54.83419418,54.04424667,54.42959213,54.56445694,54.57409286,54.7185936,54.67537308,54.65115738,53.79842758,54.75712585,55.1328392,55.37368011,55.18100357,54.42959213,54.77639389,54.56445694,54.37178421,53.95754242,54.01534271,53.50476837,53.61074066,54.12131882,54.24655151,54.61262131,47.12843323,54.68969345,48.22841263,54.65115738,53.63000107,54.35251999,53.81303787,53.57220459,54.83067703,53.66147995,54.01534271,54.0541687,54.23859024,53.72415924,52.84088898,52.47204971,52.46234512,52.53999329,52.45263672,52.30704498,52.03526688,51.09376144,51.40435791,50.9287529,51.46260071,47.03360367,48.77839661,51.43347931,51.52083969,52.13233185,52.29734039,52.53028488,55.05391693,52.63705826,55.05046082,52.63705826,52.64676285,53.00589752,52.87971115,52.35557556,52.55940628,53.0253067,52.75353241,52.85059357,52.63705826,52.87000275,53.88916397,54.39388657,54.71419525,47.60255814,54.52006912,47.6973877,54.45212936,48.2473793,54.63654709,54.93743896,55.17039108,55.07332993,54.95685196,54.56860352,54.26770401,53.78239441,53.51062393,53.84063339,54.23859024,53.8018074,52.15174103,52.97677994,51.30413437,47.51721954,48.06720734,48.15176392,54.94714737,56.49812698,56.53725433,56.79157639,57.36868286,56.46878052,56.28293228,56.50790787,56.90895462,56.94808197,57.36868286,57.59366226,57.66212845,57.49583817,57.9164505],\"yaxis\":\"y\",\"type\":\"scattergl\"},{\"hovertemplate\":\"variable=High<br>Date=%{x}<br>Stock value=%{y}<extra></extra>\",\"legendgroup\":\"High\",\"line\":{\"color\":\"#00cc96\",\"dash\":\"solid\"},\"marker\":{\"symbol\":\"circle\"},\"mode\":\"lines\",\"name\":\"Stock High Price\",\"showlegend\":true,\"x\":[\"2021-01-02T00:00:00+00:00\",\"2021-01-03T00:00:00+00:00\",\"2021-01-12T00:00:00+00:00\",\"2021-01-13T00:00:00+00:00\",\"2021-01-14T00:00:00+00:00\",\"2021-01-15T00:00:00+00:00\",\"2021-01-19T00:00:00+00:00\",\"2021-01-20T00:00:00+00:00\",\"2021-01-21T00:00:00+00:00\",\"2021-01-22T00:00:00+00:00\",\"2021-01-25T00:00:00+00:00\",\"2021-01-26T00:00:00+00:00\",\"2021-01-27T00:00:00+00:00\",\"2021-01-28T00:00:00+00:00\",\"2021-01-29T00:00:00+00:00\",\"2021-02-02T00:00:00+00:00\",\"2021-02-03T00:00:00+00:00\",\"2021-02-12T00:00:00+00:00\",\"2021-02-16T00:00:00+00:00\",\"2021-02-17T00:00:00+00:00\",\"2021-02-18T00:00:00+00:00\",\"2021-02-19T00:00:00+00:00\",\"2021-02-22T00:00:00+00:00\",\"2021-02-23T00:00:00+00:00\",\"2021-02-24T00:00:00+00:00\",\"2021-02-25T00:00:00+00:00\",\"2021-02-26T00:00:00+00:00\",\"2021-03-02T00:00:00+00:00\",\"2021-03-03T00:00:00+00:00\",\"2021-03-12T00:00:00+00:00\",\"2021-03-15T04:00:00+00:00\",\"2021-03-16T04:00:00+00:00\",\"2021-03-17T04:00:00+00:00\",\"2021-03-18T04:00:00+00:00\",\"2021-03-19T04:00:00+00:00\",\"2021-03-22T04:00:00+00:00\",\"2021-03-23T04:00:00+00:00\",\"2021-03-24T04:00:00+00:00\",\"2021-03-25T04:00:00+00:00\",\"2021-03-26T04:00:00+00:00\",\"2021-03-29T04:00:00+00:00\",\"2021-03-30T04:00:00+00:00\",\"2021-03-31T04:00:00+00:00\",\"2021-04-01T00:00:00+00:00\",\"2021-04-01T04:00:00+00:00\",\"2021-04-02T00:00:00+00:00\",\"2021-04-03T00:00:00+00:00\",\"2021-04-05T04:00:00+00:00\",\"2021-04-06T04:00:00+00:00\",\"2021-04-07T04:00:00+00:00\",\"2021-04-08T04:00:00+00:00\",\"2021-04-09T04:00:00+00:00\",\"2021-04-12T04:00:00+00:00\",\"2021-04-13T04:00:00+00:00\",\"2021-04-14T04:00:00+00:00\",\"2021-04-15T04:00:00+00:00\",\"2021-04-16T04:00:00+00:00\",\"2021-04-19T04:00:00+00:00\",\"2021-04-20T04:00:00+00:00\",\"2021-04-21T04:00:00+00:00\",\"2021-04-22T04:00:00+00:00\",\"2021-04-23T04:00:00+00:00\",\"2021-04-26T04:00:00+00:00\",\"2021-04-27T04:00:00+00:00\",\"2021-04-28T04:00:00+00:00\",\"2021-04-29T04:00:00+00:00\",\"2021-04-30T04:00:00+00:00\",\"2021-05-01T00:00:00+00:00\",\"2021-05-02T00:00:00+00:00\",\"2021-05-03T00:00:00+00:00\",\"2021-05-03T04:00:00+00:00\",\"2021-05-04T04:00:00+00:00\",\"2021-05-05T04:00:00+00:00\",\"2021-05-06T04:00:00+00:00\",\"2021-05-07T04:00:00+00:00\",\"2021-05-10T04:00:00+00:00\",\"2021-05-11T04:00:00+00:00\",\"2021-05-12T04:00:00+00:00\",\"2021-05-13T04:00:00+00:00\",\"2021-05-14T04:00:00+00:00\",\"2021-05-17T04:00:00+00:00\",\"2021-05-18T04:00:00+00:00\",\"2021-05-19T04:00:00+00:00\",\"2021-05-20T04:00:00+00:00\",\"2021-05-21T04:00:00+00:00\",\"2021-05-24T04:00:00+00:00\",\"2021-05-25T04:00:00+00:00\",\"2021-05-26T04:00:00+00:00\",\"2021-05-27T04:00:00+00:00\",\"2021-05-28T04:00:00+00:00\",\"2021-06-01T00:00:00+00:00\",\"2021-06-01T04:00:00+00:00\",\"2021-06-02T04:00:00+00:00\",\"2021-06-03T04:00:00+00:00\",\"2021-06-04T04:00:00+00:00\",\"2021-06-07T04:00:00+00:00\",\"2021-06-08T04:00:00+00:00\",\"2021-06-09T04:00:00+00:00\",\"2021-06-10T04:00:00+00:00\",\"2021-06-11T04:00:00+00:00\",\"2021-06-12T00:00:00+00:00\",\"2021-06-14T04:00:00+00:00\",\"2021-06-15T04:00:00+00:00\",\"2021-06-16T04:00:00+00:00\",\"2021-06-17T04:00:00+00:00\",\"2021-06-18T04:00:00+00:00\",\"2021-06-21T04:00:00+00:00\",\"2021-06-22T04:00:00+00:00\",\"2021-06-23T04:00:00+00:00\",\"2021-06-24T04:00:00+00:00\",\"2021-06-25T04:00:00+00:00\",\"2021-06-28T04:00:00+00:00\",\"2021-06-29T04:00:00+00:00\",\"2021-06-30T04:00:00+00:00\",\"2021-07-01T00:00:00+00:00\",\"2021-07-01T04:00:00+00:00\",\"2021-07-02T04:00:00+00:00\",\"2021-07-06T04:00:00+00:00\",\"2021-07-07T04:00:00+00:00\",\"2021-07-08T04:00:00+00:00\",\"2021-07-09T04:00:00+00:00\",\"2021-07-12T00:00:00+00:00\",\"2021-07-12T04:00:00+00:00\",\"2021-07-13T04:00:00+00:00\",\"2021-07-14T04:00:00+00:00\",\"2021-07-15T04:00:00+00:00\",\"2021-07-16T04:00:00+00:00\",\"2021-07-19T04:00:00+00:00\",\"2021-07-20T04:00:00+00:00\",\"2021-07-21T04:00:00+00:00\",\"2021-07-22T04:00:00+00:00\",\"2021-07-23T04:00:00+00:00\",\"2021-07-26T04:00:00+00:00\",\"2021-07-27T04:00:00+00:00\",\"2021-07-28T04:00:00+00:00\",\"2021-07-29T04:00:00+00:00\",\"2021-07-30T04:00:00+00:00\",\"2021-08-01T00:00:00+00:00\",\"2021-08-02T00:00:00+00:00\",\"2021-08-02T04:00:00+00:00\",\"2021-08-03T00:00:00+00:00\",\"2021-08-03T04:00:00+00:00\",\"2021-08-04T04:00:00+00:00\",\"2021-08-05T04:00:00+00:00\",\"2021-08-06T04:00:00+00:00\",\"2021-08-09T04:00:00+00:00\",\"2021-08-10T04:00:00+00:00\",\"2021-08-11T00:00:00+00:00\",\"2021-08-11T04:00:00+00:00\",\"2021-08-12T00:00:00+00:00\",\"2021-08-12T04:00:00+00:00\",\"2021-08-13T04:00:00+00:00\",\"2021-08-16T04:00:00+00:00\",\"2021-08-17T04:00:00+00:00\",\"2021-08-18T04:00:00+00:00\",\"2021-08-19T04:00:00+00:00\",\"2021-08-20T04:00:00+00:00\",\"2021-08-23T04:00:00+00:00\",\"2021-08-24T04:00:00+00:00\",\"2021-08-25T04:00:00+00:00\",\"2021-08-26T04:00:00+00:00\",\"2021-08-27T04:00:00+00:00\",\"2021-08-30T04:00:00+00:00\",\"2021-08-31T04:00:00+00:00\",\"2021-09-01T04:00:00+00:00\",\"2021-09-02T00:00:00+00:00\",\"2021-09-02T04:00:00+00:00\",\"2021-09-03T00:00:00+00:00\",\"2021-09-03T04:00:00+00:00\",\"2021-09-07T04:00:00+00:00\",\"2021-09-08T04:00:00+00:00\",\"2021-09-09T04:00:00+00:00\",\"2021-09-10T04:00:00+00:00\",\"2021-09-11T00:00:00+00:00\",\"2021-09-12T00:00:00+00:00\",\"2021-09-13T04:00:00+00:00\",\"2021-09-14T04:00:00+00:00\",\"2021-09-15T04:00:00+00:00\",\"2021-09-16T04:00:00+00:00\",\"2021-09-17T04:00:00+00:00\",\"2021-09-20T04:00:00+00:00\",\"2021-09-21T04:00:00+00:00\",\"2021-09-22T04:00:00+00:00\",\"2021-09-23T04:00:00+00:00\",\"2021-09-24T04:00:00+00:00\",\"2021-09-27T04:00:00+00:00\",\"2021-09-28T04:00:00+00:00\",\"2021-09-29T04:00:00+00:00\",\"2021-09-30T04:00:00+00:00\",\"2021-10-01T04:00:00+00:00\",\"2021-10-02T00:00:00+00:00\",\"2021-10-03T00:00:00+00:00\",\"2021-10-04T04:00:00+00:00\",\"2021-10-05T04:00:00+00:00\",\"2021-10-06T04:00:00+00:00\",\"2021-10-07T04:00:00+00:00\",\"2021-10-08T04:00:00+00:00\",\"2021-10-11T00:00:00+00:00\",\"2021-10-11T04:00:00+00:00\",\"2021-10-12T00:00:00+00:00\",\"2021-10-12T04:00:00+00:00\",\"2021-10-13T04:00:00+00:00\",\"2021-10-14T04:00:00+00:00\",\"2021-10-15T04:00:00+00:00\",\"2021-10-18T04:00:00+00:00\",\"2021-10-19T04:00:00+00:00\",\"2021-10-20T04:00:00+00:00\",\"2021-10-21T04:00:00+00:00\",\"2021-10-22T04:00:00+00:00\",\"2021-10-25T04:00:00+00:00\",\"2021-10-26T04:00:00+00:00\",\"2021-10-27T04:00:00+00:00\",\"2021-10-28T04:00:00+00:00\",\"2021-10-29T04:00:00+00:00\",\"2021-11-01T00:00:00+00:00\",\"2021-11-01T04:00:00+00:00\",\"2021-11-02T00:00:00+00:00\",\"2021-11-02T04:00:00+00:00\",\"2021-11-03T00:00:00+00:00\",\"2021-11-03T04:00:00+00:00\",\"2021-11-04T04:00:00+00:00\",\"2021-11-05T04:00:00+00:00\",\"2021-11-11T00:00:00+00:00\",\"2021-11-15T00:00:00+00:00\",\"2021-11-16T00:00:00+00:00\",\"2021-11-17T00:00:00+00:00\",\"2021-11-18T00:00:00+00:00\",\"2021-11-19T00:00:00+00:00\",\"2021-11-22T00:00:00+00:00\",\"2021-11-23T00:00:00+00:00\",\"2021-11-24T00:00:00+00:00\",\"2021-11-26T00:00:00+00:00\",\"2021-11-29T00:00:00+00:00\",\"2021-11-30T00:00:00+00:00\",\"2021-12-01T00:00:00+00:00\",\"2021-12-02T00:00:00+00:00\",\"2021-12-03T00:00:00+00:00\",\"2021-12-11T00:00:00+00:00\",\"2021-12-13T00:00:00+00:00\",\"2021-12-14T00:00:00+00:00\",\"2021-12-15T00:00:00+00:00\",\"2021-12-16T00:00:00+00:00\",\"2021-12-17T00:00:00+00:00\",\"2021-12-20T00:00:00+00:00\",\"2021-12-21T00:00:00+00:00\",\"2021-12-22T00:00:00+00:00\",\"2021-12-23T00:00:00+00:00\",\"2021-12-27T00:00:00+00:00\",\"2021-12-28T00:00:00+00:00\",\"2021-12-29T00:00:00+00:00\",\"2021-12-30T00:00:00+00:00\",\"2021-12-31T00:00:00+00:00\"],\"xaxis\":\"x\",\"y\":[46.17069097,47.83014139,52.35075772,47.75428478,47.58359671,46.63533929,46.50258312,46.2939685,46.54999954,46.40774654,46.31293165,46.84395589,46.76809536,46.93877671,46.57844608,46.79654362,47.94393774,52.17469294,48.09565457,47.87755976,48.218929,48.19996661,48.2473795,48.84477668,48.26634539,48.12410343,47.61203828,46.54999384,47.94393527,52.43879361,48.8784312,49.26090082,49.35651024,48.94536304,48.84019628,48.8401924,49.38519797,49.61467343,49.77722244,50.78117893,51.57478512,51.43135969,50.83854454,51.80334329,50.81942101,46.53102933,48.44651265,50.88635694,51.29749821,51.15407232,51.03933844,50.94372384,51.20188155,50.95328536,50.85766835,51.30705929,51.44091659,51.97636365,52.19628212,52.33970516,52.4639978,52.19627624,52.1197871,51.34530884,51.67995611,51.97636603,51.8903103,49.89735014,47.20429131,48.31375424,52.39707061,52.22496229,51.86162656,52.2154021,52.36838276,53.06637219,52.72216145,52.16758995,52.37794266,52.68391398,52.6074256,52.16759926,51.80426036,52.39707494,52.70303962,52.52137248,52.41619557,52.63610878,53.1333101,53.26716696,49.32839319,53.20979651,53.12374992,53.29585456,54.00340378,53.86954337,53.78349368,53.46796159,53.65918773,53.7452441,54.0429604,53.66853722,53.74560801,53.42770067,53.12906177,52.6184761,52.43544225,52.84005071,52.59920906,52.4258073,52.47397639,52.377641,52.34873987,52.19460134,47.65945384,52.48361136,52.45471323,52.1079053,52.38727424,52.18497003,52.52214668,54.20924503,52.59920988,53.2735607,54.28508548,54.40068737,54.60299032,54.28508845,54.26581931,55.4507438,54.66079077,55.2291756,55.02686942,55.43148525,55.0654047,55.15210636,55.15210587,48.48444298,47.57411213,55.14247433,49.77407741,54.91126439,54.86310112,54.51629428,54.6607947,54.7956642,55.07503412,55.21892135,55.08466809,54.14077972,54.89199503,55.2002738,55.38331573,55.45074562,55.13284129,54.89199552,54.94016501,54.67042574,54.56445744,54.11167679,53.92864349,53.74560986,54.14058637,54.44885529,54.718591,47.43187556,54.94016427,49.19563643,54.68969248,54.61262416,54.41032265,54.35251459,54.07314993,54.85979463,53.92558174,54.33325179,54.33565117,54.35506434,54.34536313,53.56885863,52.80206274,53.20972774,52.95736282,53.01559795,52.64676637,52.656467,51.88967461,51.59848387,51.76349194,51.63731372,47.96289986,48.95856797,51.9576146,51.89938331,52.19057075,52.68558865,52.79235438,55.2480392,52.7923583,55.08958784,53.2194362,52.83118048,53.2000235,53.26796308,52.79235809,52.60793685,53.15148543,53.0641325,52.92824173,52.87001017,52.97677221,54.43271594,54.4618301,54.81126009,48.22840835,54.7433164,47.97238345,54.84038133,48.7689206,54.67537302,54.96656027,55.48099116,55.209217,55.01509086,55.26745183,54.40359107,54.28712045,53.86004996,54.37447703,54.46183381,54.19976397,53.14178012,53.12237165,52.4583554,47.76376509,48.21892851,48.45773194,55.31598635,56.66441497,56.89916997,56.97742415,57.59365763,57.63278141,56.51768694,56.70353924,56.91873451,57.32956113,57.40780615,57.65234907,57.80884918,57.93600781,58.05339135],\"yaxis\":\"y\",\"type\":\"scattergl\"},{\"hovertemplate\":\"variable=Low<br>Date=%{x}<br>Stock value=%{y}<extra></extra>\",\"legendgroup\":\"Low\",\"line\":{\"color\":\"#ab63fa\",\"dash\":\"solid\"},\"marker\":{\"symbol\":\"circle\"},\"mode\":\"lines\",\"name\":\"Stock Low Price\",\"showlegend\":true,\"x\":[\"2021-01-02T00:00:00+00:00\",\"2021-01-03T00:00:00+00:00\",\"2021-01-12T00:00:00+00:00\",\"2021-01-13T00:00:00+00:00\",\"2021-01-14T00:00:00+00:00\",\"2021-01-15T00:00:00+00:00\",\"2021-01-19T00:00:00+00:00\",\"2021-01-20T00:00:00+00:00\",\"2021-01-21T00:00:00+00:00\",\"2021-01-22T00:00:00+00:00\",\"2021-01-25T00:00:00+00:00\",\"2021-01-26T00:00:00+00:00\",\"2021-01-27T00:00:00+00:00\",\"2021-01-28T00:00:00+00:00\",\"2021-01-29T00:00:00+00:00\",\"2021-02-02T00:00:00+00:00\",\"2021-02-03T00:00:00+00:00\",\"2021-02-12T00:00:00+00:00\",\"2021-02-16T00:00:00+00:00\",\"2021-02-17T00:00:00+00:00\",\"2021-02-18T00:00:00+00:00\",\"2021-02-19T00:00:00+00:00\",\"2021-02-22T00:00:00+00:00\",\"2021-02-23T00:00:00+00:00\",\"2021-02-24T00:00:00+00:00\",\"2021-02-25T00:00:00+00:00\",\"2021-02-26T00:00:00+00:00\",\"2021-03-02T00:00:00+00:00\",\"2021-03-03T00:00:00+00:00\",\"2021-03-12T00:00:00+00:00\",\"2021-03-15T04:00:00+00:00\",\"2021-03-16T04:00:00+00:00\",\"2021-03-17T04:00:00+00:00\",\"2021-03-18T04:00:00+00:00\",\"2021-03-19T04:00:00+00:00\",\"2021-03-22T04:00:00+00:00\",\"2021-03-23T04:00:00+00:00\",\"2021-03-24T04:00:00+00:00\",\"2021-03-25T04:00:00+00:00\",\"2021-03-26T04:00:00+00:00\",\"2021-03-29T04:00:00+00:00\",\"2021-03-30T04:00:00+00:00\",\"2021-03-31T04:00:00+00:00\",\"2021-04-01T00:00:00+00:00\",\"2021-04-01T04:00:00+00:00\",\"2021-04-02T00:00:00+00:00\",\"2021-04-03T00:00:00+00:00\",\"2021-04-05T04:00:00+00:00\",\"2021-04-06T04:00:00+00:00\",\"2021-04-07T04:00:00+00:00\",\"2021-04-08T04:00:00+00:00\",\"2021-04-09T04:00:00+00:00\",\"2021-04-12T04:00:00+00:00\",\"2021-04-13T04:00:00+00:00\",\"2021-04-14T04:00:00+00:00\",\"2021-04-15T04:00:00+00:00\",\"2021-04-16T04:00:00+00:00\",\"2021-04-19T04:00:00+00:00\",\"2021-04-20T04:00:00+00:00\",\"2021-04-21T04:00:00+00:00\",\"2021-04-22T04:00:00+00:00\",\"2021-04-23T04:00:00+00:00\",\"2021-04-26T04:00:00+00:00\",\"2021-04-27T04:00:00+00:00\",\"2021-04-28T04:00:00+00:00\",\"2021-04-29T04:00:00+00:00\",\"2021-04-30T04:00:00+00:00\",\"2021-05-01T00:00:00+00:00\",\"2021-05-02T00:00:00+00:00\",\"2021-05-03T00:00:00+00:00\",\"2021-05-03T04:00:00+00:00\",\"2021-05-04T04:00:00+00:00\",\"2021-05-05T04:00:00+00:00\",\"2021-05-06T04:00:00+00:00\",\"2021-05-07T04:00:00+00:00\",\"2021-05-10T04:00:00+00:00\",\"2021-05-11T04:00:00+00:00\",\"2021-05-12T04:00:00+00:00\",\"2021-05-13T04:00:00+00:00\",\"2021-05-14T04:00:00+00:00\",\"2021-05-17T04:00:00+00:00\",\"2021-05-18T04:00:00+00:00\",\"2021-05-19T04:00:00+00:00\",\"2021-05-20T04:00:00+00:00\",\"2021-05-21T04:00:00+00:00\",\"2021-05-24T04:00:00+00:00\",\"2021-05-25T04:00:00+00:00\",\"2021-05-26T04:00:00+00:00\",\"2021-05-27T04:00:00+00:00\",\"2021-05-28T04:00:00+00:00\",\"2021-06-01T00:00:00+00:00\",\"2021-06-01T04:00:00+00:00\",\"2021-06-02T04:00:00+00:00\",\"2021-06-03T04:00:00+00:00\",\"2021-06-04T04:00:00+00:00\",\"2021-06-07T04:00:00+00:00\",\"2021-06-08T04:00:00+00:00\",\"2021-06-09T04:00:00+00:00\",\"2021-06-10T04:00:00+00:00\",\"2021-06-11T04:00:00+00:00\",\"2021-06-12T00:00:00+00:00\",\"2021-06-14T04:00:00+00:00\",\"2021-06-15T04:00:00+00:00\",\"2021-06-16T04:00:00+00:00\",\"2021-06-17T04:00:00+00:00\",\"2021-06-18T04:00:00+00:00\",\"2021-06-21T04:00:00+00:00\",\"2021-06-22T04:00:00+00:00\",\"2021-06-23T04:00:00+00:00\",\"2021-06-24T04:00:00+00:00\",\"2021-06-25T04:00:00+00:00\",\"2021-06-28T04:00:00+00:00\",\"2021-06-29T04:00:00+00:00\",\"2021-06-30T04:00:00+00:00\",\"2021-07-01T00:00:00+00:00\",\"2021-07-01T04:00:00+00:00\",\"2021-07-02T04:00:00+00:00\",\"2021-07-06T04:00:00+00:00\",\"2021-07-07T04:00:00+00:00\",\"2021-07-08T04:00:00+00:00\",\"2021-07-09T04:00:00+00:00\",\"2021-07-12T00:00:00+00:00\",\"2021-07-12T04:00:00+00:00\",\"2021-07-13T04:00:00+00:00\",\"2021-07-14T04:00:00+00:00\",\"2021-07-15T04:00:00+00:00\",\"2021-07-16T04:00:00+00:00\",\"2021-07-19T04:00:00+00:00\",\"2021-07-20T04:00:00+00:00\",\"2021-07-21T04:00:00+00:00\",\"2021-07-22T04:00:00+00:00\",\"2021-07-23T04:00:00+00:00\",\"2021-07-26T04:00:00+00:00\",\"2021-07-27T04:00:00+00:00\",\"2021-07-28T04:00:00+00:00\",\"2021-07-29T04:00:00+00:00\",\"2021-07-30T04:00:00+00:00\",\"2021-08-01T00:00:00+00:00\",\"2021-08-02T00:00:00+00:00\",\"2021-08-02T04:00:00+00:00\",\"2021-08-03T00:00:00+00:00\",\"2021-08-03T04:00:00+00:00\",\"2021-08-04T04:00:00+00:00\",\"2021-08-05T04:00:00+00:00\",\"2021-08-06T04:00:00+00:00\",\"2021-08-09T04:00:00+00:00\",\"2021-08-10T04:00:00+00:00\",\"2021-08-11T00:00:00+00:00\",\"2021-08-11T04:00:00+00:00\",\"2021-08-12T00:00:00+00:00\",\"2021-08-12T04:00:00+00:00\",\"2021-08-13T04:00:00+00:00\",\"2021-08-16T04:00:00+00:00\",\"2021-08-17T04:00:00+00:00\",\"2021-08-18T04:00:00+00:00\",\"2021-08-19T04:00:00+00:00\",\"2021-08-20T04:00:00+00:00\",\"2021-08-23T04:00:00+00:00\",\"2021-08-24T04:00:00+00:00\",\"2021-08-25T04:00:00+00:00\",\"2021-08-26T04:00:00+00:00\",\"2021-08-27T04:00:00+00:00\",\"2021-08-30T04:00:00+00:00\",\"2021-08-31T04:00:00+00:00\",\"2021-09-01T04:00:00+00:00\",\"2021-09-02T00:00:00+00:00\",\"2021-09-02T04:00:00+00:00\",\"2021-09-03T00:00:00+00:00\",\"2021-09-03T04:00:00+00:00\",\"2021-09-07T04:00:00+00:00\",\"2021-09-08T04:00:00+00:00\",\"2021-09-09T04:00:00+00:00\",\"2021-09-10T04:00:00+00:00\",\"2021-09-11T00:00:00+00:00\",\"2021-09-12T00:00:00+00:00\",\"2021-09-13T04:00:00+00:00\",\"2021-09-14T04:00:00+00:00\",\"2021-09-15T04:00:00+00:00\",\"2021-09-16T04:00:00+00:00\",\"2021-09-17T04:00:00+00:00\",\"2021-09-20T04:00:00+00:00\",\"2021-09-21T04:00:00+00:00\",\"2021-09-22T04:00:00+00:00\",\"2021-09-23T04:00:00+00:00\",\"2021-09-24T04:00:00+00:00\",\"2021-09-27T04:00:00+00:00\",\"2021-09-28T04:00:00+00:00\",\"2021-09-29T04:00:00+00:00\",\"2021-09-30T04:00:00+00:00\",\"2021-10-01T04:00:00+00:00\",\"2021-10-02T00:00:00+00:00\",\"2021-10-03T00:00:00+00:00\",\"2021-10-04T04:00:00+00:00\",\"2021-10-05T04:00:00+00:00\",\"2021-10-06T04:00:00+00:00\",\"2021-10-07T04:00:00+00:00\",\"2021-10-08T04:00:00+00:00\",\"2021-10-11T00:00:00+00:00\",\"2021-10-11T04:00:00+00:00\",\"2021-10-12T00:00:00+00:00\",\"2021-10-12T04:00:00+00:00\",\"2021-10-13T04:00:00+00:00\",\"2021-10-14T04:00:00+00:00\",\"2021-10-15T04:00:00+00:00\",\"2021-10-18T04:00:00+00:00\",\"2021-10-19T04:00:00+00:00\",\"2021-10-20T04:00:00+00:00\",\"2021-10-21T04:00:00+00:00\",\"2021-10-22T04:00:00+00:00\",\"2021-10-25T04:00:00+00:00\",\"2021-10-26T04:00:00+00:00\",\"2021-10-27T04:00:00+00:00\",\"2021-10-28T04:00:00+00:00\",\"2021-10-29T04:00:00+00:00\",\"2021-11-01T00:00:00+00:00\",\"2021-11-01T04:00:00+00:00\",\"2021-11-02T00:00:00+00:00\",\"2021-11-02T04:00:00+00:00\",\"2021-11-03T00:00:00+00:00\",\"2021-11-03T04:00:00+00:00\",\"2021-11-04T04:00:00+00:00\",\"2021-11-05T04:00:00+00:00\",\"2021-11-11T00:00:00+00:00\",\"2021-11-15T00:00:00+00:00\",\"2021-11-16T00:00:00+00:00\",\"2021-11-17T00:00:00+00:00\",\"2021-11-18T00:00:00+00:00\",\"2021-11-19T00:00:00+00:00\",\"2021-11-22T00:00:00+00:00\",\"2021-11-23T00:00:00+00:00\",\"2021-11-24T00:00:00+00:00\",\"2021-11-26T00:00:00+00:00\",\"2021-11-29T00:00:00+00:00\",\"2021-11-30T00:00:00+00:00\",\"2021-12-01T00:00:00+00:00\",\"2021-12-02T00:00:00+00:00\",\"2021-12-03T00:00:00+00:00\",\"2021-12-11T00:00:00+00:00\",\"2021-12-13T00:00:00+00:00\",\"2021-12-14T00:00:00+00:00\",\"2021-12-15T00:00:00+00:00\",\"2021-12-16T00:00:00+00:00\",\"2021-12-17T00:00:00+00:00\",\"2021-12-20T00:00:00+00:00\",\"2021-12-21T00:00:00+00:00\",\"2021-12-22T00:00:00+00:00\",\"2021-12-23T00:00:00+00:00\",\"2021-12-27T00:00:00+00:00\",\"2021-12-28T00:00:00+00:00\",\"2021-12-29T00:00:00+00:00\",\"2021-12-30T00:00:00+00:00\",\"2021-12-31T00:00:00+00:00\"],\"xaxis\":\"x\",\"y\":[45.68708088,46.84395563,51.13784616,47.36549906,46.67326971,46.01897,45.74397728,45.81035837,45.9525958,45.98103333,45.74397816,46.09483105,45.73449375,46.09482757,45.6207068,46.11380014,47.12843508,51.36282398,47.56462871,47.30860265,47.44135755,47.38446397,47.0999843,47.81117513,47.53618612,47.39394418,46.43620027,46.15172353,47.13791364,51.82255605,48.25693532,48.80194877,48.90712178,48.27606033,47.97009534,48.11351564,48.60115448,48.90712375,48.92624499,49.49037293,50.3987198,50.6090693,50.19792515,49.33786995,50.15967457,46.13276263,47.05257191,49.99713622,50.58038502,50.79073396,50.6473167,50.49433535,50.7716129,50.49433334,50.34134961,50.7907369,51.03933497,50.96284238,51.45048552,51.86162968,51.93811555,51.79469097,51.23057006,50.98197045,51.09670347,51.08714536,51.33574103,49.33787761,46.72068123,47.31808389,51.78513459,51.57477937,51.35486411,51.67995628,51.78513015,52.42575287,51.67995679,51.5174071,51.46960227,52.29189225,52.11022667,51.72776703,51.25925459,51.74689196,51.84250595,52.10066738,51.96680345,52.19628022,52.37794994,52.7795316,47.59307891,52.68391062,52.83690171,52.6839149,53.3340974,53.36278455,53.11418725,53.04725647,53.31497282,53.21936181,52.95720983,53.17722751,53.16759246,52.63774937,52.64738398,51.75145836,52.02119908,52.27167078,52.12716692,52.02119973,52.03083005,52.02120047,51.75146046,51.78035818,46.95774482,51.88633193,52.02120248,51.58769238,51.75145975,51.77073051,52.19460564,53.65169804,52.28130447,52.74371589,52.94602181,53.86120696,54.1983791,53.13869657,53.4855,54.36215105,53.99607315,54.38142168,54.48739265,54.83420209,54.55482742,54.77639827,54.8149329,47.26118903,46.92929988,54.63189338,48.5128922,54.67042551,53.95754452,54.22728834,54.3717851,54.36215347,54.58372441,54.48124711,54.63188983,53.17241011,54.65115616,54.68969652,54.94016935,54.92089714,54.35252192,53.89974054,54.50665796,54.31398523,53.8515764,53.68780169,53.47586521,53.41806881,53.6011059,53.94790997,54.2176457,47.06205544,54.34288487,48.19048143,54.18874718,53.47586433,53.57220432,53.75523522,53.48550244,54.44242506,53.39737816,53.69743731,53.91828163,53.7920994,53.20972853,52.77294544,52.15174131,52.35557565,52.47204975,52.41381079,52.27792738,51.99644094,50.88993084,51.01610969,50.88992697,51.02581818,46.96722589,48.09565322,50.86080975,51.37524428,50.96757968,52.22939686,52.31674965,54.63654739,52.42351931,53.86689634,52.62735363,52.20998035,52.7147104,52.69529352,52.27792739,52.19056732,52.52058067,52.61764533,52.4817546,52.43322765,52.63705086,53.64650743,53.98622169,54.14152567,47.36549361,54.25800332,47.22325859,54.32595062,48.18100152,54.14152568,54.38418235,54.92773454,54.90832155,54.61713429,54.53948221,54.01534286,53.52032491,53.28738035,53.46208979,53.86975127,53.41355547,52.00614933,52.34587142,51.29435075,47.185327,47.7827306,47.99877991,54.88890847,55.71560517,56.14599529,56.39053372,56.63506801,56.43943712,55.75472869,56.27314947,56.23403024,56.67419653,56.73288183,57.02633161,57.37846314,57.47627466,57.41759401],\"yaxis\":\"y\",\"type\":\"scattergl\"}],                        {\"template\":{\"data\":{\"histogram2dcontour\":[{\"type\":\"histogram2dcontour\",\"colorbar\":{\"outlinewidth\":0,\"ticks\":\"\"},\"colorscale\":[[0.0,\"#0d0887\"],[0.1111111111111111,\"#46039f\"],[0.2222222222222222,\"#7201a8\"],[0.3333333333333333,\"#9c179e\"],[0.4444444444444444,\"#bd3786\"],[0.5555555555555556,\"#d8576b\"],[0.6666666666666666,\"#ed7953\"],[0.7777777777777778,\"#fb9f3a\"],[0.8888888888888888,\"#fdca26\"],[1.0,\"#f0f921\"]]}],\"choropleth\":[{\"type\":\"choropleth\",\"colorbar\":{\"outlinewidth\":0,\"ticks\":\"\"}}],\"histogram2d\":[{\"type\":\"histogram2d\",\"colorbar\":{\"outlinewidth\":0,\"ticks\":\"\"},\"colorscale\":[[0.0,\"#0d0887\"],[0.1111111111111111,\"#46039f\"],[0.2222222222222222,\"#7201a8\"],[0.3333333333333333,\"#9c179e\"],[0.4444444444444444,\"#bd3786\"],[0.5555555555555556,\"#d8576b\"],[0.6666666666666666,\"#ed7953\"],[0.7777777777777778,\"#fb9f3a\"],[0.8888888888888888,\"#fdca26\"],[1.0,\"#f0f921\"]]}],\"heatmap\":[{\"type\":\"heatmap\",\"colorbar\":{\"outlinewidth\":0,\"ticks\":\"\"},\"colorscale\":[[0.0,\"#0d0887\"],[0.1111111111111111,\"#46039f\"],[0.2222222222222222,\"#7201a8\"],[0.3333333333333333,\"#9c179e\"],[0.4444444444444444,\"#bd3786\"],[0.5555555555555556,\"#d8576b\"],[0.6666666666666666,\"#ed7953\"],[0.7777777777777778,\"#fb9f3a\"],[0.8888888888888888,\"#fdca26\"],[1.0,\"#f0f921\"]]}],\"heatmapgl\":[{\"type\":\"heatmapgl\",\"colorbar\":{\"outlinewidth\":0,\"ticks\":\"\"},\"colorscale\":[[0.0,\"#0d0887\"],[0.1111111111111111,\"#46039f\"],[0.2222222222222222,\"#7201a8\"],[0.3333333333333333,\"#9c179e\"],[0.4444444444444444,\"#bd3786\"],[0.5555555555555556,\"#d8576b\"],[0.6666666666666666,\"#ed7953\"],[0.7777777777777778,\"#fb9f3a\"],[0.8888888888888888,\"#fdca26\"],[1.0,\"#f0f921\"]]}],\"contourcarpet\":[{\"type\":\"contourcarpet\",\"colorbar\":{\"outlinewidth\":0,\"ticks\":\"\"}}],\"contour\":[{\"type\":\"contour\",\"colorbar\":{\"outlinewidth\":0,\"ticks\":\"\"},\"colorscale\":[[0.0,\"#0d0887\"],[0.1111111111111111,\"#46039f\"],[0.2222222222222222,\"#7201a8\"],[0.3333333333333333,\"#9c179e\"],[0.4444444444444444,\"#bd3786\"],[0.5555555555555556,\"#d8576b\"],[0.6666666666666666,\"#ed7953\"],[0.7777777777777778,\"#fb9f3a\"],[0.8888888888888888,\"#fdca26\"],[1.0,\"#f0f921\"]]}],\"surface\":[{\"type\":\"surface\",\"colorbar\":{\"outlinewidth\":0,\"ticks\":\"\"},\"colorscale\":[[0.0,\"#0d0887\"],[0.1111111111111111,\"#46039f\"],[0.2222222222222222,\"#7201a8\"],[0.3333333333333333,\"#9c179e\"],[0.4444444444444444,\"#bd3786\"],[0.5555555555555556,\"#d8576b\"],[0.6666666666666666,\"#ed7953\"],[0.7777777777777778,\"#fb9f3a\"],[0.8888888888888888,\"#fdca26\"],[1.0,\"#f0f921\"]]}],\"mesh3d\":[{\"type\":\"mesh3d\",\"colorbar\":{\"outlinewidth\":0,\"ticks\":\"\"}}],\"scatter\":[{\"fillpattern\":{\"fillmode\":\"overlay\",\"size\":10,\"solidity\":0.2},\"type\":\"scatter\"}],\"parcoords\":[{\"type\":\"parcoords\",\"line\":{\"colorbar\":{\"outlinewidth\":0,\"ticks\":\"\"}}}],\"scatterpolargl\":[{\"type\":\"scatterpolargl\",\"marker\":{\"colorbar\":{\"outlinewidth\":0,\"ticks\":\"\"}}}],\"bar\":[{\"error_x\":{\"color\":\"#2a3f5f\"},\"error_y\":{\"color\":\"#2a3f5f\"},\"marker\":{\"line\":{\"color\":\"#E5ECF6\",\"width\":0.5},\"pattern\":{\"fillmode\":\"overlay\",\"size\":10,\"solidity\":0.2}},\"type\":\"bar\"}],\"scattergeo\":[{\"type\":\"scattergeo\",\"marker\":{\"colorbar\":{\"outlinewidth\":0,\"ticks\":\"\"}}}],\"scatterpolar\":[{\"type\":\"scatterpolar\",\"marker\":{\"colorbar\":{\"outlinewidth\":0,\"ticks\":\"\"}}}],\"histogram\":[{\"marker\":{\"pattern\":{\"fillmode\":\"overlay\",\"size\":10,\"solidity\":0.2}},\"type\":\"histogram\"}],\"scattergl\":[{\"type\":\"scattergl\",\"marker\":{\"colorbar\":{\"outlinewidth\":0,\"ticks\":\"\"}}}],\"scatter3d\":[{\"type\":\"scatter3d\",\"line\":{\"colorbar\":{\"outlinewidth\":0,\"ticks\":\"\"}},\"marker\":{\"colorbar\":{\"outlinewidth\":0,\"ticks\":\"\"}}}],\"scattermapbox\":[{\"type\":\"scattermapbox\",\"marker\":{\"colorbar\":{\"outlinewidth\":0,\"ticks\":\"\"}}}],\"scatterternary\":[{\"type\":\"scatterternary\",\"marker\":{\"colorbar\":{\"outlinewidth\":0,\"ticks\":\"\"}}}],\"scattercarpet\":[{\"type\":\"scattercarpet\",\"marker\":{\"colorbar\":{\"outlinewidth\":0,\"ticks\":\"\"}}}],\"carpet\":[{\"aaxis\":{\"endlinecolor\":\"#2a3f5f\",\"gridcolor\":\"white\",\"linecolor\":\"white\",\"minorgridcolor\":\"white\",\"startlinecolor\":\"#2a3f5f\"},\"baxis\":{\"endlinecolor\":\"#2a3f5f\",\"gridcolor\":\"white\",\"linecolor\":\"white\",\"minorgridcolor\":\"white\",\"startlinecolor\":\"#2a3f5f\"},\"type\":\"carpet\"}],\"table\":[{\"cells\":{\"fill\":{\"color\":\"#EBF0F8\"},\"line\":{\"color\":\"white\"}},\"header\":{\"fill\":{\"color\":\"#C8D4E3\"},\"line\":{\"color\":\"white\"}},\"type\":\"table\"}],\"barpolar\":[{\"marker\":{\"line\":{\"color\":\"#E5ECF6\",\"width\":0.5},\"pattern\":{\"fillmode\":\"overlay\",\"size\":10,\"solidity\":0.2}},\"type\":\"barpolar\"}],\"pie\":[{\"automargin\":true,\"type\":\"pie\"}]},\"layout\":{\"autotypenumbers\":\"strict\",\"colorway\":[\"#636efa\",\"#EF553B\",\"#00cc96\",\"#ab63fa\",\"#FFA15A\",\"#19d3f3\",\"#FF6692\",\"#B6E880\",\"#FF97FF\",\"#FECB52\"],\"font\":{\"color\":\"#2a3f5f\"},\"hovermode\":\"closest\",\"hoverlabel\":{\"align\":\"left\"},\"paper_bgcolor\":\"white\",\"plot_bgcolor\":\"#E5ECF6\",\"polar\":{\"bgcolor\":\"#E5ECF6\",\"angularaxis\":{\"gridcolor\":\"white\",\"linecolor\":\"white\",\"ticks\":\"\"},\"radialaxis\":{\"gridcolor\":\"white\",\"linecolor\":\"white\",\"ticks\":\"\"}},\"ternary\":{\"bgcolor\":\"#E5ECF6\",\"aaxis\":{\"gridcolor\":\"white\",\"linecolor\":\"white\",\"ticks\":\"\"},\"baxis\":{\"gridcolor\":\"white\",\"linecolor\":\"white\",\"ticks\":\"\"},\"caxis\":{\"gridcolor\":\"white\",\"linecolor\":\"white\",\"ticks\":\"\"}},\"coloraxis\":{\"colorbar\":{\"outlinewidth\":0,\"ticks\":\"\"}},\"colorscale\":{\"sequential\":[[0.0,\"#0d0887\"],[0.1111111111111111,\"#46039f\"],[0.2222222222222222,\"#7201a8\"],[0.3333333333333333,\"#9c179e\"],[0.4444444444444444,\"#bd3786\"],[0.5555555555555556,\"#d8576b\"],[0.6666666666666666,\"#ed7953\"],[0.7777777777777778,\"#fb9f3a\"],[0.8888888888888888,\"#fdca26\"],[1.0,\"#f0f921\"]],\"sequentialminus\":[[0.0,\"#0d0887\"],[0.1111111111111111,\"#46039f\"],[0.2222222222222222,\"#7201a8\"],[0.3333333333333333,\"#9c179e\"],[0.4444444444444444,\"#bd3786\"],[0.5555555555555556,\"#d8576b\"],[0.6666666666666666,\"#ed7953\"],[0.7777777777777778,\"#fb9f3a\"],[0.8888888888888888,\"#fdca26\"],[1.0,\"#f0f921\"]],\"diverging\":[[0,\"#8e0152\"],[0.1,\"#c51b7d\"],[0.2,\"#de77ae\"],[0.3,\"#f1b6da\"],[0.4,\"#fde0ef\"],[0.5,\"#f7f7f7\"],[0.6,\"#e6f5d0\"],[0.7,\"#b8e186\"],[0.8,\"#7fbc41\"],[0.9,\"#4d9221\"],[1,\"#276419\"]]},\"xaxis\":{\"gridcolor\":\"white\",\"linecolor\":\"white\",\"ticks\":\"\",\"title\":{\"standoff\":15},\"zerolinecolor\":\"white\",\"automargin\":true,\"zerolinewidth\":2},\"yaxis\":{\"gridcolor\":\"white\",\"linecolor\":\"white\",\"ticks\":\"\",\"title\":{\"standoff\":15},\"zerolinecolor\":\"white\",\"automargin\":true,\"zerolinewidth\":2},\"scene\":{\"xaxis\":{\"backgroundcolor\":\"#E5ECF6\",\"gridcolor\":\"white\",\"linecolor\":\"white\",\"showbackground\":true,\"ticks\":\"\",\"zerolinecolor\":\"white\",\"gridwidth\":2},\"yaxis\":{\"backgroundcolor\":\"#E5ECF6\",\"gridcolor\":\"white\",\"linecolor\":\"white\",\"showbackground\":true,\"ticks\":\"\",\"zerolinecolor\":\"white\",\"gridwidth\":2},\"zaxis\":{\"backgroundcolor\":\"#E5ECF6\",\"gridcolor\":\"white\",\"linecolor\":\"white\",\"showbackground\":true,\"ticks\":\"\",\"zerolinecolor\":\"white\",\"gridwidth\":2}},\"shapedefaults\":{\"line\":{\"color\":\"#2a3f5f\"}},\"annotationdefaults\":{\"arrowcolor\":\"#2a3f5f\",\"arrowhead\":0,\"arrowwidth\":1},\"geo\":{\"bgcolor\":\"white\",\"landcolor\":\"#E5ECF6\",\"subunitcolor\":\"white\",\"showland\":true,\"showlakes\":true,\"lakecolor\":\"white\"},\"title\":{\"x\":0.05},\"mapbox\":{\"style\":\"light\"}}},\"xaxis\":{\"anchor\":\"y\",\"domain\":[0.0,1.0],\"title\":{\"text\":\"Date\"},\"showgrid\":false},\"yaxis\":{\"anchor\":\"x\",\"domain\":[0.0,1.0],\"title\":{\"text\":\"Stock value\"},\"showgrid\":false},\"legend\":{\"title\":{\"text\":\"Stock Parameters\"},\"tracegroupgap\":0},\"margin\":{\"t\":60},\"title\":{\"text\":\"Stock analysis chart\"},\"font\":{\"size\":15,\"color\":\"black\"}},                        {\"responsive\": true}                    ).then(function(){\n",
       "                            \n",
       "var gd = document.getElementById('1fa9e65c-f28b-43f8-8dd1-9d6b2b01a6c2');\n",
       "var x = new MutationObserver(function (mutations, observer) {{\n",
       "        var display = window.getComputedStyle(gd).display;\n",
       "        if (!display || display === 'none') {{\n",
       "            console.log([gd, 'removed!']);\n",
       "            Plotly.purge(gd);\n",
       "            observer.disconnect();\n",
       "        }}\n",
       "}});\n",
       "\n",
       "// Listen for the removal of the full notebook cells\n",
       "var notebookContainer = gd.closest('#notebook-container');\n",
       "if (notebookContainer) {{\n",
       "    x.observe(notebookContainer, {childList: true});\n",
       "}}\n",
       "\n",
       "// Listen for the clearing of the current output cell\n",
       "var outputEl = gd.closest('.output');\n",
       "if (outputEl) {{\n",
       "    x.observe(outputEl, {childList: true});\n",
       "}}\n",
       "\n",
       "                        })                };                });            </script>        </div>"
      ]
     },
     "metadata": {},
     "output_type": "display_data"
    }
   ],
   "source": [
    "# Sort the DataFrame by 'Date'\n",
    "y_2021.sort_values(by='Date', inplace=True)\n",
    "\n",
    "names = cycle(['Stock Open Price', 'Stock Close Price', 'Stock High Price', 'Stock Low Price'])\n",
    "\n",
    "fig = px.line(y_2021, x='Date', y=['Open', 'Close', 'High', 'Low'],\n",
    "              labels={'Date': 'Date', 'value': 'Stock value'})\n",
    "fig.update_layout(title_text='Stock analysis chart', font_size=15, font_color='black', legend_title_text='Stock Parameters')\n",
    "fig.for_each_trace(lambda t: t.update(name=next(names)))\n",
    "fig.update_xaxes(showgrid=False)\n",
    "fig.update_yaxes(showgrid=False)\n",
    "\n",
    "fig.show()"
   ]
  },
  {
   "cell_type": "code",
   "execution_count": 169,
   "id": "2d6f05ef",
   "metadata": {},
   "outputs": [],
   "source": [
    "from sklearn.model_selection import train_test_split\n",
    "from sklearn.preprocessing import StandardScaler"
   ]
  },
  {
   "cell_type": "code",
   "execution_count": 170,
   "id": "2fac07cf",
   "metadata": {},
   "outputs": [
    {
     "ename": "ValueError",
     "evalue": "Found input variables with inconsistent numbers of samples: [731340, 12189]",
     "output_type": "error",
     "traceback": [
      "\u001b[1;31m---------------------------------------------------------------------------\u001b[0m",
      "\u001b[1;31mValueError\u001b[0m                                Traceback (most recent call last)",
      "Cell \u001b[1;32mIn[170], line 11\u001b[0m\n\u001b[0;32m      9\u001b[0m \u001b[38;5;28;01mfrom\u001b[39;00m \u001b[38;5;21;01msklearn\u001b[39;00m\u001b[38;5;21;01m.\u001b[39;00m\u001b[38;5;21;01mneighbors\u001b[39;00m \u001b[38;5;28;01mimport\u001b[39;00m KNeighborsRegressor\n\u001b[0;32m     10\u001b[0m knn\u001b[38;5;241m=\u001b[39m KNeighborsRegressor()\n\u001b[1;32m---> 11\u001b[0m knn\u001b[38;5;241m.\u001b[39mfit(scaled_train,y_train)\n\u001b[0;32m     12\u001b[0m \u001b[38;5;28mprint\u001b[39m(knn\u001b[38;5;241m.\u001b[39mscore(scaled_test,y_test))\n\u001b[0;32m     14\u001b[0m \u001b[38;5;28;01mfrom\u001b[39;00m \u001b[38;5;21;01msklearn\u001b[39;00m\u001b[38;5;21;01m.\u001b[39;00m\u001b[38;5;21;01mensemble\u001b[39;00m \u001b[38;5;28;01mimport\u001b[39;00m RandomForestRegressor\n",
      "File \u001b[1;32mC:\\ProgramData\\anaconda3\\Lib\\site-packages\\sklearn\\neighbors\\_regression.py:217\u001b[0m, in \u001b[0;36mKNeighborsRegressor.fit\u001b[1;34m(self, X, y)\u001b[0m\n\u001b[0;32m    198\u001b[0m \u001b[38;5;250m\u001b[39m\u001b[38;5;124;03m\"\"\"Fit the k-nearest neighbors regressor from the training dataset.\u001b[39;00m\n\u001b[0;32m    199\u001b[0m \n\u001b[0;32m    200\u001b[0m \u001b[38;5;124;03mParameters\u001b[39;00m\n\u001b[1;32m   (...)\u001b[0m\n\u001b[0;32m    213\u001b[0m \u001b[38;5;124;03m    The fitted k-nearest neighbors regressor.\u001b[39;00m\n\u001b[0;32m    214\u001b[0m \u001b[38;5;124;03m\"\"\"\u001b[39;00m\n\u001b[0;32m    215\u001b[0m \u001b[38;5;28mself\u001b[39m\u001b[38;5;241m.\u001b[39m_validate_params()\n\u001b[1;32m--> 217\u001b[0m \u001b[38;5;28;01mreturn\u001b[39;00m \u001b[38;5;28mself\u001b[39m\u001b[38;5;241m.\u001b[39m_fit(X, y)\n",
      "File \u001b[1;32mC:\\ProgramData\\anaconda3\\Lib\\site-packages\\sklearn\\neighbors\\_base.py:454\u001b[0m, in \u001b[0;36mNeighborsBase._fit\u001b[1;34m(self, X, y)\u001b[0m\n\u001b[0;32m    452\u001b[0m \u001b[38;5;28;01mif\u001b[39;00m \u001b[38;5;28mself\u001b[39m\u001b[38;5;241m.\u001b[39m_get_tags()[\u001b[38;5;124m\"\u001b[39m\u001b[38;5;124mrequires_y\u001b[39m\u001b[38;5;124m\"\u001b[39m]:\n\u001b[0;32m    453\u001b[0m     \u001b[38;5;28;01mif\u001b[39;00m \u001b[38;5;129;01mnot\u001b[39;00m \u001b[38;5;28misinstance\u001b[39m(X, (KDTree, BallTree, NeighborsBase)):\n\u001b[1;32m--> 454\u001b[0m         X, y \u001b[38;5;241m=\u001b[39m \u001b[38;5;28mself\u001b[39m\u001b[38;5;241m.\u001b[39m_validate_data(\n\u001b[0;32m    455\u001b[0m             X, y, accept_sparse\u001b[38;5;241m=\u001b[39m\u001b[38;5;124m\"\u001b[39m\u001b[38;5;124mcsr\u001b[39m\u001b[38;5;124m\"\u001b[39m, multi_output\u001b[38;5;241m=\u001b[39m\u001b[38;5;28;01mTrue\u001b[39;00m, order\u001b[38;5;241m=\u001b[39m\u001b[38;5;124m\"\u001b[39m\u001b[38;5;124mC\u001b[39m\u001b[38;5;124m\"\u001b[39m\n\u001b[0;32m    456\u001b[0m         )\n\u001b[0;32m    458\u001b[0m     \u001b[38;5;28;01mif\u001b[39;00m is_classifier(\u001b[38;5;28mself\u001b[39m):\n\u001b[0;32m    459\u001b[0m         \u001b[38;5;66;03m# Classification targets require a specific format\u001b[39;00m\n\u001b[0;32m    460\u001b[0m         \u001b[38;5;28;01mif\u001b[39;00m y\u001b[38;5;241m.\u001b[39mndim \u001b[38;5;241m==\u001b[39m \u001b[38;5;241m1\u001b[39m \u001b[38;5;129;01mor\u001b[39;00m y\u001b[38;5;241m.\u001b[39mndim \u001b[38;5;241m==\u001b[39m \u001b[38;5;241m2\u001b[39m \u001b[38;5;129;01mand\u001b[39;00m y\u001b[38;5;241m.\u001b[39mshape[\u001b[38;5;241m1\u001b[39m] \u001b[38;5;241m==\u001b[39m \u001b[38;5;241m1\u001b[39m:\n",
      "File \u001b[1;32mC:\\ProgramData\\anaconda3\\Lib\\site-packages\\sklearn\\base.py:584\u001b[0m, in \u001b[0;36mBaseEstimator._validate_data\u001b[1;34m(self, X, y, reset, validate_separately, **check_params)\u001b[0m\n\u001b[0;32m    582\u001b[0m         y \u001b[38;5;241m=\u001b[39m check_array(y, input_name\u001b[38;5;241m=\u001b[39m\u001b[38;5;124m\"\u001b[39m\u001b[38;5;124my\u001b[39m\u001b[38;5;124m\"\u001b[39m, \u001b[38;5;241m*\u001b[39m\u001b[38;5;241m*\u001b[39mcheck_y_params)\n\u001b[0;32m    583\u001b[0m     \u001b[38;5;28;01melse\u001b[39;00m:\n\u001b[1;32m--> 584\u001b[0m         X, y \u001b[38;5;241m=\u001b[39m check_X_y(X, y, \u001b[38;5;241m*\u001b[39m\u001b[38;5;241m*\u001b[39mcheck_params)\n\u001b[0;32m    585\u001b[0m     out \u001b[38;5;241m=\u001b[39m X, y\n\u001b[0;32m    587\u001b[0m \u001b[38;5;28;01mif\u001b[39;00m \u001b[38;5;129;01mnot\u001b[39;00m no_val_X \u001b[38;5;129;01mand\u001b[39;00m check_params\u001b[38;5;241m.\u001b[39mget(\u001b[38;5;124m\"\u001b[39m\u001b[38;5;124mensure_2d\u001b[39m\u001b[38;5;124m\"\u001b[39m, \u001b[38;5;28;01mTrue\u001b[39;00m):\n",
      "File \u001b[1;32mC:\\ProgramData\\anaconda3\\Lib\\site-packages\\sklearn\\utils\\validation.py:1124\u001b[0m, in \u001b[0;36mcheck_X_y\u001b[1;34m(X, y, accept_sparse, accept_large_sparse, dtype, order, copy, force_all_finite, ensure_2d, allow_nd, multi_output, ensure_min_samples, ensure_min_features, y_numeric, estimator)\u001b[0m\n\u001b[0;32m   1106\u001b[0m X \u001b[38;5;241m=\u001b[39m check_array(\n\u001b[0;32m   1107\u001b[0m     X,\n\u001b[0;32m   1108\u001b[0m     accept_sparse\u001b[38;5;241m=\u001b[39maccept_sparse,\n\u001b[1;32m   (...)\u001b[0m\n\u001b[0;32m   1119\u001b[0m     input_name\u001b[38;5;241m=\u001b[39m\u001b[38;5;124m\"\u001b[39m\u001b[38;5;124mX\u001b[39m\u001b[38;5;124m\"\u001b[39m,\n\u001b[0;32m   1120\u001b[0m )\n\u001b[0;32m   1122\u001b[0m y \u001b[38;5;241m=\u001b[39m _check_y(y, multi_output\u001b[38;5;241m=\u001b[39mmulti_output, y_numeric\u001b[38;5;241m=\u001b[39my_numeric, estimator\u001b[38;5;241m=\u001b[39mestimator)\n\u001b[1;32m-> 1124\u001b[0m check_consistent_length(X, y)\n\u001b[0;32m   1126\u001b[0m \u001b[38;5;28;01mreturn\u001b[39;00m X, y\n",
      "File \u001b[1;32mC:\\ProgramData\\anaconda3\\Lib\\site-packages\\sklearn\\utils\\validation.py:397\u001b[0m, in \u001b[0;36mcheck_consistent_length\u001b[1;34m(*arrays)\u001b[0m\n\u001b[0;32m    395\u001b[0m uniques \u001b[38;5;241m=\u001b[39m np\u001b[38;5;241m.\u001b[39munique(lengths)\n\u001b[0;32m    396\u001b[0m \u001b[38;5;28;01mif\u001b[39;00m \u001b[38;5;28mlen\u001b[39m(uniques) \u001b[38;5;241m>\u001b[39m \u001b[38;5;241m1\u001b[39m:\n\u001b[1;32m--> 397\u001b[0m     \u001b[38;5;28;01mraise\u001b[39;00m \u001b[38;5;167;01mValueError\u001b[39;00m(\n\u001b[0;32m    398\u001b[0m         \u001b[38;5;124m\"\u001b[39m\u001b[38;5;124mFound input variables with inconsistent numbers of samples: \u001b[39m\u001b[38;5;132;01m%r\u001b[39;00m\u001b[38;5;124m\"\u001b[39m\n\u001b[0;32m    399\u001b[0m         \u001b[38;5;241m%\u001b[39m [\u001b[38;5;28mint\u001b[39m(l) \u001b[38;5;28;01mfor\u001b[39;00m l \u001b[38;5;129;01min\u001b[39;00m lengths]\n\u001b[0;32m    400\u001b[0m     )\n",
      "\u001b[1;31mValueError\u001b[0m: Found input variables with inconsistent numbers of samples: [731340, 12189]"
     ]
    }
   ],
   "source": [
    "ss= StandardScaler()\n",
    "\n",
    "# Fit and transform the training data\n",
    "scaled_train = ss.fit_transform(x_train.reshape(-1, x_train.shape[-1]))\n",
    "\n",
    "# Transform the test data using the same scaler\n",
    "scaled_test = ss.transform(X_test.reshape(-1, x_test.shape[-1]))\n",
    "\n",
    "from sklearn.neighbors import KNeighborsRegressor\n",
    "knn= KNeighborsRegressor()\n",
    "knn.fit(scaled_train,y_train)\n",
    "print(knn.score(scaled_test,y_test))\n",
    "\n",
    "from sklearn.ensemble import RandomForestRegressor\n",
    "rf = RandomForestRegressor()\n",
    "rf.fit(scaled_train, y_train)\n",
    "print(rf.score(scaled_test,y_test))\n",
    "\n",
    "from sklearn.tree import DecisionTreeRegressor\n",
    "dtc = DecisionTreeRegressor()\n",
    "dtc.fit(scaled_train,y_train)\n",
    "print(dtc.score(scaled_test, y_test))\n",
    "\n",
    "from lightgbm import LGBMRegressor\n",
    "lgbmr= LGBMRegressor()\n",
    "evals = [(scaled_test, y_test)]\n",
    "lgbmr.fit(scaled_train, y_train)\n",
    "lgbmr.score(scaled_test,y_test)\n",
    "from lightgbm import LGBMRegressor\n",
    "lgbmr= LGBMRegressor()\n",
    "evals = [(scaled_test, y_test)]\n",
    "lgbmr.fit(scaled_train, y_train,early_stopping_rounds=100, eval_metric='logloss', verbose=True, eval_set=evals)"
   ]
  },
  {
   "cell_type": "code",
   "execution_count": 171,
   "id": "7d815dde",
   "metadata": {},
   "outputs": [
    {
     "name": "stdout",
     "output_type": "stream",
     "text": [
      "Requirement already satisfied: lightgbm[pandas] in c:\\programdata\\anaconda3\\lib\\site-packages (4.0.0)\n",
      "Requirement already satisfied: numpy in c:\\programdata\\anaconda3\\lib\\site-packages (from lightgbm[pandas]) (1.24.3)\n",
      "Requirement already satisfied: scipy in c:\\programdata\\anaconda3\\lib\\site-packages (from lightgbm[pandas]) (1.10.1)\n",
      "Requirement already satisfied: pandas>=0.24.0 in c:\\programdata\\anaconda3\\lib\\site-packages (from lightgbm[pandas]) (1.5.3)\n",
      "Requirement already satisfied: python-dateutil>=2.8.1 in c:\\programdata\\anaconda3\\lib\\site-packages (from pandas>=0.24.0->lightgbm[pandas]) (2.8.2)\n",
      "Requirement already satisfied: pytz>=2020.1 in c:\\programdata\\anaconda3\\lib\\site-packages (from pandas>=0.24.0->lightgbm[pandas]) (2022.7)\n",
      "Requirement already satisfied: six>=1.5 in c:\\programdata\\anaconda3\\lib\\site-packages (from python-dateutil>=2.8.1->pandas>=0.24.0->lightgbm[pandas]) (1.16.0)\n",
      "Requirement already satisfied: lightgbm[scikit-learn] in c:\\programdata\\anaconda3\\lib\\site-packages (4.0.0)\n",
      "Requirement already satisfied: numpy in c:\\programdata\\anaconda3\\lib\\site-packages (from lightgbm[scikit-learn]) (1.24.3)\n",
      "Requirement already satisfied: scipy in c:\\programdata\\anaconda3\\lib\\site-packages (from lightgbm[scikit-learn]) (1.10.1)\n",
      "Requirement already satisfied: scikit-learn!=0.22.0 in c:\\programdata\\anaconda3\\lib\\site-packages (from lightgbm[scikit-learn]) (1.2.2)\n",
      "Requirement already satisfied: joblib>=1.1.1 in c:\\programdata\\anaconda3\\lib\\site-packages (from scikit-learn!=0.22.0->lightgbm[scikit-learn]) (1.2.0)\n",
      "Requirement already satisfied: threadpoolctl>=2.0.0 in c:\\programdata\\anaconda3\\lib\\site-packages (from scikit-learn!=0.22.0->lightgbm[scikit-learn]) (2.2.0)\n"
     ]
    },
    {
     "ename": "ValueError",
     "evalue": "Found input variables with inconsistent numbers of samples: [731340, 12189]",
     "output_type": "error",
     "traceback": [
      "\u001b[1;31m---------------------------------------------------------------------------\u001b[0m",
      "\u001b[1;31mValueError\u001b[0m                                Traceback (most recent call last)",
      "Cell \u001b[1;32mIn[171], line 7\u001b[0m\n\u001b[0;32m      5\u001b[0m lgbmr\u001b[38;5;241m=\u001b[39m LGBMRegressor()\n\u001b[0;32m      6\u001b[0m evals \u001b[38;5;241m=\u001b[39m [(scaled_test, y_test)]\n\u001b[1;32m----> 7\u001b[0m lgbmr\u001b[38;5;241m.\u001b[39mfit(scaled_train, y_train)\n\u001b[0;32m      8\u001b[0m lgbmr\u001b[38;5;241m.\u001b[39mscore(scaled_test,y_test)\n\u001b[0;32m      9\u001b[0m \u001b[38;5;28;01mfrom\u001b[39;00m \u001b[38;5;21;01mlightgbm\u001b[39;00m \u001b[38;5;28;01mimport\u001b[39;00m LGBMRegressor\n",
      "File \u001b[1;32mC:\\ProgramData\\anaconda3\\Lib\\site-packages\\lightgbm\\sklearn.py:1049\u001b[0m, in \u001b[0;36mLGBMRegressor.fit\u001b[1;34m(self, X, y, sample_weight, init_score, eval_set, eval_names, eval_sample_weight, eval_init_score, eval_metric, feature_name, categorical_feature, callbacks, init_model)\u001b[0m\n\u001b[0;32m   1032\u001b[0m \u001b[38;5;28;01mdef\u001b[39;00m \u001b[38;5;21mfit\u001b[39m(  \u001b[38;5;66;03m# type: ignore[override]\u001b[39;00m\n\u001b[0;32m   1033\u001b[0m     \u001b[38;5;28mself\u001b[39m,\n\u001b[0;32m   1034\u001b[0m     X: _LGBM_ScikitMatrixLike,\n\u001b[1;32m   (...)\u001b[0m\n\u001b[0;32m   1046\u001b[0m     init_model: Optional[Union[\u001b[38;5;28mstr\u001b[39m, Path, Booster, LGBMModel]] \u001b[38;5;241m=\u001b[39m \u001b[38;5;28;01mNone\u001b[39;00m\n\u001b[0;32m   1047\u001b[0m ) \u001b[38;5;241m-\u001b[39m\u001b[38;5;241m>\u001b[39m \u001b[38;5;124m\"\u001b[39m\u001b[38;5;124mLGBMRegressor\u001b[39m\u001b[38;5;124m\"\u001b[39m:\n\u001b[0;32m   1048\u001b[0m \u001b[38;5;250m    \u001b[39m\u001b[38;5;124;03m\"\"\"Docstring is inherited from the LGBMModel.\"\"\"\u001b[39;00m\n\u001b[1;32m-> 1049\u001b[0m     \u001b[38;5;28msuper\u001b[39m()\u001b[38;5;241m.\u001b[39mfit(\n\u001b[0;32m   1050\u001b[0m         X,\n\u001b[0;32m   1051\u001b[0m         y,\n\u001b[0;32m   1052\u001b[0m         sample_weight\u001b[38;5;241m=\u001b[39msample_weight,\n\u001b[0;32m   1053\u001b[0m         init_score\u001b[38;5;241m=\u001b[39minit_score,\n\u001b[0;32m   1054\u001b[0m         eval_set\u001b[38;5;241m=\u001b[39meval_set,\n\u001b[0;32m   1055\u001b[0m         eval_names\u001b[38;5;241m=\u001b[39meval_names,\n\u001b[0;32m   1056\u001b[0m         eval_sample_weight\u001b[38;5;241m=\u001b[39meval_sample_weight,\n\u001b[0;32m   1057\u001b[0m         eval_init_score\u001b[38;5;241m=\u001b[39meval_init_score,\n\u001b[0;32m   1058\u001b[0m         eval_metric\u001b[38;5;241m=\u001b[39meval_metric,\n\u001b[0;32m   1059\u001b[0m         feature_name\u001b[38;5;241m=\u001b[39mfeature_name,\n\u001b[0;32m   1060\u001b[0m         categorical_feature\u001b[38;5;241m=\u001b[39mcategorical_feature,\n\u001b[0;32m   1061\u001b[0m         callbacks\u001b[38;5;241m=\u001b[39mcallbacks,\n\u001b[0;32m   1062\u001b[0m         init_model\u001b[38;5;241m=\u001b[39minit_model\n\u001b[0;32m   1063\u001b[0m     )\n\u001b[0;32m   1064\u001b[0m     \u001b[38;5;28;01mreturn\u001b[39;00m \u001b[38;5;28mself\u001b[39m\n",
      "File \u001b[1;32mC:\\ProgramData\\anaconda3\\Lib\\site-packages\\lightgbm\\sklearn.py:770\u001b[0m, in \u001b[0;36mLGBMModel.fit\u001b[1;34m(self, X, y, sample_weight, init_score, group, eval_set, eval_names, eval_sample_weight, eval_class_weight, eval_init_score, eval_group, eval_metric, feature_name, categorical_feature, callbacks, init_model)\u001b[0m\n\u001b[0;32m    767\u001b[0m params[\u001b[38;5;124m'\u001b[39m\u001b[38;5;124mmetric\u001b[39m\u001b[38;5;124m'\u001b[39m] \u001b[38;5;241m=\u001b[39m [metric \u001b[38;5;28;01mfor\u001b[39;00m metric \u001b[38;5;129;01min\u001b[39;00m params[\u001b[38;5;124m'\u001b[39m\u001b[38;5;124mmetric\u001b[39m\u001b[38;5;124m'\u001b[39m] \u001b[38;5;28;01mif\u001b[39;00m metric \u001b[38;5;129;01mis\u001b[39;00m \u001b[38;5;129;01mnot\u001b[39;00m \u001b[38;5;28;01mNone\u001b[39;00m]\n\u001b[0;32m    769\u001b[0m \u001b[38;5;28;01mif\u001b[39;00m \u001b[38;5;129;01mnot\u001b[39;00m \u001b[38;5;28misinstance\u001b[39m(X, (pd_DataFrame, dt_DataTable)):\n\u001b[1;32m--> 770\u001b[0m     _X, _y \u001b[38;5;241m=\u001b[39m _LGBMCheckXY(X, y, accept_sparse\u001b[38;5;241m=\u001b[39m\u001b[38;5;28;01mTrue\u001b[39;00m, force_all_finite\u001b[38;5;241m=\u001b[39m\u001b[38;5;28;01mFalse\u001b[39;00m, ensure_min_samples\u001b[38;5;241m=\u001b[39m\u001b[38;5;241m2\u001b[39m)\n\u001b[0;32m    771\u001b[0m     \u001b[38;5;28;01mif\u001b[39;00m sample_weight \u001b[38;5;129;01mis\u001b[39;00m \u001b[38;5;129;01mnot\u001b[39;00m \u001b[38;5;28;01mNone\u001b[39;00m:\n\u001b[0;32m    772\u001b[0m         sample_weight \u001b[38;5;241m=\u001b[39m _LGBMCheckSampleWeight(sample_weight, _X)\n",
      "File \u001b[1;32mC:\\ProgramData\\anaconda3\\Lib\\site-packages\\sklearn\\utils\\validation.py:1124\u001b[0m, in \u001b[0;36mcheck_X_y\u001b[1;34m(X, y, accept_sparse, accept_large_sparse, dtype, order, copy, force_all_finite, ensure_2d, allow_nd, multi_output, ensure_min_samples, ensure_min_features, y_numeric, estimator)\u001b[0m\n\u001b[0;32m   1106\u001b[0m X \u001b[38;5;241m=\u001b[39m check_array(\n\u001b[0;32m   1107\u001b[0m     X,\n\u001b[0;32m   1108\u001b[0m     accept_sparse\u001b[38;5;241m=\u001b[39maccept_sparse,\n\u001b[1;32m   (...)\u001b[0m\n\u001b[0;32m   1119\u001b[0m     input_name\u001b[38;5;241m=\u001b[39m\u001b[38;5;124m\"\u001b[39m\u001b[38;5;124mX\u001b[39m\u001b[38;5;124m\"\u001b[39m,\n\u001b[0;32m   1120\u001b[0m )\n\u001b[0;32m   1122\u001b[0m y \u001b[38;5;241m=\u001b[39m _check_y(y, multi_output\u001b[38;5;241m=\u001b[39mmulti_output, y_numeric\u001b[38;5;241m=\u001b[39my_numeric, estimator\u001b[38;5;241m=\u001b[39mestimator)\n\u001b[1;32m-> 1124\u001b[0m check_consistent_length(X, y)\n\u001b[0;32m   1126\u001b[0m \u001b[38;5;28;01mreturn\u001b[39;00m X, y\n",
      "File \u001b[1;32mC:\\ProgramData\\anaconda3\\Lib\\site-packages\\sklearn\\utils\\validation.py:397\u001b[0m, in \u001b[0;36mcheck_consistent_length\u001b[1;34m(*arrays)\u001b[0m\n\u001b[0;32m    395\u001b[0m uniques \u001b[38;5;241m=\u001b[39m np\u001b[38;5;241m.\u001b[39munique(lengths)\n\u001b[0;32m    396\u001b[0m \u001b[38;5;28;01mif\u001b[39;00m \u001b[38;5;28mlen\u001b[39m(uniques) \u001b[38;5;241m>\u001b[39m \u001b[38;5;241m1\u001b[39m:\n\u001b[1;32m--> 397\u001b[0m     \u001b[38;5;28;01mraise\u001b[39;00m \u001b[38;5;167;01mValueError\u001b[39;00m(\n\u001b[0;32m    398\u001b[0m         \u001b[38;5;124m\"\u001b[39m\u001b[38;5;124mFound input variables with inconsistent numbers of samples: \u001b[39m\u001b[38;5;132;01m%r\u001b[39;00m\u001b[38;5;124m\"\u001b[39m\n\u001b[0;32m    399\u001b[0m         \u001b[38;5;241m%\u001b[39m [\u001b[38;5;28mint\u001b[39m(l) \u001b[38;5;28;01mfor\u001b[39;00m l \u001b[38;5;129;01min\u001b[39;00m lengths]\n\u001b[0;32m    400\u001b[0m     )\n",
      "\u001b[1;31mValueError\u001b[0m: Found input variables with inconsistent numbers of samples: [731340, 12189]"
     ]
    }
   ],
   "source": [
    "!pip install lightgbm[pandas]\n",
    "!pip install lightgbm[scikit-learn]\n",
    "\n",
    "from lightgbm import LGBMRegressor\n",
    "lgbmr= LGBMRegressor()\n",
    "evals = [(scaled_test, y_test)]\n",
    "lgbmr.fit(scaled_train, y_train)\n",
    "lgbmr.score(scaled_test,y_test)\n",
    "from lightgbm import LGBMRegressor\n",
    "lgbmr= LGBMRegressor()\n",
    "evals = [(scaled_test, y_test)]\n",
    "lgbmr.fit(scaled_train, y_train,early_stopping_rounds=100, eval_metric='logloss', verbose=True, eval_set=evals)"
   ]
  },
  {
   "cell_type": "code",
   "execution_count": 172,
   "id": "589ae548",
   "metadata": {},
   "outputs": [
    {
     "ename": "NotFittedError",
     "evalue": "Estimator not fitted, call fit before exploiting the model.",
     "output_type": "error",
     "traceback": [
      "\u001b[1;31m---------------------------------------------------------------------------\u001b[0m",
      "\u001b[1;31mNotFittedError\u001b[0m                            Traceback (most recent call last)",
      "Cell \u001b[1;32mIn[172], line 1\u001b[0m\n\u001b[1;32m----> 1\u001b[0m preds \u001b[38;5;241m=\u001b[39m lgbmr\u001b[38;5;241m.\u001b[39mpredict(scaled_test)\n\u001b[0;32m      2\u001b[0m preds\n",
      "File \u001b[1;32mC:\\ProgramData\\anaconda3\\Lib\\site-packages\\lightgbm\\sklearn.py:889\u001b[0m, in \u001b[0;36mLGBMModel.predict\u001b[1;34m(self, X, raw_score, start_iteration, num_iteration, pred_leaf, pred_contrib, validate_features, **kwargs)\u001b[0m\n\u001b[0;32m    887\u001b[0m \u001b[38;5;250m\u001b[39m\u001b[38;5;124;03m\"\"\"Docstring is set after definition, using a template.\"\"\"\u001b[39;00m\n\u001b[0;32m    888\u001b[0m \u001b[38;5;28;01mif\u001b[39;00m \u001b[38;5;129;01mnot\u001b[39;00m \u001b[38;5;28mself\u001b[39m\u001b[38;5;241m.\u001b[39m__sklearn_is_fitted__():\n\u001b[1;32m--> 889\u001b[0m     \u001b[38;5;28;01mraise\u001b[39;00m LGBMNotFittedError(\u001b[38;5;124m\"\u001b[39m\u001b[38;5;124mEstimator not fitted, call fit before exploiting the model.\u001b[39m\u001b[38;5;124m\"\u001b[39m)\n\u001b[0;32m    890\u001b[0m \u001b[38;5;28;01mif\u001b[39;00m \u001b[38;5;129;01mnot\u001b[39;00m \u001b[38;5;28misinstance\u001b[39m(X, (pd_DataFrame, dt_DataTable)):\n\u001b[0;32m    891\u001b[0m     X \u001b[38;5;241m=\u001b[39m _LGBMCheckArray(X, accept_sparse\u001b[38;5;241m=\u001b[39m\u001b[38;5;28;01mTrue\u001b[39;00m, force_all_finite\u001b[38;5;241m=\u001b[39m\u001b[38;5;28;01mFalse\u001b[39;00m)\n",
      "\u001b[1;31mNotFittedError\u001b[0m: Estimator not fitted, call fit before exploiting the model."
     ]
    }
   ],
   "source": [
    "preds = lgbmr.predict(scaled_test)\n",
    "preds"
   ]
  },
  {
   "cell_type": "code",
   "execution_count": 173,
   "id": "9ac8db65",
   "metadata": {},
   "outputs": [],
   "source": [
    "import numpy as np # Linear algebra.\n",
    "import pandas as pd # Data processing.\n",
    "import matplotlib.pyplot as plt # Visualize\n",
    "import math\n",
    "from keras.models import Sequential # Create Model\n",
    "from keras.layers import Dense # Neurons\n",
    "from keras.layers import LSTM # Long Short Term Memory\n",
    "from sklearn.preprocessing import MinMaxScaler # Normalize\n",
    "from sklearn.metrics import mean_squared_error # Loss Function\n",
    "from sklearn.model_selection import train_test_split"
   ]
  },
  {
   "cell_type": "code",
   "execution_count": 174,
   "id": "8b95efb9",
   "metadata": {},
   "outputs": [
    {
     "data": {
      "image/png": "[encoded data removed]",
      "text/plain": [
       "<Figure size 640x480 with 1 Axes>"
      ]
     },
     "metadata": {},
     "output_type": "display_data"
    }
   ],
   "source": [
    "data = pd.read_csv(\"Coca-Cola_stock_history.csv\") # Import data\n",
    "df = data.iloc[:,1].values # We use \"Open\" column.\n",
    "plt.plot(df)\n",
    "plt.xlabel(\"Time\")\n",
    "plt.ylabel(\"Open\")\n",
    "plt.show()"
   ]
  },
  {
   "cell_type": "code",
   "execution_count": 175,
   "id": "129325b8",
   "metadata": {},
   "outputs": [
    {
     "data": {
      "text/plain": [
       "0.9999999999999999"
      ]
     },
     "execution_count": 175,
     "metadata": {},
     "output_type": "execute_result"
    }
   ],
   "source": [
    "df = df.reshape(-1,1)\n",
    "\n",
    "scaler = MinMaxScaler(feature_range = (0,1)) # Normalize data\n",
    "df = scaler.fit_transform(df)\n",
    "np.max(df)"
   ]
  },
  {
   "cell_type": "code",
   "execution_count": 176,
   "id": "4547a8fd",
   "metadata": {},
   "outputs": [
    {
     "name": "stdout",
     "output_type": "stream",
     "text": [
      "Train Size : 11483 Test Size : 3828\n"
     ]
    }
   ],
   "source": [
    "# Test - Train Split\n",
    "train_size = int(len(df) * 0.75) # % 75 Train\n",
    "test_size = len(df) - train_size # % 25 Test\n",
    "print(\"Train Size :\",train_size,\"Test Size :\",test_size)\n",
    "\n",
    "train = df[0:train_size,:]\n",
    "test = df[train_size:len(df),:]"
   ]
  },
  {
   "cell_type": "code",
   "execution_count": 177,
   "id": "9725edc8",
   "metadata": {},
   "outputs": [
    {
     "name": "stdout",
     "output_type": "stream",
     "text": [
      "(11472, 1, 10)\n"
     ]
    },
    {
     "data": {
      "text/plain": [
       "(3817, 1, 10)"
      ]
     },
     "execution_count": 177,
     "metadata": {},
     "output_type": "execute_result"
    }
   ],
   "source": [
    "time_stemp = 10\n",
    "\n",
    "datax = []\n",
    "datay = []\n",
    "for i in range(len(train)-time_stemp-1):\n",
    "    a = train[i:(i+time_stemp), 0]\n",
    "    datax.append(a)\n",
    "    datay.append(train[i + time_stemp, 0])\n",
    "trainx = np.array(datax)\n",
    "trainy = np.array(datay)\n",
    "\n",
    "datax = []\n",
    "datay = []\n",
    "for i in range(len(test)-time_stemp-1):\n",
    "    a = test[i:(i+time_stemp), 0]\n",
    "    datax.append(a)\n",
    "    datay.append(test[i + time_stemp, 0])\n",
    "testx = np.array(datax)\n",
    "testy = np.array(datay)\n",
    "\n",
    "trainx = np.reshape(trainx, (trainx.shape[0], 1, trainx.shape[1])) # For Keras\n",
    "testx = np.reshape(testx, (testx.shape[0], 1,testx.shape[1])) # For Keras\n",
    "print(trainx.shape)\n",
    "testx.shape"
   ]
  },
  {
   "cell_type": "code",
   "execution_count": 178,
   "id": "9f4aacb8",
   "metadata": {},
   "outputs": [
    {
     "data": {
      "application/vnd.plotly.v1+json": {
       "config": {
        "plotlyServerURL": "https://plot.ly"
       },
       "data": [
        {
         "hovertemplate": "epoch=%{x}<br>loss=%{y}<extra></extra>",
         "legendgroup": "",
         "line": {
          "color": "#636efa",
          "dash": "solid"
         },
         "marker": {
          "symbol": "circle"
         },
         "mode": "lines",
         "name": "",
         "orientation": "v",
         "showlegend": false,
         "type": "scatter",
         "x": [
          0,
          10,
          20,
          30,
          40,
          50,
          60,
          70,
          80,
          90,
          100,
          110,
          120,
          130,
          140,
          150,
          160,
          170,
          180,
          190
         ],
         "xaxis": "x",
         "y": [
          0.0022834676783531904,
          1.0667115930118598e-05,
          7.38105109121534e-06,
          5.823360879730899e-06,
          5.23555172549095e-06,
          4.7956255002645776e-06,
          4.558618002192816e-06,
          4.295030976209091e-06,
          4.0877580431697425e-06,
          4.133615675527835e-06,
          4.170085048826877e-06,
          4.025308498967206e-06,
          3.975286745117046e-06,
          4.112714123039041e-06,
          3.924075826944318e-06,
          4.027209797641262e-06,
          3.9525743886770215e-06,
          3.9191377254610416e-06,
          3.863753590849228e-06,
          3.75520585293998e-06
         ],
         "yaxis": "y"
        }
       ],
       "layout": {
        "height": 500,
        "legend": {
         "tracegroupgap": 0
        },
        "margin": {
         "t": 60
        },
        "template": {
         "data": {
          "bar": [
           {
            "error_x": {
             "color": "#2a3f5f"
            },
            "error_y": {
             "color": "#2a3f5f"
            },
            "marker": {
             "line": {
              "color": "#E5ECF6",
              "width": 0.5
             },
             "pattern": {
              "fillmode": "overlay",
              "size": 10,
              "solidity": 0.2
             }
            },
            "type": "bar"
           }
          ],
          "barpolar": [
           {
            "marker": {
             "line": {
              "color": "#E5ECF6",
              "width": 0.5
             },
             "pattern": {
              "fillmode": "overlay",
              "size": 10,
              "solidity": 0.2
             }
            },
            "type": "barpolar"
           }
          ],
          "carpet": [
           {
            "aaxis": {
             "endlinecolor": "#2a3f5f",
             "gridcolor": "white",
             "linecolor": "white",
             "minorgridcolor": "white",
             "startlinecolor": "#2a3f5f"
            },
            "baxis": {
             "endlinecolor": "#2a3f5f",
             "gridcolor": "white",
             "linecolor": "white",
             "minorgridcolor": "white",
             "startlinecolor": "#2a3f5f"
            },
            "type": "carpet"
           }
          ],
          "choropleth": [
           {
            "colorbar": {
             "outlinewidth": 0,
             "ticks": ""
            },
            "type": "choropleth"
           }
          ],
          "contour": [
           {
            "colorbar": {
             "outlinewidth": 0,
             "ticks": ""
            },
            "colorscale": [
             [
              0,
              "#0d0887"
             ],
             [
              0.1111111111111111,
              "#46039f"
             ],
             [
              0.2222222222222222,
              "#7201a8"
             ],
             [
              0.3333333333333333,
              "#9c179e"
             ],
             [
              0.4444444444444444,
              "#bd3786"
             ],
             [
              0.5555555555555556,
              "#d8576b"
             ],
             [
              0.6666666666666666,
              "#ed7953"
             ],
             [
              0.7777777777777778,
              "#fb9f3a"
             ],
             [
              0.8888888888888888,
              "#fdca26"
             ],
             [
              1,
              "#f0f921"
             ]
            ],
            "type": "contour"
           }
          ],
          "contourcarpet": [
           {
            "colorbar": {
             "outlinewidth": 0,
             "ticks": ""
            },
            "type": "contourcarpet"
           }
          ],
          "heatmap": [
           {
            "colorbar": {
             "outlinewidth": 0,
             "ticks": ""
            },
            "colorscale": [
             [
              0,
              "#0d0887"
             ],
             [
              0.1111111111111111,
              "#46039f"
             ],
             [
              0.2222222222222222,
              "#7201a8"
             ],
             [
              0.3333333333333333,
              "#9c179e"
             ],
             [
              0.4444444444444444,
              "#bd3786"
             ],
             [
              0.5555555555555556,
              "#d8576b"
             ],
             [
              0.6666666666666666,
              "#ed7953"
             ],
             [
              0.7777777777777778,
              "#fb9f3a"
             ],
             [
              0.8888888888888888,
              "#fdca26"
             ],
             [
              1,
              "#f0f921"
             ]
            ],
            "type": "heatmap"
           }
          ],
          "heatmapgl": [
           {
            "colorbar": {
             "outlinewidth": 0,
             "ticks": ""
            },
            "colorscale": [
             [
              0,
              "#0d0887"
             ],
             [
              0.1111111111111111,
              "#46039f"
             ],
             [
              0.2222222222222222,
              "#7201a8"
             ],
             [
              0.3333333333333333,
              "#9c179e"
             ],
             [
              0.4444444444444444,
              "#bd3786"
             ],
             [
              0.5555555555555556,
              "#d8576b"
             ],
             [
              0.6666666666666666,
              "#ed7953"
             ],
             [
              0.7777777777777778,
              "#fb9f3a"
             ],
             [
              0.8888888888888888,
              "#fdca26"
             ],
             [
              1,
              "#f0f921"
             ]
            ],
            "type": "heatmapgl"
           }
          ],
          "histogram": [
           {
            "marker": {
             "pattern": {
              "fillmode": "overlay",
              "size": 10,
              "solidity": 0.2
             }
            },
            "type": "histogram"
           }
          ],
          "histogram2d": [
           {
            "colorbar": {
             "outlinewidth": 0,
             "ticks": ""
            },
            "colorscale": [
             [
              0,
              "#0d0887"
             ],
             [
              0.1111111111111111,
              "#46039f"
             ],
             [
              0.2222222222222222,
              "#7201a8"
             ],
             [
              0.3333333333333333,
              "#9c179e"
             ],
             [
              0.4444444444444444,
              "#bd3786"
             ],
             [
              0.5555555555555556,
              "#d8576b"
             ],
             [
              0.6666666666666666,
              "#ed7953"
             ],
             [
              0.7777777777777778,
              "#fb9f3a"
             ],
             [
              0.8888888888888888,
              "#fdca26"
             ],
             [
              1,
              "#f0f921"
             ]
            ],
            "type": "histogram2d"
           }
          ],
          "histogram2dcontour": [
           {
            "colorbar": {
             "outlinewidth": 0,
             "ticks": ""
            },
            "colorscale": [
             [
              0,
              "#0d0887"
             ],
             [
              0.1111111111111111,
              "#46039f"
             ],
             [
              0.2222222222222222,
              "#7201a8"
             ],
             [
              0.3333333333333333,
              "#9c179e"
             ],
             [
              0.4444444444444444,
              "#bd3786"
             ],
             [
              0.5555555555555556,
              "#d8576b"
             ],
             [
              0.6666666666666666,
              "#ed7953"
             ],
             [
              0.7777777777777778,
              "#fb9f3a"
             ],
             [
              0.8888888888888888,
              "#fdca26"
             ],
             [
              1,
              "#f0f921"
             ]
            ],
            "type": "histogram2dcontour"
           }
          ],
          "mesh3d": [
           {
            "colorbar": {
             "outlinewidth": 0,
             "ticks": ""
            },
            "type": "mesh3d"
           }
          ],
          "parcoords": [
           {
            "line": {
             "colorbar": {
              "outlinewidth": 0,
              "ticks": ""
             }
            },
            "type": "parcoords"
           }
          ],
          "pie": [
           {
            "automargin": true,
            "type": "pie"
           }
          ],
          "scatter": [
           {
            "fillpattern": {
             "fillmode": "overlay",
             "size": 10,
             "solidity": 0.2
            },
            "type": "scatter"
           }
          ],
          "scatter3d": [
           {
            "line": {
             "colorbar": {
              "outlinewidth": 0,
              "ticks": ""
             }
            },
            "marker": {
             "colorbar": {
              "outlinewidth": 0,
              "ticks": ""
             }
            },
            "type": "scatter3d"
           }
          ],
          "scattercarpet": [
           {
            "marker": {
             "colorbar": {
              "outlinewidth": 0,
              "ticks": ""
             }
            },
            "type": "scattercarpet"
           }
          ],
          "scattergeo": [
           {
            "marker": {
             "colorbar": {
              "outlinewidth": 0,
              "ticks": ""
             }
            },
            "type": "scattergeo"
           }
          ],
          "scattergl": [
           {
            "marker": {
             "colorbar": {
              "outlinewidth": 0,
              "ticks": ""
             }
            },
            "type": "scattergl"
           }
          ],
          "scattermapbox": [
           {
            "marker": {
             "colorbar": {
              "outlinewidth": 0,
              "ticks": ""
             }
            },
            "type": "scattermapbox"
           }
          ],
          "scatterpolar": [
           {
            "marker": {
             "colorbar": {
              "outlinewidth": 0,
              "ticks": ""
             }
            },
            "type": "scatterpolar"
           }
          ],
          "scatterpolargl": [
           {
            "marker": {
             "colorbar": {
              "outlinewidth": 0,
              "ticks": ""
             }
            },
            "type": "scatterpolargl"
           }
          ],
          "scatterternary": [
           {
            "marker": {
             "colorbar": {
              "outlinewidth": 0,
              "ticks": ""
             }
            },
            "type": "scatterternary"
           }
          ],
          "surface": [
           {
            "colorbar": {
             "outlinewidth": 0,
             "ticks": ""
            },
            "colorscale": [
             [
              0,
              "#0d0887"
             ],
             [
              0.1111111111111111,
              "#46039f"
             ],
             [
              0.2222222222222222,
              "#7201a8"
             ],
             [
              0.3333333333333333,
              "#9c179e"
             ],
             [
              0.4444444444444444,
              "#bd3786"
             ],
             [
              0.5555555555555556,
              "#d8576b"
             ],
             [
              0.6666666666666666,
              "#ed7953"
             ],
             [
              0.7777777777777778,
              "#fb9f3a"
             ],
             [
              0.8888888888888888,
              "#fdca26"
             ],
             [
              1,
              "#f0f921"
             ]
            ],
            "type": "surface"
           }
          ],
          "table": [
           {
            "cells": {
             "fill": {
              "color": "#EBF0F8"
             },
             "line": {
              "color": "white"
             }
            },
            "header": {
             "fill": {
              "color": "#C8D4E3"
             },
             "line": {
              "color": "white"
             }
            },
            "type": "table"
           }
          ]
         },
         "layout": {
          "annotationdefaults": {
           "arrowcolor": "#2a3f5f",
           "arrowhead": 0,
           "arrowwidth": 1
          },
          "autotypenumbers": "strict",
          "coloraxis": {
           "colorbar": {
            "outlinewidth": 0,
            "ticks": ""
           }
          },
          "colorscale": {
           "diverging": [
            [
             0,
             "#8e0152"
            ],
            [
             0.1,
             "#c51b7d"
            ],
            [
             0.2,
             "#de77ae"
            ],
            [
             0.3,
             "#f1b6da"
            ],
            [
             0.4,
             "#fde0ef"
            ],
            [
             0.5,
             "#f7f7f7"
            ],
            [
             0.6,
             "#e6f5d0"
            ],
            [
             0.7,
             "#b8e186"
            ],
            [
             0.8,
             "#7fbc41"
            ],
            [
             0.9,
             "#4d9221"
            ],
            [
             1,
             "#276419"
            ]
           ],
           "sequential": [
            [
             0,
             "#0d0887"
            ],
            [
             0.1111111111111111,
             "#46039f"
            ],
            [
             0.2222222222222222,
             "#7201a8"
            ],
            [
             0.3333333333333333,
             "#9c179e"
            ],
            [
             0.4444444444444444,
             "#bd3786"
            ],
            [
             0.5555555555555556,
             "#d8576b"
            ],
            [
             0.6666666666666666,
             "#ed7953"
            ],
            [
             0.7777777777777778,
             "#fb9f3a"
            ],
            [
             0.8888888888888888,
             "#fdca26"
            ],
            [
             1,
             "#f0f921"
            ]
           ],
           "sequentialminus": [
            [
             0,
             "#0d0887"
            ],
            [
             0.1111111111111111,
             "#46039f"
            ],
            [
             0.2222222222222222,
             "#7201a8"
            ],
            [
             0.3333333333333333,
             "#9c179e"
            ],
            [
             0.4444444444444444,
             "#bd3786"
            ],
            [
             0.5555555555555556,
             "#d8576b"
            ],
            [
             0.6666666666666666,
             "#ed7953"
            ],
            [
             0.7777777777777778,
             "#fb9f3a"
            ],
            [
             0.8888888888888888,
             "#fdca26"
            ],
            [
             1,
             "#f0f921"
            ]
           ]
          },
          "colorway": [
           "#636efa",
           "#EF553B",
           "#00cc96",
           "#ab63fa",
           "#FFA15A",
           "#19d3f3",
           "#FF6692",
           "#B6E880",
           "#FF97FF",
           "#FECB52"
          ],
          "font": {
           "color": "#2a3f5f"
          },
          "geo": {
           "bgcolor": "white",
           "lakecolor": "white",
           "landcolor": "#E5ECF6",
           "showlakes": true,
           "showland": true,
           "subunitcolor": "white"
          },
          "hoverlabel": {
           "align": "left"
          },
          "hovermode": "closest",
          "mapbox": {
           "style": "light"
          },
          "paper_bgcolor": "white",
          "plot_bgcolor": "#E5ECF6",
          "polar": {
           "angularaxis": {
            "gridcolor": "white",
            "linecolor": "white",
            "ticks": ""
           },
           "bgcolor": "#E5ECF6",
           "radialaxis": {
            "gridcolor": "white",
            "linecolor": "white",
            "ticks": ""
           }
          },
          "scene": {
           "xaxis": {
            "backgroundcolor": "#E5ECF6",
            "gridcolor": "white",
            "gridwidth": 2,
            "linecolor": "white",
            "showbackground": true,
            "ticks": "",
            "zerolinecolor": "white"
           },
           "yaxis": {
            "backgroundcolor": "#E5ECF6",
            "gridcolor": "white",
            "gridwidth": 2,
            "linecolor": "white",
            "showbackground": true,
            "ticks": "",
            "zerolinecolor": "white"
           },
           "zaxis": {
            "backgroundcolor": "#E5ECF6",
            "gridcolor": "white",
            "gridwidth": 2,
            "linecolor": "white",
            "showbackground": true,
            "ticks": "",
            "zerolinecolor": "white"
           }
          },
          "shapedefaults": {
           "line": {
            "color": "#2a3f5f"
           }
          },
          "ternary": {
           "aaxis": {
            "gridcolor": "white",
            "linecolor": "white",
            "ticks": ""
           },
           "baxis": {
            "gridcolor": "white",
            "linecolor": "white",
            "ticks": ""
           },
           "bgcolor": "#E5ECF6",
           "caxis": {
            "gridcolor": "white",
            "linecolor": "white",
            "ticks": ""
           }
          },
          "title": {
           "x": 0.05
          },
          "xaxis": {
           "automargin": true,
           "gridcolor": "white",
           "linecolor": "white",
           "ticks": "",
           "title": {
            "standoff": 15
           },
           "zerolinecolor": "white",
           "zerolinewidth": 2
          },
          "yaxis": {
           "automargin": true,
           "gridcolor": "white",
           "linecolor": "white",
           "ticks": "",
           "title": {
            "standoff": 15
           },
           "zerolinecolor": "white",
           "zerolinewidth": 2
          }
         }
        },
        "width": 1200,
        "xaxis": {
         "anchor": "y",
         "domain": [
          0,
          1
         ],
         "title": {
          "text": "epoch"
         }
        },
        "yaxis": {
         "anchor": "x",
         "domain": [
          0,
          1
         ],
         "title": {
          "text": "loss"
         }
        }
       }
      },
      "text/html": [
       "<div>                            <div id=\"ac61a870-ac52-4171-a8f2-80495192a40c\" class=\"plotly-graph-div\" style=\"height:500px; width:1200px;\"></div>            <script type=\"text/javascript\">                require([\"plotly\"], function(Plotly) {                    window.PLOTLYENV=window.PLOTLYENV || {};                                    if (document.getElementById(\"ac61a870-ac52-4171-a8f2-80495192a40c\")) {                    Plotly.newPlot(                        \"ac61a870-ac52-4171-a8f2-80495192a40c\",                        [{\"hovertemplate\":\"epoch=%{x}<br>loss=%{y}<extra></extra>\",\"legendgroup\":\"\",\"line\":{\"color\":\"#636efa\",\"dash\":\"solid\"},\"marker\":{\"symbol\":\"circle\"},\"mode\":\"lines\",\"name\":\"\",\"orientation\":\"v\",\"showlegend\":false,\"x\":[0,10,20,30,40,50,60,70,80,90,100,110,120,130,140,150,160,170,180,190],\"xaxis\":\"x\",\"y\":[0.0022834676783531904,1.0667115930118598e-05,7.38105109121534e-06,5.823360879730899e-06,5.23555172549095e-06,4.7956255002645776e-06,4.558618002192816e-06,4.295030976209091e-06,4.0877580431697425e-06,4.133615675527835e-06,4.170085048826877e-06,4.025308498967206e-06,3.975286745117046e-06,4.112714123039041e-06,3.924075826944318e-06,4.027209797641262e-06,3.9525743886770215e-06,3.9191377254610416e-06,3.863753590849228e-06,3.75520585293998e-06],\"yaxis\":\"y\",\"type\":\"scatter\"}],                        {\"template\":{\"data\":{\"histogram2dcontour\":[{\"type\":\"histogram2dcontour\",\"colorbar\":{\"outlinewidth\":0,\"ticks\":\"\"},\"colorscale\":[[0.0,\"#0d0887\"],[0.1111111111111111,\"#46039f\"],[0.2222222222222222,\"#7201a8\"],[0.3333333333333333,\"#9c179e\"],[0.4444444444444444,\"#bd3786\"],[0.5555555555555556,\"#d8576b\"],[0.6666666666666666,\"#ed7953\"],[0.7777777777777778,\"#fb9f3a\"],[0.8888888888888888,\"#fdca26\"],[1.0,\"#f0f921\"]]}],\"choropleth\":[{\"type\":\"choropleth\",\"colorbar\":{\"outlinewidth\":0,\"ticks\":\"\"}}],\"histogram2d\":[{\"type\":\"histogram2d\",\"colorbar\":{\"outlinewidth\":0,\"ticks\":\"\"},\"colorscale\":[[0.0,\"#0d0887\"],[0.1111111111111111,\"#46039f\"],[0.2222222222222222,\"#7201a8\"],[0.3333333333333333,\"#9c179e\"],[0.4444444444444444,\"#bd3786\"],[0.5555555555555556,\"#d8576b\"],[0.6666666666666666,\"#ed7953\"],[0.7777777777777778,\"#fb9f3a\"],[0.8888888888888888,\"#fdca26\"],[1.0,\"#f0f921\"]]}],\"heatmap\":[{\"type\":\"heatmap\",\"colorbar\":{\"outlinewidth\":0,\"ticks\":\"\"},\"colorscale\":[[0.0,\"#0d0887\"],[0.1111111111111111,\"#46039f\"],[0.2222222222222222,\"#7201a8\"],[0.3333333333333333,\"#9c179e\"],[0.4444444444444444,\"#bd3786\"],[0.5555555555555556,\"#d8576b\"],[0.6666666666666666,\"#ed7953\"],[0.7777777777777778,\"#fb9f3a\"],[0.8888888888888888,\"#fdca26\"],[1.0,\"#f0f921\"]]}],\"heatmapgl\":[{\"type\":\"heatmapgl\",\"colorbar\":{\"outlinewidth\":0,\"ticks\":\"\"},\"colorscale\":[[0.0,\"#0d0887\"],[0.1111111111111111,\"#46039f\"],[0.2222222222222222,\"#7201a8\"],[0.3333333333333333,\"#9c179e\"],[0.4444444444444444,\"#bd3786\"],[0.5555555555555556,\"#d8576b\"],[0.6666666666666666,\"#ed7953\"],[0.7777777777777778,\"#fb9f3a\"],[0.8888888888888888,\"#fdca26\"],[1.0,\"#f0f921\"]]}],\"contourcarpet\":[{\"type\":\"contourcarpet\",\"colorbar\":{\"outlinewidth\":0,\"ticks\":\"\"}}],\"contour\":[{\"type\":\"contour\",\"colorbar\":{\"outlinewidth\":0,\"ticks\":\"\"},\"colorscale\":[[0.0,\"#0d0887\"],[0.1111111111111111,\"#46039f\"],[0.2222222222222222,\"#7201a8\"],[0.3333333333333333,\"#9c179e\"],[0.4444444444444444,\"#bd3786\"],[0.5555555555555556,\"#d8576b\"],[0.6666666666666666,\"#ed7953\"],[0.7777777777777778,\"#fb9f3a\"],[0.8888888888888888,\"#fdca26\"],[1.0,\"#f0f921\"]]}],\"surface\":[{\"type\":\"surface\",\"colorbar\":{\"outlinewidth\":0,\"ticks\":\"\"},\"colorscale\":[[0.0,\"#0d0887\"],[0.1111111111111111,\"#46039f\"],[0.2222222222222222,\"#7201a8\"],[0.3333333333333333,\"#9c179e\"],[0.4444444444444444,\"#bd3786\"],[0.5555555555555556,\"#d8576b\"],[0.6666666666666666,\"#ed7953\"],[0.7777777777777778,\"#fb9f3a\"],[0.8888888888888888,\"#fdca26\"],[1.0,\"#f0f921\"]]}],\"mesh3d\":[{\"type\":\"mesh3d\",\"colorbar\":{\"outlinewidth\":0,\"ticks\":\"\"}}],\"scatter\":[{\"fillpattern\":{\"fillmode\":\"overlay\",\"size\":10,\"solidity\":0.2},\"type\":\"scatter\"}],\"parcoords\":[{\"type\":\"parcoords\",\"line\":{\"colorbar\":{\"outlinewidth\":0,\"ticks\":\"\"}}}],\"scatterpolargl\":[{\"type\":\"scatterpolargl\",\"marker\":{\"colorbar\":{\"outlinewidth\":0,\"ticks\":\"\"}}}],\"bar\":[{\"error_x\":{\"color\":\"#2a3f5f\"},\"error_y\":{\"color\":\"#2a3f5f\"},\"marker\":{\"line\":{\"color\":\"#E5ECF6\",\"width\":0.5},\"pattern\":{\"fillmode\":\"overlay\",\"size\":10,\"solidity\":0.2}},\"type\":\"bar\"}],\"scattergeo\":[{\"type\":\"scattergeo\",\"marker\":{\"colorbar\":{\"outlinewidth\":0,\"ticks\":\"\"}}}],\"scatterpolar\":[{\"type\":\"scatterpolar\",\"marker\":{\"colorbar\":{\"outlinewidth\":0,\"ticks\":\"\"}}}],\"histogram\":[{\"marker\":{\"pattern\":{\"fillmode\":\"overlay\",\"size\":10,\"solidity\":0.2}},\"type\":\"histogram\"}],\"scattergl\":[{\"type\":\"scattergl\",\"marker\":{\"colorbar\":{\"outlinewidth\":0,\"ticks\":\"\"}}}],\"scatter3d\":[{\"type\":\"scatter3d\",\"line\":{\"colorbar\":{\"outlinewidth\":0,\"ticks\":\"\"}},\"marker\":{\"colorbar\":{\"outlinewidth\":0,\"ticks\":\"\"}}}],\"scattermapbox\":[{\"type\":\"scattermapbox\",\"marker\":{\"colorbar\":{\"outlinewidth\":0,\"ticks\":\"\"}}}],\"scatterternary\":[{\"type\":\"scatterternary\",\"marker\":{\"colorbar\":{\"outlinewidth\":0,\"ticks\":\"\"}}}],\"scattercarpet\":[{\"type\":\"scattercarpet\",\"marker\":{\"colorbar\":{\"outlinewidth\":0,\"ticks\":\"\"}}}],\"carpet\":[{\"aaxis\":{\"endlinecolor\":\"#2a3f5f\",\"gridcolor\":\"white\",\"linecolor\":\"white\",\"minorgridcolor\":\"white\",\"startlinecolor\":\"#2a3f5f\"},\"baxis\":{\"endlinecolor\":\"#2a3f5f\",\"gridcolor\":\"white\",\"linecolor\":\"white\",\"minorgridcolor\":\"white\",\"startlinecolor\":\"#2a3f5f\"},\"type\":\"carpet\"}],\"table\":[{\"cells\":{\"fill\":{\"color\":\"#EBF0F8\"},\"line\":{\"color\":\"white\"}},\"header\":{\"fill\":{\"color\":\"#C8D4E3\"},\"line\":{\"color\":\"white\"}},\"type\":\"table\"}],\"barpolar\":[{\"marker\":{\"line\":{\"color\":\"#E5ECF6\",\"width\":0.5},\"pattern\":{\"fillmode\":\"overlay\",\"size\":10,\"solidity\":0.2}},\"type\":\"barpolar\"}],\"pie\":[{\"automargin\":true,\"type\":\"pie\"}]},\"layout\":{\"autotypenumbers\":\"strict\",\"colorway\":[\"#636efa\",\"#EF553B\",\"#00cc96\",\"#ab63fa\",\"#FFA15A\",\"#19d3f3\",\"#FF6692\",\"#B6E880\",\"#FF97FF\",\"#FECB52\"],\"font\":{\"color\":\"#2a3f5f\"},\"hovermode\":\"closest\",\"hoverlabel\":{\"align\":\"left\"},\"paper_bgcolor\":\"white\",\"plot_bgcolor\":\"#E5ECF6\",\"polar\":{\"bgcolor\":\"#E5ECF6\",\"angularaxis\":{\"gridcolor\":\"white\",\"linecolor\":\"white\",\"ticks\":\"\"},\"radialaxis\":{\"gridcolor\":\"white\",\"linecolor\":\"white\",\"ticks\":\"\"}},\"ternary\":{\"bgcolor\":\"#E5ECF6\",\"aaxis\":{\"gridcolor\":\"white\",\"linecolor\":\"white\",\"ticks\":\"\"},\"baxis\":{\"gridcolor\":\"white\",\"linecolor\":\"white\",\"ticks\":\"\"},\"caxis\":{\"gridcolor\":\"white\",\"linecolor\":\"white\",\"ticks\":\"\"}},\"coloraxis\":{\"colorbar\":{\"outlinewidth\":0,\"ticks\":\"\"}},\"colorscale\":{\"sequential\":[[0.0,\"#0d0887\"],[0.1111111111111111,\"#46039f\"],[0.2222222222222222,\"#7201a8\"],[0.3333333333333333,\"#9c179e\"],[0.4444444444444444,\"#bd3786\"],[0.5555555555555556,\"#d8576b\"],[0.6666666666666666,\"#ed7953\"],[0.7777777777777778,\"#fb9f3a\"],[0.8888888888888888,\"#fdca26\"],[1.0,\"#f0f921\"]],\"sequentialminus\":[[0.0,\"#0d0887\"],[0.1111111111111111,\"#46039f\"],[0.2222222222222222,\"#7201a8\"],[0.3333333333333333,\"#9c179e\"],[0.4444444444444444,\"#bd3786\"],[0.5555555555555556,\"#d8576b\"],[0.6666666666666666,\"#ed7953\"],[0.7777777777777778,\"#fb9f3a\"],[0.8888888888888888,\"#fdca26\"],[1.0,\"#f0f921\"]],\"diverging\":[[0,\"#8e0152\"],[0.1,\"#c51b7d\"],[0.2,\"#de77ae\"],[0.3,\"#f1b6da\"],[0.4,\"#fde0ef\"],[0.5,\"#f7f7f7\"],[0.6,\"#e6f5d0\"],[0.7,\"#b8e186\"],[0.8,\"#7fbc41\"],[0.9,\"#4d9221\"],[1,\"#276419\"]]},\"xaxis\":{\"gridcolor\":\"white\",\"linecolor\":\"white\",\"ticks\":\"\",\"title\":{\"standoff\":15},\"zerolinecolor\":\"white\",\"automargin\":true,\"zerolinewidth\":2},\"yaxis\":{\"gridcolor\":\"white\",\"linecolor\":\"white\",\"ticks\":\"\",\"title\":{\"standoff\":15},\"zerolinecolor\":\"white\",\"automargin\":true,\"zerolinewidth\":2},\"scene\":{\"xaxis\":{\"backgroundcolor\":\"#E5ECF6\",\"gridcolor\":\"white\",\"linecolor\":\"white\",\"showbackground\":true,\"ticks\":\"\",\"zerolinecolor\":\"white\",\"gridwidth\":2},\"yaxis\":{\"backgroundcolor\":\"#E5ECF6\",\"gridcolor\":\"white\",\"linecolor\":\"white\",\"showbackground\":true,\"ticks\":\"\",\"zerolinecolor\":\"white\",\"gridwidth\":2},\"zaxis\":{\"backgroundcolor\":\"#E5ECF6\",\"gridcolor\":\"white\",\"linecolor\":\"white\",\"showbackground\":true,\"ticks\":\"\",\"zerolinecolor\":\"white\",\"gridwidth\":2}},\"shapedefaults\":{\"line\":{\"color\":\"#2a3f5f\"}},\"annotationdefaults\":{\"arrowcolor\":\"#2a3f5f\",\"arrowhead\":0,\"arrowwidth\":1},\"geo\":{\"bgcolor\":\"white\",\"landcolor\":\"#E5ECF6\",\"subunitcolor\":\"white\",\"showland\":true,\"showlakes\":true,\"lakecolor\":\"white\"},\"title\":{\"x\":0.05},\"mapbox\":{\"style\":\"light\"}}},\"xaxis\":{\"anchor\":\"y\",\"domain\":[0.0,1.0],\"title\":{\"text\":\"epoch\"}},\"yaxis\":{\"anchor\":\"x\",\"domain\":[0.0,1.0],\"title\":{\"text\":\"loss\"}},\"legend\":{\"tracegroupgap\":0},\"margin\":{\"t\":60},\"height\":500,\"width\":1200},                        {\"responsive\": true}                    ).then(function(){\n",
       "                            \n",
       "var gd = document.getElementById('ac61a870-ac52-4171-a8f2-80495192a40c');\n",
       "var x = new MutationObserver(function (mutations, observer) {{\n",
       "        var display = window.getComputedStyle(gd).display;\n",
       "        if (!display || display === 'none') {{\n",
       "            console.log([gd, 'removed!']);\n",
       "            Plotly.purge(gd);\n",
       "            observer.disconnect();\n",
       "        }}\n",
       "}});\n",
       "\n",
       "// Listen for the removal of the full notebook cells\n",
       "var notebookContainer = gd.closest('#notebook-container');\n",
       "if (notebookContainer) {{\n",
       "    x.observe(notebookContainer, {childList: true});\n",
       "}}\n",
       "\n",
       "// Listen for the clearing of the current output cell\n",
       "var outputEl = gd.closest('.output');\n",
       "if (outputEl) {{\n",
       "    x.observe(outputEl, {childList: true});\n",
       "}}\n",
       "\n",
       "                        })                };                });            </script>        </div>"
      ]
     },
     "metadata": {},
     "output_type": "display_data"
    }
   ],
   "source": [
    "epochs = 200\n",
    "model = Sequential()\n",
    "model.add(LSTM(10, input_shape = (1, time_stemp)))\n",
    "model.add(Dense(1)) # Output Layer\n",
    "model.compile(loss = \"mean_squared_error\", optimizer = \"adam\")\n",
    "history = model.fit(trainx,trainy, epochs = epochs, batch_size = 50, verbose=0)\n",
    "\n",
    "epoch = np.arange(0, epochs, 10)\n",
    "losses = []\n",
    "for i in epoch:\n",
    "    if i % 10 == 0:\n",
    "        losses.append(history.history[\"loss\"][i])\n",
    "        \n",
    "data = {\"epoch\":epoch,\"loss\":losses}\n",
    "data = pd.DataFrame(data) # Create dataframe for visualize with plotly\n",
    "\n",
    "# Visualize\n",
    "import plotly.express as px\n",
    "\n",
    "fig = px.line(data,x=\"epoch\",y=\"loss\",width = 1200, height = 500)\n",
    "fig.show()"
   ]
  },
  {
   "cell_type": "code",
   "execution_count": 179,
   "id": "57e85ad0",
   "metadata": {},
   "outputs": [
    {
     "name": "stdout",
     "output_type": "stream",
     "text": [
      "359/359 [==============================] - 1s 1ms/step\n",
      "120/120 [==============================] - 0s 1ms/step\n",
      "Train Score :  0 RMSE\n",
      "Test Score :  1 RMSE\n"
     ]
    }
   ],
   "source": [
    "train_predict = model.predict(trainx)\n",
    "test_predict = model.predict(testx)\n",
    "\n",
    "train_predict = scaler.inverse_transform(train_predict)\n",
    "test_predict = scaler.inverse_transform(test_predict)\n",
    "trainy = scaler.inverse_transform([trainy])\n",
    "testy = scaler.inverse_transform([testy])\n",
    "\n",
    "train_score = math.sqrt(mean_squared_error(trainy[0], train_predict[:,0])) # mean_squared_error -> Loss Function\n",
    "print(\"Train Score : %2.f RMSE\" % (train_score))\n",
    "test_score = math.sqrt(mean_squared_error(testy[0], test_predict[:,0]))\n",
    "print(\"Test Score : %2.f RMSE\" % (test_score))"
   ]
  },
  {
   "cell_type": "code",
   "execution_count": 180,
   "id": "8fcbac7c",
   "metadata": {},
   "outputs": [
    {
     "data": {
      "image/png": "[encoded data removed]",
      "text/plain": [
       "<Figure size 640x480 with 1 Axes>"
      ]
     },
     "metadata": {},
     "output_type": "display_data"
    }
   ],
   "source": [
    "train_predict_plot = np.empty_like(df)\n",
    "train_predict_plot[:,:] = np.nan\n",
    "train_predict_plot[time_stemp:len(train_predict)+time_stemp, :] = train_predict\n",
    "\n",
    "test_predict_plot = np.empty_like(df)\n",
    "test_predict_plot[:, :] = np.nan\n",
    "test_predict_plot[len(train_predict)+(time_stemp*2)+1:len(df)-1, :] = test_predict\n",
    "\n",
    "plt.plot(scaler.inverse_transform(df),color = \"red\",label = \"Real\")\n",
    "plt.plot(train_predict_plot,label = \"Train Predict\",color = \"yellow\",alpha = 0.7)\n",
    "plt.plot(test_predict_plot,label = \"Test Predict\",color = \"green\", alpha = 0.7)\n",
    "plt.legend()\n",
    "plt.xlabel(\"Day\")\n",
    "plt.ylabel(\"Open Value\")\n",
    "plt.show()"
   ]
  },
  {
   "cell_type": "code",
   "execution_count": null,
   "id": "390d082c",
   "metadata": {},
   "outputs": [],
   "source": []
  }
 ],
 "metadata": {
  "kernelspec": {
   "display_name": "Python 3 (ipykernel)",
   "language": "python",
   "name": "python3"
  },
  "language_info": {
   "codemirror_mode": {
    "name": "ipython",
    "version": 3
   },
   "file_extension": ".py",
   "mimetype": "text/x-python",
   "name": "python",
   "nbconvert_exporter": "python",
   "pygments_lexer": "ipython3",
   "version": "3.11.3"
  }
 },
 "nbformat": 4,
 "nbformat_minor": 5
}
