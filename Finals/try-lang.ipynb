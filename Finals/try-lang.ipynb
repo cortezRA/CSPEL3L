{
 "cells": [
  {
   "cell_type": "code",
   "execution_count": 1,
   "id": "7b5a16ed",
   "metadata": {},
   "outputs": [],
   "source": [
    "import pandas as pd\n",
    "import numpy as np\n",
    "import matplotlib.pyplot as plt\n",
    "import statsmodels.graphics.tsaplots as sgt\n",
    "import statsmodels.tsa.stattools as sts\n",
    "from statsmodels.tsa.arima.model import ARIMA\n",
    "from scipy.stats.distributions import chi2\n",
    "import seaborn as sns\n",
    "sns.set()"
   ]
  },
  {
   "cell_type": "code",
   "execution_count": 2,
   "id": "73df96d8",
   "metadata": {},
   "outputs": [],
   "source": [
    "raw_data = pd.read_csv(\"Coca-Cola_stock_history.csv\")\n",
    "df_fullstock = raw_data.copy()\n",
    "df_fullstock.Date = pd.to_datetime(df_fullstock.Date, dayfirst=True)\n",
    "df_fullstock.set_index(\"Date\", inplace=True)\n",
    "df_fullstock = df_fullstock.asfreq('b')\n",
    "df_fullstock['stock_high'] = df_fullstock.High\n",
    "size = int(len(df_fullstock)*0.8)\n",
    "df, df_test = df_fullstock.iloc[:size], df_fullstock.iloc[size:]"
   ]
  },
  {
   "cell_type": "code",
   "execution_count": 3,
   "id": "72be99ad",
   "metadata": {},
   "outputs": [
    {
     "data": {
      "text/plain": [
       "(-0.03796214829634519,\n",
       " 0.9552777628603064,\n",
       " 31,\n",
       " 8717,\n",
       " {'1%': -3.431100398842246,\n",
       "  '5%': -2.861871626275611,\n",
       "  '10%': -2.566946519702179},\n",
       " -9300.889215044168)"
      ]
     },
     "execution_count": 3,
     "metadata": {},
     "output_type": "execute_result"
    }
   ],
   "source": [
    "sts.adfuller(df.stock_high)"
   ]
  },
  {
   "cell_type": "code",
   "execution_count": 4,
   "id": "3a35702a",
   "metadata": {},
   "outputs": [
    {
     "data": {
      "text/plain": [
       "'\\nInterpretation:\\nBased on the p-value (0.9552777628603064), \\nwhich is much higher than the common significance levels (1%, 5%, and 10%), \\nwe fail to reject the null hypothesis. \\nTherefore, the data is likely nonstationary, meaning it exhibits changes in its statistical properties over time.\\n\\nTo make the data stationary, you might need to apply transformations like differencing or seasonal differencing \\nto remove trends and seasonality, and then re-run the ADF test to confirm stationarity.\\n'"
      ]
     },
     "execution_count": 4,
     "metadata": {},
     "output_type": "execute_result"
    }
   ],
   "source": [
    "\"\"\"\n",
    "Interpretation:\n",
    "Based on the p-value (0.9552777628603064), \n",
    "which is much higher than the common significance levels (1%, 5%, and 10%), \n",
    "we fail to reject the null hypothesis. \n",
    "Therefore, the data is likely nonstationary, meaning it exhibits changes in its statistical properties over time.\n",
    "\n",
    "To make the data stationary, you might need to apply transformations like differencing or seasonal differencing \n",
    "to remove trends and seasonality, and then re-run the ADF test to confirm stationarity.\n",
    "\"\"\""
   ]
  },
  {
   "cell_type": "code",
   "execution_count": 13,
   "id": "a1f80c40",
   "metadata": {},
   "outputs": [
    {
     "name": "stderr",
     "output_type": "stream",
     "text": [
      "C:\\Users\\Ryan Abe Cortez\\AppData\\Local\\Temp\\ipykernel_24756\\3466885274.py:1: SettingWithCopyWarning: \n",
      "A value is trying to be set on a copy of a slice from a DataFrame.\n",
      "Try using .loc[row_indexer,col_indexer] = value instead\n",
      "\n",
      "See the caveats in the documentation: https://pandas.pydata.org/pandas-docs/stable/user_guide/indexing.html#returning-a-view-versus-a-copy\n",
      "  df['stock_high_diff'] = df['stock_high'].diff()\n"
     ]
    }
   ],
   "source": [
    "df['stock_high_diff'] = df['stock_high'].diff()"
   ]
  },
  {
   "cell_type": "code",
   "execution_count": 15,
   "id": "323fea52",
   "metadata": {},
   "outputs": [
    {
     "name": "stderr",
     "output_type": "stream",
     "text": [
      "C:\\Users\\Ryan Abe Cortez\\AppData\\Local\\Temp\\ipykernel_24756\\1405705128.py:1: SettingWithCopyWarning: \n",
      "A value is trying to be set on a copy of a slice from a DataFrame.\n",
      "Try using .loc[row_indexer,col_indexer] = value instead\n",
      "\n",
      "See the caveats in the documentation: https://pandas.pydata.org/pandas-docs/stable/user_guide/indexing.html#returning-a-view-versus-a-copy\n",
      "  df.stock_high_diff = df.stock_high_diff.fillna(method=\"bfill\")\n"
     ]
    },
    {
     "data": {
      "text/plain": [
       "(-18.097407165556046,\n",
       " 2.5595342636057484e-30,\n",
       " 30,\n",
       " 8718,\n",
       " {'1%': -3.431100312742227,\n",
       "  '5%': -2.861871588229946,\n",
       "  '10%': -2.56694649945021},\n",
       " -9302.887711852643)"
      ]
     },
     "execution_count": 15,
     "metadata": {},
     "output_type": "execute_result"
    }
   ],
   "source": [
    "df.stock_high_diff = df.stock_high_diff.fillna(method=\"bfill\")\n",
    "sts.adfuller(df.stock_high_diff)"
   ]
  },
  {
   "cell_type": "code",
   "execution_count": null,
   "id": "cdf54df7",
   "metadata": {},
   "outputs": [],
   "source": [
    "#Returns\n",
    "#Diff"
   ]
  }
 ],
 "metadata": {
  "kernelspec": {
   "display_name": "Python 3 (ipykernel)",
   "language": "python",
   "name": "python3"
  },
  "language_info": {
   "codemirror_mode": {
    "name": "ipython",
    "version": 3
   },
   "file_extension": ".py",
   "mimetype": "text/x-python",
   "name": "python",
   "nbconvert_exporter": "python",
   "pygments_lexer": "ipython3",
   "version": "3.11.3"
  }
 },
 "nbformat": 4,
 "nbformat_minor": 5
}
